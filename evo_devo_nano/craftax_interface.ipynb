{
 "cells": [
  {
   "cell_type": "code",
   "id": "initial_id",
   "metadata": {
    "collapsed": true,
    "ExecuteTime": {
     "end_time": "2025-02-19T04:49:31.648495Z",
     "start_time": "2025-02-19T04:49:31.644969Z"
    }
   },
   "source": [
    "from jax import random\n",
    "from jax import numpy as jnp\n",
    "from craftax import craftax_env\n",
    "import gymnax\n",
    "import numpy as np\n",
    "from PIL import Image\n",
    "from tqdm import tqdm"
   ],
   "outputs": [],
   "execution_count": 24
  },
  {
   "metadata": {
    "ExecuteTime": {
     "end_time": "2025-02-19T04:02:36.323436Z",
     "start_time": "2025-02-19T04:02:36.318694Z"
    }
   },
   "cell_type": "code",
   "source": "gymnax.environments",
   "id": "a85ab5aba239730a",
   "outputs": [
    {
     "data": {
      "text/plain": [
       "<module 'gymnax.environments' from '/opt/homebrew/Caskroom/miniforge/base/envs/rl/lib/python3.9/site-packages/gymnax/environments/__init__.py'>"
      ]
     },
     "execution_count": 2,
     "metadata": {},
     "output_type": "execute_result"
    }
   ],
   "execution_count": 2
  },
  {
   "metadata": {},
   "cell_type": "markdown",
   "source": "# Full Env",
   "id": "9872ce85094910d7"
  },
  {
   "metadata": {
    "ExecuteTime": {
     "end_time": "2025-02-19T04:02:39.151852Z",
     "start_time": "2025-02-19T04:02:36.356703Z"
    }
   },
   "cell_type": "code",
   "source": "env = craftax_env.make_craftax_env_from_params(classic=False, symbolic=False, auto_reset=True)",
   "id": "30d9528e650b7afe",
   "outputs": [
    {
     "name": "stdout",
     "output_type": "stream",
     "text": [
      "Loading Craftax textures from cache.\n",
      "Textures successfully loaded from cache.\n"
     ]
    }
   ],
   "execution_count": 3
  },
  {
   "metadata": {
    "ExecuteTime": {
     "end_time": "2025-02-19T04:02:39.161864Z",
     "start_time": "2025-02-19T04:02:39.159347Z"
    }
   },
   "cell_type": "code",
   "source": "env.static_env_params",
   "id": "ff07306814b2e1a0",
   "outputs": [
    {
     "data": {
      "text/plain": [
       "StaticEnvParams(map_size=(48, 48), num_levels=9, max_melee_mobs=3, max_passive_mobs=3, max_growing_plants=10, max_ranged_mobs=2, max_mob_projectiles=3, max_player_projectiles=3)"
      ]
     },
     "execution_count": 4,
     "metadata": {},
     "output_type": "execute_result"
    }
   ],
   "execution_count": 4
  },
  {
   "metadata": {
    "ExecuteTime": {
     "end_time": "2025-02-19T04:02:39.180511Z",
     "start_time": "2025-02-19T04:02:39.166897Z"
    }
   },
   "cell_type": "code",
   "source": [
    "key = random.key(0)\n",
    "key"
   ],
   "id": "cc002c92d3af86a8",
   "outputs": [
    {
     "data": {
      "text/plain": [
       "Array((), dtype=key<fry>) overlaying:\n",
       "[0 0]"
      ]
     },
     "execution_count": 5,
     "metadata": {},
     "output_type": "execute_result"
    }
   ],
   "execution_count": 5
  },
  {
   "metadata": {
    "ExecuteTime": {
     "end_time": "2025-02-19T04:02:39.189205Z",
     "start_time": "2025-02-19T04:02:39.186194Z"
    }
   },
   "cell_type": "code",
   "source": [
    "obs_space = env.observation_space(env.static_env_params)\n",
    "obs_space.shape, obs_space.low, obs_space.high, obs_space.dtype"
   ],
   "id": "ba714718cd9105ac",
   "outputs": [
    {
     "data": {
      "text/plain": [
       "((110, 130, 3), 0.0, 1.0, jax.numpy.float32)"
      ]
     },
     "execution_count": 6,
     "metadata": {},
     "output_type": "execute_result"
    }
   ],
   "execution_count": 6
  },
  {
   "metadata": {
    "ExecuteTime": {
     "end_time": "2025-02-19T04:02:51.945993Z",
     "start_time": "2025-02-19T04:02:39.204125Z"
    }
   },
   "cell_type": "code",
   "source": [
    "key, subkey = random.split(key)\n",
    "obs, state = env.reset(subkey)\n",
    "obs.shape, state.__dict__.keys()"
   ],
   "id": "abc4417e20fb563",
   "outputs": [
    {
     "data": {
      "text/plain": [
       "((130, 110, 3),\n",
       " dict_keys(['map', 'item_map', 'mob_map', 'light_map', 'down_ladders', 'up_ladders', 'chests_opened', 'monsters_killed', 'player_position', 'player_level', 'player_direction', 'player_health', 'player_food', 'player_drink', 'player_energy', 'player_mana', 'is_sleeping', 'is_resting', 'player_recover', 'player_hunger', 'player_thirst', 'player_fatigue', 'player_recover_mana', 'player_xp', 'player_dexterity', 'player_strength', 'player_intelligence', 'inventory', 'melee_mobs', 'passive_mobs', 'ranged_mobs', 'mob_projectiles', 'mob_projectile_directions', 'player_projectiles', 'player_projectile_directions', 'growing_plants_positions', 'growing_plants_age', 'growing_plants_mask', 'potion_mapping', 'learned_spells', 'sword_enchantment', 'bow_enchantment', 'armour_enchantments', 'boss_progress', 'boss_timesteps_to_spawn_this_round', 'light_level', 'achievements', 'state_rng', 'timestep', 'fractal_noise_angles']))"
      ]
     },
     "execution_count": 7,
     "metadata": {},
     "output_type": "execute_result"
    }
   ],
   "execution_count": 7
  },
  {
   "metadata": {
    "ExecuteTime": {
     "end_time": "2025-02-19T04:02:51.967677Z",
     "start_time": "2025-02-19T04:02:51.958659Z"
    }
   },
   "cell_type": "code",
   "source": "Image.fromarray((np.asarray(obs) * 255).astype(np.uint8))",
   "id": "9a2cb88d42d5707",
   "outputs": [
    {
     "data": {
      "text/plain": [
       "<PIL.Image.Image image mode=RGB size=110x130>"
      ],
      "image/png": "[encoded data removed]"
     },
     "execution_count": 8,
     "metadata": {},
     "output_type": "execute_result"
    }
   ],
   "execution_count": 8
  },
  {
   "metadata": {
    "ExecuteTime": {
     "end_time": "2025-02-19T04:02:51.982942Z",
     "start_time": "2025-02-19T04:02:51.980161Z"
    }
   },
   "cell_type": "code",
   "source": [
    "action_space = env.action_space()\n",
    "action_space.shape, action_space.n"
   ],
   "id": "b76e01005dc428e1",
   "outputs": [
    {
     "data": {
      "text/plain": [
       "((), 43)"
      ]
     },
     "execution_count": 9,
     "metadata": {},
     "output_type": "execute_result"
    }
   ],
   "execution_count": 9
  },
  {
   "metadata": {
    "ExecuteTime": {
     "end_time": "2025-02-19T04:02:52.096788Z",
     "start_time": "2025-02-19T04:02:52.000771Z"
    }
   },
   "cell_type": "code",
   "source": [
    "key, subkey = random.split(key)\n",
    "action = action_space.sample(subkey)\n",
    "action"
   ],
   "id": "f71ca44e0cb38e12",
   "outputs": [
    {
     "name": "stderr",
     "output_type": "stream",
     "text": [
      "/opt/homebrew/Caskroom/miniforge/base/envs/rl/lib/python3.9/site-packages/jax/_src/numpy/array_methods.py:68: UserWarning: Explicitly requested dtype <class 'jax.numpy.int64'> requested in astype is not available, and will be truncated to dtype int32. To enable more dtypes, set the jax_enable_x64 configuration option or the JAX_ENABLE_X64 shell environment variable. See https://github.com/google/jax#current-gotchas for more.\n",
      "  return lax_numpy.astype(arr, dtype, copy=copy, device=device)\n"
     ]
    },
    {
     "data": {
      "text/plain": [
       "Array(32, dtype=int32)"
      ]
     },
     "execution_count": 10,
     "metadata": {},
     "output_type": "execute_result"
    }
   ],
   "execution_count": 10
  },
  {
   "metadata": {
    "ExecuteTime": {
     "end_time": "2025-02-19T04:03:27.796041Z",
     "start_time": "2025-02-19T04:02:52.108867Z"
    }
   },
   "cell_type": "code",
   "source": [
    "key, subkey = random.split(key)\n",
    "obs_next, state_next, reward, done, info = env.step(subkey, state, action)\n",
    "obs_next.shape, reward, done, info"
   ],
   "id": "977f1f92aa3038f",
   "outputs": [
    {
     "data": {
      "text/plain": [
       "((130, 110, 3),\n",
       " Array(0., dtype=float32),\n",
       " Array(False, dtype=bool),\n",
       " {'Achievements/cast_fireball': Array(0., dtype=float32, weak_type=True),\n",
       "  'Achievements/cast_iceball': Array(0., dtype=float32, weak_type=True),\n",
       "  'Achievements/collect_coal': Array(0., dtype=float32, weak_type=True),\n",
       "  'Achievements/collect_diamond': Array(0., dtype=float32, weak_type=True),\n",
       "  'Achievements/collect_drink': Array(0., dtype=float32, weak_type=True),\n",
       "  'Achievements/collect_iron': Array(0., dtype=float32, weak_type=True),\n",
       "  'Achievements/collect_ruby': Array(0., dtype=float32, weak_type=True),\n",
       "  'Achievements/collect_sapling': Array(0., dtype=float32, weak_type=True),\n",
       "  'Achievements/collect_sapphire': Array(0., dtype=float32, weak_type=True),\n",
       "  'Achievements/collect_stone': Array(0., dtype=float32, weak_type=True),\n",
       "  'Achievements/collect_wood': Array(0., dtype=float32, weak_type=True),\n",
       "  'Achievements/damage_necromancer': Array(0., dtype=float32, weak_type=True),\n",
       "  'Achievements/defeat_archer': Array(0., dtype=float32, weak_type=True),\n",
       "  'Achievements/defeat_deep_thing': Array(0., dtype=float32, weak_type=True),\n",
       "  'Achievements/defeat_fire_elemental': Array(0., dtype=float32, weak_type=True),\n",
       "  'Achievements/defeat_frost_troll': Array(0., dtype=float32, weak_type=True),\n",
       "  'Achievements/defeat_gnome_archer': Array(0., dtype=float32, weak_type=True),\n",
       "  'Achievements/defeat_gnome_warrior': Array(0., dtype=float32, weak_type=True),\n",
       "  'Achievements/defeat_ice_elemental': Array(0., dtype=float32, weak_type=True),\n",
       "  'Achievements/defeat_knight': Array(0., dtype=float32, weak_type=True),\n",
       "  'Achievements/defeat_kobold': Array(0., dtype=float32, weak_type=True),\n",
       "  'Achievements/defeat_lizard': Array(0., dtype=float32, weak_type=True),\n",
       "  'Achievements/defeat_necromancer': Array(0., dtype=float32, weak_type=True),\n",
       "  'Achievements/defeat_orc_mage': Array(0., dtype=float32, weak_type=True),\n",
       "  'Achievements/defeat_orc_solider': Array(0., dtype=float32, weak_type=True),\n",
       "  'Achievements/defeat_pigman': Array(0., dtype=float32, weak_type=True),\n",
       "  'Achievements/defeat_skeleton': Array(0., dtype=float32, weak_type=True),\n",
       "  'Achievements/defeat_troll': Array(0., dtype=float32, weak_type=True),\n",
       "  'Achievements/defeat_zombie': Array(0., dtype=float32, weak_type=True),\n",
       "  'Achievements/drink_potion': Array(0., dtype=float32, weak_type=True),\n",
       "  'Achievements/eat_bat': Array(0., dtype=float32, weak_type=True),\n",
       "  'Achievements/eat_cow': Array(0., dtype=float32, weak_type=True),\n",
       "  'Achievements/eat_plant': Array(0., dtype=float32, weak_type=True),\n",
       "  'Achievements/eat_snail': Array(0., dtype=float32, weak_type=True),\n",
       "  'Achievements/enchant_armour': Array(0., dtype=float32, weak_type=True),\n",
       "  'Achievements/enchant_sword': Array(0., dtype=float32, weak_type=True),\n",
       "  'Achievements/enter_dungeon': Array(0., dtype=float32, weak_type=True),\n",
       "  'Achievements/enter_fire_realm': Array(0., dtype=float32, weak_type=True),\n",
       "  'Achievements/enter_gnomish_mines': Array(0., dtype=float32, weak_type=True),\n",
       "  'Achievements/enter_graveyard': Array(0., dtype=float32, weak_type=True),\n",
       "  'Achievements/enter_ice_realm': Array(0., dtype=float32, weak_type=True),\n",
       "  'Achievements/enter_sewers': Array(0., dtype=float32, weak_type=True),\n",
       "  'Achievements/enter_troll_mines': Array(0., dtype=float32, weak_type=True),\n",
       "  'Achievements/enter_vault': Array(0., dtype=float32, weak_type=True),\n",
       "  'Achievements/find_bow': Array(0., dtype=float32, weak_type=True),\n",
       "  'Achievements/fire_bow': Array(0., dtype=float32, weak_type=True),\n",
       "  'Achievements/learn_fireball': Array(0., dtype=float32, weak_type=True),\n",
       "  'Achievements/learn_iceball': Array(0., dtype=float32, weak_type=True),\n",
       "  'Achievements/make_arrow': Array(0., dtype=float32, weak_type=True),\n",
       "  'Achievements/make_diamond_armour': Array(0., dtype=float32, weak_type=True),\n",
       "  'Achievements/make_diamond_pickaxe': Array(0., dtype=float32, weak_type=True),\n",
       "  'Achievements/make_diamond_sword': Array(0., dtype=float32, weak_type=True),\n",
       "  'Achievements/make_iron_armour': Array(0., dtype=float32, weak_type=True),\n",
       "  'Achievements/make_iron_pickaxe': Array(0., dtype=float32, weak_type=True),\n",
       "  'Achievements/make_iron_sword': Array(0., dtype=float32, weak_type=True),\n",
       "  'Achievements/make_stone_pickaxe': Array(0., dtype=float32, weak_type=True),\n",
       "  'Achievements/make_stone_sword': Array(0., dtype=float32, weak_type=True),\n",
       "  'Achievements/make_torch': Array(0., dtype=float32, weak_type=True),\n",
       "  'Achievements/make_wood_pickaxe': Array(0., dtype=float32, weak_type=True),\n",
       "  'Achievements/make_wood_sword': Array(0., dtype=float32, weak_type=True),\n",
       "  'Achievements/open_chest': Array(0., dtype=float32, weak_type=True),\n",
       "  'Achievements/place_furnace': Array(0., dtype=float32, weak_type=True),\n",
       "  'Achievements/place_plant': Array(0., dtype=float32, weak_type=True),\n",
       "  'Achievements/place_stone': Array(0., dtype=float32, weak_type=True),\n",
       "  'Achievements/place_table': Array(0., dtype=float32, weak_type=True),\n",
       "  'Achievements/place_torch': Array(0., dtype=float32, weak_type=True),\n",
       "  'Achievements/wake_up': Array(0., dtype=float32, weak_type=True),\n",
       "  'discount': Array(1., dtype=float32, weak_type=True)})"
      ]
     },
     "execution_count": 11,
     "metadata": {},
     "output_type": "execute_result"
    }
   ],
   "execution_count": 11
  },
  {
   "metadata": {
    "ExecuteTime": {
     "end_time": "2025-02-19T04:03:27.834500Z",
     "start_time": "2025-02-19T04:03:27.830798Z"
    }
   },
   "cell_type": "code",
   "source": "Image.fromarray((np.array(obs_next) * 255).astype(np.uint8))",
   "id": "8a2f8ee9f5c54ff7",
   "outputs": [
    {
     "data": {
      "text/plain": [
       "<PIL.Image.Image image mode=RGB size=110x130>"
      ],
      "image/png": "[encoded data removed]"
     },
     "execution_count": 12,
     "metadata": {},
     "output_type": "execute_result"
    }
   ],
   "execution_count": 12
  },
  {
   "metadata": {
    "ExecuteTime": {
     "end_time": "2025-02-19T04:03:28.923281Z",
     "start_time": "2025-02-19T04:03:27.850659Z"
    }
   },
   "cell_type": "code",
   "source": [
    "observations = []\n",
    "actions = []\n",
    "max_steps = 100\n",
    "key = random.key(0)\n",
    "key, subkey = random.split(key)\n",
    "obs, state = env.reset(subkey)\n",
    "for step in tqdm(range(max_steps)):\n",
    "    key, *subkeys = random.split(key, 3)\n",
    "    action = action_space.sample(subkeys[0])\n",
    "    obs, state, reward, done, info = env.step(subkeys[1], state, action)\n",
    "    if done:\n",
    "        break\n",
    "    observations.append(obs)\n",
    "    actions.append(action)"
   ],
   "id": "637158e624a79380",
   "outputs": [
    {
     "name": "stderr",
     "output_type": "stream",
     "text": [
      "  0%|          | 0/100 [00:00<?, ?it/s]/opt/homebrew/Caskroom/miniforge/base/envs/rl/lib/python3.9/site-packages/jax/_src/numpy/array_methods.py:68: UserWarning: Explicitly requested dtype <class 'jax.numpy.int64'> requested in astype is not available, and will be truncated to dtype int32. To enable more dtypes, set the jax_enable_x64 configuration option or the JAX_ENABLE_X64 shell environment variable. See https://github.com/google/jax#current-gotchas for more.\n",
      "  return lax_numpy.astype(arr, dtype, copy=copy, device=device)\n",
      "/opt/homebrew/Caskroom/miniforge/base/envs/rl/lib/python3.9/site-packages/jax/_src/numpy/array_methods.py:68: UserWarning: Explicitly requested dtype <class 'jax.numpy.int64'> requested in astype is not available, and will be truncated to dtype int32. To enable more dtypes, set the jax_enable_x64 configuration option or the JAX_ENABLE_X64 shell environment variable. See https://github.com/google/jax#current-gotchas for more.\n",
      "  return lax_numpy.astype(arr, dtype, copy=copy, device=device)\n",
      "/opt/homebrew/Caskroom/miniforge/base/envs/rl/lib/python3.9/site-packages/jax/_src/numpy/array_methods.py:68: UserWarning: Explicitly requested dtype <class 'jax.numpy.int64'> requested in astype is not available, and will be truncated to dtype int32. To enable more dtypes, set the jax_enable_x64 configuration option or the JAX_ENABLE_X64 shell environment variable. See https://github.com/google/jax#current-gotchas for more.\n",
      "  return lax_numpy.astype(arr, dtype, copy=copy, device=device)\n",
      "/opt/homebrew/Caskroom/miniforge/base/envs/rl/lib/python3.9/site-packages/jax/_src/numpy/array_methods.py:68: UserWarning: Explicitly requested dtype <class 'jax.numpy.int64'> requested in astype is not available, and will be truncated to dtype int32. To enable more dtypes, set the jax_enable_x64 configuration option or the JAX_ENABLE_X64 shell environment variable. See https://github.com/google/jax#current-gotchas for more.\n",
      "  return lax_numpy.astype(arr, dtype, copy=copy, device=device)\n",
      "  4%|▍         | 4/100 [00:00<00:02, 38.78it/s]/opt/homebrew/Caskroom/miniforge/base/envs/rl/lib/python3.9/site-packages/jax/_src/numpy/array_methods.py:68: UserWarning: Explicitly requested dtype <class 'jax.numpy.int64'> requested in astype is not available, and will be truncated to dtype int32. To enable more dtypes, set the jax_enable_x64 configuration option or the JAX_ENABLE_X64 shell environment variable. See https://github.com/google/jax#current-gotchas for more.\n",
      "  return lax_numpy.astype(arr, dtype, copy=copy, device=device)\n",
      "/opt/homebrew/Caskroom/miniforge/base/envs/rl/lib/python3.9/site-packages/jax/_src/numpy/array_methods.py:68: UserWarning: Explicitly requested dtype <class 'jax.numpy.int64'> requested in astype is not available, and will be truncated to dtype int32. To enable more dtypes, set the jax_enable_x64 configuration option or the JAX_ENABLE_X64 shell environment variable. See https://github.com/google/jax#current-gotchas for more.\n",
      "  return lax_numpy.astype(arr, dtype, copy=copy, device=device)\n",
      "/opt/homebrew/Caskroom/miniforge/base/envs/rl/lib/python3.9/site-packages/jax/_src/numpy/array_methods.py:68: UserWarning: Explicitly requested dtype <class 'jax.numpy.int64'> requested in astype is not available, and will be truncated to dtype int32. To enable more dtypes, set the jax_enable_x64 configuration option or the JAX_ENABLE_X64 shell environment variable. See https://github.com/google/jax#current-gotchas for more.\n",
      "  return lax_numpy.astype(arr, dtype, copy=copy, device=device)\n",
      "/opt/homebrew/Caskroom/miniforge/base/envs/rl/lib/python3.9/site-packages/jax/_src/numpy/array_methods.py:68: UserWarning: Explicitly requested dtype <class 'jax.numpy.int64'> requested in astype is not available, and will be truncated to dtype int32. To enable more dtypes, set the jax_enable_x64 configuration option or the JAX_ENABLE_X64 shell environment variable. See https://github.com/google/jax#current-gotchas for more.\n",
      "  return lax_numpy.astype(arr, dtype, copy=copy, device=device)\n",
      "/opt/homebrew/Caskroom/miniforge/base/envs/rl/lib/python3.9/site-packages/jax/_src/numpy/array_methods.py:68: UserWarning: Explicitly requested dtype <class 'jax.numpy.int64'> requested in astype is not available, and will be truncated to dtype int32. To enable more dtypes, set the jax_enable_x64 configuration option or the JAX_ENABLE_X64 shell environment variable. See https://github.com/google/jax#current-gotchas for more.\n",
      "  return lax_numpy.astype(arr, dtype, copy=copy, device=device)\n",
      "/opt/homebrew/Caskroom/miniforge/base/envs/rl/lib/python3.9/site-packages/jax/_src/numpy/array_methods.py:68: UserWarning: Explicitly requested dtype <class 'jax.numpy.int64'> requested in astype is not available, and will be truncated to dtype int32. To enable more dtypes, set the jax_enable_x64 configuration option or the JAX_ENABLE_X64 shell environment variable. See https://github.com/google/jax#current-gotchas for more.\n",
      "  return lax_numpy.astype(arr, dtype, copy=copy, device=device)\n",
      "/opt/homebrew/Caskroom/miniforge/base/envs/rl/lib/python3.9/site-packages/jax/_src/numpy/array_methods.py:68: UserWarning: Explicitly requested dtype <class 'jax.numpy.int64'> requested in astype is not available, and will be truncated to dtype int32. To enable more dtypes, set the jax_enable_x64 configuration option or the JAX_ENABLE_X64 shell environment variable. See https://github.com/google/jax#current-gotchas for more.\n",
      "  return lax_numpy.astype(arr, dtype, copy=copy, device=device)\n",
      "/opt/homebrew/Caskroom/miniforge/base/envs/rl/lib/python3.9/site-packages/jax/_src/numpy/array_methods.py:68: UserWarning: Explicitly requested dtype <class 'jax.numpy.int64'> requested in astype is not available, and will be truncated to dtype int32. To enable more dtypes, set the jax_enable_x64 configuration option or the JAX_ENABLE_X64 shell environment variable. See https://github.com/google/jax#current-gotchas for more.\n",
      "  return lax_numpy.astype(arr, dtype, copy=copy, device=device)\n",
      "/opt/homebrew/Caskroom/miniforge/base/envs/rl/lib/python3.9/site-packages/jax/_src/numpy/array_methods.py:68: UserWarning: Explicitly requested dtype <class 'jax.numpy.int64'> requested in astype is not available, and will be truncated to dtype int32. To enable more dtypes, set the jax_enable_x64 configuration option or the JAX_ENABLE_X64 shell environment variable. See https://github.com/google/jax#current-gotchas for more.\n",
      "  return lax_numpy.astype(arr, dtype, copy=copy, device=device)\n",
      "/opt/homebrew/Caskroom/miniforge/base/envs/rl/lib/python3.9/site-packages/jax/_src/numpy/array_methods.py:68: UserWarning: Explicitly requested dtype <class 'jax.numpy.int64'> requested in astype is not available, and will be truncated to dtype int32. To enable more dtypes, set the jax_enable_x64 configuration option or the JAX_ENABLE_X64 shell environment variable. See https://github.com/google/jax#current-gotchas for more.\n",
      "  return lax_numpy.astype(arr, dtype, copy=copy, device=device)\n",
      "/opt/homebrew/Caskroom/miniforge/base/envs/rl/lib/python3.9/site-packages/jax/_src/numpy/array_methods.py:68: UserWarning: Explicitly requested dtype <class 'jax.numpy.int64'> requested in astype is not available, and will be truncated to dtype int32. To enable more dtypes, set the jax_enable_x64 configuration option or the JAX_ENABLE_X64 shell environment variable. See https://github.com/google/jax#current-gotchas for more.\n",
      "  return lax_numpy.astype(arr, dtype, copy=copy, device=device)\n",
      " 15%|█▌        | 15/100 [00:00<00:01, 78.80it/s]/opt/homebrew/Caskroom/miniforge/base/envs/rl/lib/python3.9/site-packages/jax/_src/numpy/array_methods.py:68: UserWarning: Explicitly requested dtype <class 'jax.numpy.int64'> requested in astype is not available, and will be truncated to dtype int32. To enable more dtypes, set the jax_enable_x64 configuration option or the JAX_ENABLE_X64 shell environment variable. See https://github.com/google/jax#current-gotchas for more.\n",
      "  return lax_numpy.astype(arr, dtype, copy=copy, device=device)\n",
      "/opt/homebrew/Caskroom/miniforge/base/envs/rl/lib/python3.9/site-packages/jax/_src/numpy/array_methods.py:68: UserWarning: Explicitly requested dtype <class 'jax.numpy.int64'> requested in astype is not available, and will be truncated to dtype int32. To enable more dtypes, set the jax_enable_x64 configuration option or the JAX_ENABLE_X64 shell environment variable. See https://github.com/google/jax#current-gotchas for more.\n",
      "  return lax_numpy.astype(arr, dtype, copy=copy, device=device)\n",
      "/opt/homebrew/Caskroom/miniforge/base/envs/rl/lib/python3.9/site-packages/jax/_src/numpy/array_methods.py:68: UserWarning: Explicitly requested dtype <class 'jax.numpy.int64'> requested in astype is not available, and will be truncated to dtype int32. To enable more dtypes, set the jax_enable_x64 configuration option or the JAX_ENABLE_X64 shell environment variable. See https://github.com/google/jax#current-gotchas for more.\n",
      "  return lax_numpy.astype(arr, dtype, copy=copy, device=device)\n",
      "/opt/homebrew/Caskroom/miniforge/base/envs/rl/lib/python3.9/site-packages/jax/_src/numpy/array_methods.py:68: UserWarning: Explicitly requested dtype <class 'jax.numpy.int64'> requested in astype is not available, and will be truncated to dtype int32. To enable more dtypes, set the jax_enable_x64 configuration option or the JAX_ENABLE_X64 shell environment variable. See https://github.com/google/jax#current-gotchas for more.\n",
      "  return lax_numpy.astype(arr, dtype, copy=copy, device=device)\n",
      "/opt/homebrew/Caskroom/miniforge/base/envs/rl/lib/python3.9/site-packages/jax/_src/numpy/array_methods.py:68: UserWarning: Explicitly requested dtype <class 'jax.numpy.int64'> requested in astype is not available, and will be truncated to dtype int32. To enable more dtypes, set the jax_enable_x64 configuration option or the JAX_ENABLE_X64 shell environment variable. See https://github.com/google/jax#current-gotchas for more.\n",
      "  return lax_numpy.astype(arr, dtype, copy=copy, device=device)\n",
      "/opt/homebrew/Caskroom/miniforge/base/envs/rl/lib/python3.9/site-packages/jax/_src/numpy/array_methods.py:68: UserWarning: Explicitly requested dtype <class 'jax.numpy.int64'> requested in astype is not available, and will be truncated to dtype int32. To enable more dtypes, set the jax_enable_x64 configuration option or the JAX_ENABLE_X64 shell environment variable. See https://github.com/google/jax#current-gotchas for more.\n",
      "  return lax_numpy.astype(arr, dtype, copy=copy, device=device)\n",
      "/opt/homebrew/Caskroom/miniforge/base/envs/rl/lib/python3.9/site-packages/jax/_src/numpy/array_methods.py:68: UserWarning: Explicitly requested dtype <class 'jax.numpy.int64'> requested in astype is not available, and will be truncated to dtype int32. To enable more dtypes, set the jax_enable_x64 configuration option or the JAX_ENABLE_X64 shell environment variable. See https://github.com/google/jax#current-gotchas for more.\n",
      "  return lax_numpy.astype(arr, dtype, copy=copy, device=device)\n",
      "/opt/homebrew/Caskroom/miniforge/base/envs/rl/lib/python3.9/site-packages/jax/_src/numpy/array_methods.py:68: UserWarning: Explicitly requested dtype <class 'jax.numpy.int64'> requested in astype is not available, and will be truncated to dtype int32. To enable more dtypes, set the jax_enable_x64 configuration option or the JAX_ENABLE_X64 shell environment variable. See https://github.com/google/jax#current-gotchas for more.\n",
      "  return lax_numpy.astype(arr, dtype, copy=copy, device=device)\n",
      "/opt/homebrew/Caskroom/miniforge/base/envs/rl/lib/python3.9/site-packages/jax/_src/numpy/array_methods.py:68: UserWarning: Explicitly requested dtype <class 'jax.numpy.int64'> requested in astype is not available, and will be truncated to dtype int32. To enable more dtypes, set the jax_enable_x64 configuration option or the JAX_ENABLE_X64 shell environment variable. See https://github.com/google/jax#current-gotchas for more.\n",
      "  return lax_numpy.astype(arr, dtype, copy=copy, device=device)\n",
      "/opt/homebrew/Caskroom/miniforge/base/envs/rl/lib/python3.9/site-packages/jax/_src/numpy/array_methods.py:68: UserWarning: Explicitly requested dtype <class 'jax.numpy.int64'> requested in astype is not available, and will be truncated to dtype int32. To enable more dtypes, set the jax_enable_x64 configuration option or the JAX_ENABLE_X64 shell environment variable. See https://github.com/google/jax#current-gotchas for more.\n",
      "  return lax_numpy.astype(arr, dtype, copy=copy, device=device)\n",
      "/opt/homebrew/Caskroom/miniforge/base/envs/rl/lib/python3.9/site-packages/jax/_src/numpy/array_methods.py:68: UserWarning: Explicitly requested dtype <class 'jax.numpy.int64'> requested in astype is not available, and will be truncated to dtype int32. To enable more dtypes, set the jax_enable_x64 configuration option or the JAX_ENABLE_X64 shell environment variable. See https://github.com/google/jax#current-gotchas for more.\n",
      "  return lax_numpy.astype(arr, dtype, copy=copy, device=device)\n",
      " 26%|██▌       | 26/100 [00:00<00:00, 89.77it/s]/opt/homebrew/Caskroom/miniforge/base/envs/rl/lib/python3.9/site-packages/jax/_src/numpy/array_methods.py:68: UserWarning: Explicitly requested dtype <class 'jax.numpy.int64'> requested in astype is not available, and will be truncated to dtype int32. To enable more dtypes, set the jax_enable_x64 configuration option or the JAX_ENABLE_X64 shell environment variable. See https://github.com/google/jax#current-gotchas for more.\n",
      "  return lax_numpy.astype(arr, dtype, copy=copy, device=device)\n",
      "/opt/homebrew/Caskroom/miniforge/base/envs/rl/lib/python3.9/site-packages/jax/_src/numpy/array_methods.py:68: UserWarning: Explicitly requested dtype <class 'jax.numpy.int64'> requested in astype is not available, and will be truncated to dtype int32. To enable more dtypes, set the jax_enable_x64 configuration option or the JAX_ENABLE_X64 shell environment variable. See https://github.com/google/jax#current-gotchas for more.\n",
      "  return lax_numpy.astype(arr, dtype, copy=copy, device=device)\n",
      "/opt/homebrew/Caskroom/miniforge/base/envs/rl/lib/python3.9/site-packages/jax/_src/numpy/array_methods.py:68: UserWarning: Explicitly requested dtype <class 'jax.numpy.int64'> requested in astype is not available, and will be truncated to dtype int32. To enable more dtypes, set the jax_enable_x64 configuration option or the JAX_ENABLE_X64 shell environment variable. See https://github.com/google/jax#current-gotchas for more.\n",
      "  return lax_numpy.astype(arr, dtype, copy=copy, device=device)\n",
      "/opt/homebrew/Caskroom/miniforge/base/envs/rl/lib/python3.9/site-packages/jax/_src/numpy/array_methods.py:68: UserWarning: Explicitly requested dtype <class 'jax.numpy.int64'> requested in astype is not available, and will be truncated to dtype int32. To enable more dtypes, set the jax_enable_x64 configuration option or the JAX_ENABLE_X64 shell environment variable. See https://github.com/google/jax#current-gotchas for more.\n",
      "  return lax_numpy.astype(arr, dtype, copy=copy, device=device)\n",
      "/opt/homebrew/Caskroom/miniforge/base/envs/rl/lib/python3.9/site-packages/jax/_src/numpy/array_methods.py:68: UserWarning: Explicitly requested dtype <class 'jax.numpy.int64'> requested in astype is not available, and will be truncated to dtype int32. To enable more dtypes, set the jax_enable_x64 configuration option or the JAX_ENABLE_X64 shell environment variable. See https://github.com/google/jax#current-gotchas for more.\n",
      "  return lax_numpy.astype(arr, dtype, copy=copy, device=device)\n",
      "/opt/homebrew/Caskroom/miniforge/base/envs/rl/lib/python3.9/site-packages/jax/_src/numpy/array_methods.py:68: UserWarning: Explicitly requested dtype <class 'jax.numpy.int64'> requested in astype is not available, and will be truncated to dtype int32. To enable more dtypes, set the jax_enable_x64 configuration option or the JAX_ENABLE_X64 shell environment variable. See https://github.com/google/jax#current-gotchas for more.\n",
      "  return lax_numpy.astype(arr, dtype, copy=copy, device=device)\n",
      "/opt/homebrew/Caskroom/miniforge/base/envs/rl/lib/python3.9/site-packages/jax/_src/numpy/array_methods.py:68: UserWarning: Explicitly requested dtype <class 'jax.numpy.int64'> requested in astype is not available, and will be truncated to dtype int32. To enable more dtypes, set the jax_enable_x64 configuration option or the JAX_ENABLE_X64 shell environment variable. See https://github.com/google/jax#current-gotchas for more.\n",
      "  return lax_numpy.astype(arr, dtype, copy=copy, device=device)\n",
      "/opt/homebrew/Caskroom/miniforge/base/envs/rl/lib/python3.9/site-packages/jax/_src/numpy/array_methods.py:68: UserWarning: Explicitly requested dtype <class 'jax.numpy.int64'> requested in astype is not available, and will be truncated to dtype int32. To enable more dtypes, set the jax_enable_x64 configuration option or the JAX_ENABLE_X64 shell environment variable. See https://github.com/google/jax#current-gotchas for more.\n",
      "  return lax_numpy.astype(arr, dtype, copy=copy, device=device)\n",
      "/opt/homebrew/Caskroom/miniforge/base/envs/rl/lib/python3.9/site-packages/jax/_src/numpy/array_methods.py:68: UserWarning: Explicitly requested dtype <class 'jax.numpy.int64'> requested in astype is not available, and will be truncated to dtype int32. To enable more dtypes, set the jax_enable_x64 configuration option or the JAX_ENABLE_X64 shell environment variable. See https://github.com/google/jax#current-gotchas for more.\n",
      "  return lax_numpy.astype(arr, dtype, copy=copy, device=device)\n",
      "/opt/homebrew/Caskroom/miniforge/base/envs/rl/lib/python3.9/site-packages/jax/_src/numpy/array_methods.py:68: UserWarning: Explicitly requested dtype <class 'jax.numpy.int64'> requested in astype is not available, and will be truncated to dtype int32. To enable more dtypes, set the jax_enable_x64 configuration option or the JAX_ENABLE_X64 shell environment variable. See https://github.com/google/jax#current-gotchas for more.\n",
      "  return lax_numpy.astype(arr, dtype, copy=copy, device=device)\n",
      "/opt/homebrew/Caskroom/miniforge/base/envs/rl/lib/python3.9/site-packages/jax/_src/numpy/array_methods.py:68: UserWarning: Explicitly requested dtype <class 'jax.numpy.int64'> requested in astype is not available, and will be truncated to dtype int32. To enable more dtypes, set the jax_enable_x64 configuration option or the JAX_ENABLE_X64 shell environment variable. See https://github.com/google/jax#current-gotchas for more.\n",
      "  return lax_numpy.astype(arr, dtype, copy=copy, device=device)\n",
      " 37%|███▋      | 37/100 [00:00<00:00, 96.46it/s]/opt/homebrew/Caskroom/miniforge/base/envs/rl/lib/python3.9/site-packages/jax/_src/numpy/array_methods.py:68: UserWarning: Explicitly requested dtype <class 'jax.numpy.int64'> requested in astype is not available, and will be truncated to dtype int32. To enable more dtypes, set the jax_enable_x64 configuration option or the JAX_ENABLE_X64 shell environment variable. See https://github.com/google/jax#current-gotchas for more.\n",
      "  return lax_numpy.astype(arr, dtype, copy=copy, device=device)\n",
      "/opt/homebrew/Caskroom/miniforge/base/envs/rl/lib/python3.9/site-packages/jax/_src/numpy/array_methods.py:68: UserWarning: Explicitly requested dtype <class 'jax.numpy.int64'> requested in astype is not available, and will be truncated to dtype int32. To enable more dtypes, set the jax_enable_x64 configuration option or the JAX_ENABLE_X64 shell environment variable. See https://github.com/google/jax#current-gotchas for more.\n",
      "  return lax_numpy.astype(arr, dtype, copy=copy, device=device)\n",
      "/opt/homebrew/Caskroom/miniforge/base/envs/rl/lib/python3.9/site-packages/jax/_src/numpy/array_methods.py:68: UserWarning: Explicitly requested dtype <class 'jax.numpy.int64'> requested in astype is not available, and will be truncated to dtype int32. To enable more dtypes, set the jax_enable_x64 configuration option or the JAX_ENABLE_X64 shell environment variable. See https://github.com/google/jax#current-gotchas for more.\n",
      "  return lax_numpy.astype(arr, dtype, copy=copy, device=device)\n",
      "/opt/homebrew/Caskroom/miniforge/base/envs/rl/lib/python3.9/site-packages/jax/_src/numpy/array_methods.py:68: UserWarning: Explicitly requested dtype <class 'jax.numpy.int64'> requested in astype is not available, and will be truncated to dtype int32. To enable more dtypes, set the jax_enable_x64 configuration option or the JAX_ENABLE_X64 shell environment variable. See https://github.com/google/jax#current-gotchas for more.\n",
      "  return lax_numpy.astype(arr, dtype, copy=copy, device=device)\n",
      "/opt/homebrew/Caskroom/miniforge/base/envs/rl/lib/python3.9/site-packages/jax/_src/numpy/array_methods.py:68: UserWarning: Explicitly requested dtype <class 'jax.numpy.int64'> requested in astype is not available, and will be truncated to dtype int32. To enable more dtypes, set the jax_enable_x64 configuration option or the JAX_ENABLE_X64 shell environment variable. See https://github.com/google/jax#current-gotchas for more.\n",
      "  return lax_numpy.astype(arr, dtype, copy=copy, device=device)\n",
      "/opt/homebrew/Caskroom/miniforge/base/envs/rl/lib/python3.9/site-packages/jax/_src/numpy/array_methods.py:68: UserWarning: Explicitly requested dtype <class 'jax.numpy.int64'> requested in astype is not available, and will be truncated to dtype int32. To enable more dtypes, set the jax_enable_x64 configuration option or the JAX_ENABLE_X64 shell environment variable. See https://github.com/google/jax#current-gotchas for more.\n",
      "  return lax_numpy.astype(arr, dtype, copy=copy, device=device)\n",
      "/opt/homebrew/Caskroom/miniforge/base/envs/rl/lib/python3.9/site-packages/jax/_src/numpy/array_methods.py:68: UserWarning: Explicitly requested dtype <class 'jax.numpy.int64'> requested in astype is not available, and will be truncated to dtype int32. To enable more dtypes, set the jax_enable_x64 configuration option or the JAX_ENABLE_X64 shell environment variable. See https://github.com/google/jax#current-gotchas for more.\n",
      "  return lax_numpy.astype(arr, dtype, copy=copy, device=device)\n",
      "/opt/homebrew/Caskroom/miniforge/base/envs/rl/lib/python3.9/site-packages/jax/_src/numpy/array_methods.py:68: UserWarning: Explicitly requested dtype <class 'jax.numpy.int64'> requested in astype is not available, and will be truncated to dtype int32. To enable more dtypes, set the jax_enable_x64 configuration option or the JAX_ENABLE_X64 shell environment variable. See https://github.com/google/jax#current-gotchas for more.\n",
      "  return lax_numpy.astype(arr, dtype, copy=copy, device=device)\n",
      "/opt/homebrew/Caskroom/miniforge/base/envs/rl/lib/python3.9/site-packages/jax/_src/numpy/array_methods.py:68: UserWarning: Explicitly requested dtype <class 'jax.numpy.int64'> requested in astype is not available, and will be truncated to dtype int32. To enable more dtypes, set the jax_enable_x64 configuration option or the JAX_ENABLE_X64 shell environment variable. See https://github.com/google/jax#current-gotchas for more.\n",
      "  return lax_numpy.astype(arr, dtype, copy=copy, device=device)\n",
      "/opt/homebrew/Caskroom/miniforge/base/envs/rl/lib/python3.9/site-packages/jax/_src/numpy/array_methods.py:68: UserWarning: Explicitly requested dtype <class 'jax.numpy.int64'> requested in astype is not available, and will be truncated to dtype int32. To enable more dtypes, set the jax_enable_x64 configuration option or the JAX_ENABLE_X64 shell environment variable. See https://github.com/google/jax#current-gotchas for more.\n",
      "  return lax_numpy.astype(arr, dtype, copy=copy, device=device)\n",
      "/opt/homebrew/Caskroom/miniforge/base/envs/rl/lib/python3.9/site-packages/jax/_src/numpy/array_methods.py:68: UserWarning: Explicitly requested dtype <class 'jax.numpy.int64'> requested in astype is not available, and will be truncated to dtype int32. To enable more dtypes, set the jax_enable_x64 configuration option or the JAX_ENABLE_X64 shell environment variable. See https://github.com/google/jax#current-gotchas for more.\n",
      "  return lax_numpy.astype(arr, dtype, copy=copy, device=device)\n",
      " 48%|████▊     | 48/100 [00:00<00:00, 99.89it/s]/opt/homebrew/Caskroom/miniforge/base/envs/rl/lib/python3.9/site-packages/jax/_src/numpy/array_methods.py:68: UserWarning: Explicitly requested dtype <class 'jax.numpy.int64'> requested in astype is not available, and will be truncated to dtype int32. To enable more dtypes, set the jax_enable_x64 configuration option or the JAX_ENABLE_X64 shell environment variable. See https://github.com/google/jax#current-gotchas for more.\n",
      "  return lax_numpy.astype(arr, dtype, copy=copy, device=device)\n",
      "/opt/homebrew/Caskroom/miniforge/base/envs/rl/lib/python3.9/site-packages/jax/_src/numpy/array_methods.py:68: UserWarning: Explicitly requested dtype <class 'jax.numpy.int64'> requested in astype is not available, and will be truncated to dtype int32. To enable more dtypes, set the jax_enable_x64 configuration option or the JAX_ENABLE_X64 shell environment variable. See https://github.com/google/jax#current-gotchas for more.\n",
      "  return lax_numpy.astype(arr, dtype, copy=copy, device=device)\n",
      "/opt/homebrew/Caskroom/miniforge/base/envs/rl/lib/python3.9/site-packages/jax/_src/numpy/array_methods.py:68: UserWarning: Explicitly requested dtype <class 'jax.numpy.int64'> requested in astype is not available, and will be truncated to dtype int32. To enable more dtypes, set the jax_enable_x64 configuration option or the JAX_ENABLE_X64 shell environment variable. See https://github.com/google/jax#current-gotchas for more.\n",
      "  return lax_numpy.astype(arr, dtype, copy=copy, device=device)\n",
      "/opt/homebrew/Caskroom/miniforge/base/envs/rl/lib/python3.9/site-packages/jax/_src/numpy/array_methods.py:68: UserWarning: Explicitly requested dtype <class 'jax.numpy.int64'> requested in astype is not available, and will be truncated to dtype int32. To enable more dtypes, set the jax_enable_x64 configuration option or the JAX_ENABLE_X64 shell environment variable. See https://github.com/google/jax#current-gotchas for more.\n",
      "  return lax_numpy.astype(arr, dtype, copy=copy, device=device)\n",
      "/opt/homebrew/Caskroom/miniforge/base/envs/rl/lib/python3.9/site-packages/jax/_src/numpy/array_methods.py:68: UserWarning: Explicitly requested dtype <class 'jax.numpy.int64'> requested in astype is not available, and will be truncated to dtype int32. To enable more dtypes, set the jax_enable_x64 configuration option or the JAX_ENABLE_X64 shell environment variable. See https://github.com/google/jax#current-gotchas for more.\n",
      "  return lax_numpy.astype(arr, dtype, copy=copy, device=device)\n",
      "/opt/homebrew/Caskroom/miniforge/base/envs/rl/lib/python3.9/site-packages/jax/_src/numpy/array_methods.py:68: UserWarning: Explicitly requested dtype <class 'jax.numpy.int64'> requested in astype is not available, and will be truncated to dtype int32. To enable more dtypes, set the jax_enable_x64 configuration option or the JAX_ENABLE_X64 shell environment variable. See https://github.com/google/jax#current-gotchas for more.\n",
      "  return lax_numpy.astype(arr, dtype, copy=copy, device=device)\n",
      "/opt/homebrew/Caskroom/miniforge/base/envs/rl/lib/python3.9/site-packages/jax/_src/numpy/array_methods.py:68: UserWarning: Explicitly requested dtype <class 'jax.numpy.int64'> requested in astype is not available, and will be truncated to dtype int32. To enable more dtypes, set the jax_enable_x64 configuration option or the JAX_ENABLE_X64 shell environment variable. See https://github.com/google/jax#current-gotchas for more.\n",
      "  return lax_numpy.astype(arr, dtype, copy=copy, device=device)\n",
      "/opt/homebrew/Caskroom/miniforge/base/envs/rl/lib/python3.9/site-packages/jax/_src/numpy/array_methods.py:68: UserWarning: Explicitly requested dtype <class 'jax.numpy.int64'> requested in astype is not available, and will be truncated to dtype int32. To enable more dtypes, set the jax_enable_x64 configuration option or the JAX_ENABLE_X64 shell environment variable. See https://github.com/google/jax#current-gotchas for more.\n",
      "  return lax_numpy.astype(arr, dtype, copy=copy, device=device)\n",
      "/opt/homebrew/Caskroom/miniforge/base/envs/rl/lib/python3.9/site-packages/jax/_src/numpy/array_methods.py:68: UserWarning: Explicitly requested dtype <class 'jax.numpy.int64'> requested in astype is not available, and will be truncated to dtype int32. To enable more dtypes, set the jax_enable_x64 configuration option or the JAX_ENABLE_X64 shell environment variable. See https://github.com/google/jax#current-gotchas for more.\n",
      "  return lax_numpy.astype(arr, dtype, copy=copy, device=device)\n",
      "/opt/homebrew/Caskroom/miniforge/base/envs/rl/lib/python3.9/site-packages/jax/_src/numpy/array_methods.py:68: UserWarning: Explicitly requested dtype <class 'jax.numpy.int64'> requested in astype is not available, and will be truncated to dtype int32. To enable more dtypes, set the jax_enable_x64 configuration option or the JAX_ENABLE_X64 shell environment variable. See https://github.com/google/jax#current-gotchas for more.\n",
      "  return lax_numpy.astype(arr, dtype, copy=copy, device=device)\n",
      "/opt/homebrew/Caskroom/miniforge/base/envs/rl/lib/python3.9/site-packages/jax/_src/numpy/array_methods.py:68: UserWarning: Explicitly requested dtype <class 'jax.numpy.int64'> requested in astype is not available, and will be truncated to dtype int32. To enable more dtypes, set the jax_enable_x64 configuration option or the JAX_ENABLE_X64 shell environment variable. See https://github.com/google/jax#current-gotchas for more.\n",
      "  return lax_numpy.astype(arr, dtype, copy=copy, device=device)\n",
      " 59%|█████▉    | 59/100 [00:00<00:00, 102.39it/s]/opt/homebrew/Caskroom/miniforge/base/envs/rl/lib/python3.9/site-packages/jax/_src/numpy/array_methods.py:68: UserWarning: Explicitly requested dtype <class 'jax.numpy.int64'> requested in astype is not available, and will be truncated to dtype int32. To enable more dtypes, set the jax_enable_x64 configuration option or the JAX_ENABLE_X64 shell environment variable. See https://github.com/google/jax#current-gotchas for more.\n",
      "  return lax_numpy.astype(arr, dtype, copy=copy, device=device)\n",
      "/opt/homebrew/Caskroom/miniforge/base/envs/rl/lib/python3.9/site-packages/jax/_src/numpy/array_methods.py:68: UserWarning: Explicitly requested dtype <class 'jax.numpy.int64'> requested in astype is not available, and will be truncated to dtype int32. To enable more dtypes, set the jax_enable_x64 configuration option or the JAX_ENABLE_X64 shell environment variable. See https://github.com/google/jax#current-gotchas for more.\n",
      "  return lax_numpy.astype(arr, dtype, copy=copy, device=device)\n",
      "/opt/homebrew/Caskroom/miniforge/base/envs/rl/lib/python3.9/site-packages/jax/_src/numpy/array_methods.py:68: UserWarning: Explicitly requested dtype <class 'jax.numpy.int64'> requested in astype is not available, and will be truncated to dtype int32. To enable more dtypes, set the jax_enable_x64 configuration option or the JAX_ENABLE_X64 shell environment variable. See https://github.com/google/jax#current-gotchas for more.\n",
      "  return lax_numpy.astype(arr, dtype, copy=copy, device=device)\n",
      "/opt/homebrew/Caskroom/miniforge/base/envs/rl/lib/python3.9/site-packages/jax/_src/numpy/array_methods.py:68: UserWarning: Explicitly requested dtype <class 'jax.numpy.int64'> requested in astype is not available, and will be truncated to dtype int32. To enable more dtypes, set the jax_enable_x64 configuration option or the JAX_ENABLE_X64 shell environment variable. See https://github.com/google/jax#current-gotchas for more.\n",
      "  return lax_numpy.astype(arr, dtype, copy=copy, device=device)\n",
      "/opt/homebrew/Caskroom/miniforge/base/envs/rl/lib/python3.9/site-packages/jax/_src/numpy/array_methods.py:68: UserWarning: Explicitly requested dtype <class 'jax.numpy.int64'> requested in astype is not available, and will be truncated to dtype int32. To enable more dtypes, set the jax_enable_x64 configuration option or the JAX_ENABLE_X64 shell environment variable. See https://github.com/google/jax#current-gotchas for more.\n",
      "  return lax_numpy.astype(arr, dtype, copy=copy, device=device)\n",
      "/opt/homebrew/Caskroom/miniforge/base/envs/rl/lib/python3.9/site-packages/jax/_src/numpy/array_methods.py:68: UserWarning: Explicitly requested dtype <class 'jax.numpy.int64'> requested in astype is not available, and will be truncated to dtype int32. To enable more dtypes, set the jax_enable_x64 configuration option or the JAX_ENABLE_X64 shell environment variable. See https://github.com/google/jax#current-gotchas for more.\n",
      "  return lax_numpy.astype(arr, dtype, copy=copy, device=device)\n",
      "/opt/homebrew/Caskroom/miniforge/base/envs/rl/lib/python3.9/site-packages/jax/_src/numpy/array_methods.py:68: UserWarning: Explicitly requested dtype <class 'jax.numpy.int64'> requested in astype is not available, and will be truncated to dtype int32. To enable more dtypes, set the jax_enable_x64 configuration option or the JAX_ENABLE_X64 shell environment variable. See https://github.com/google/jax#current-gotchas for more.\n",
      "  return lax_numpy.astype(arr, dtype, copy=copy, device=device)\n",
      "/opt/homebrew/Caskroom/miniforge/base/envs/rl/lib/python3.9/site-packages/jax/_src/numpy/array_methods.py:68: UserWarning: Explicitly requested dtype <class 'jax.numpy.int64'> requested in astype is not available, and will be truncated to dtype int32. To enable more dtypes, set the jax_enable_x64 configuration option or the JAX_ENABLE_X64 shell environment variable. See https://github.com/google/jax#current-gotchas for more.\n",
      "  return lax_numpy.astype(arr, dtype, copy=copy, device=device)\n",
      "/opt/homebrew/Caskroom/miniforge/base/envs/rl/lib/python3.9/site-packages/jax/_src/numpy/array_methods.py:68: UserWarning: Explicitly requested dtype <class 'jax.numpy.int64'> requested in astype is not available, and will be truncated to dtype int32. To enable more dtypes, set the jax_enable_x64 configuration option or the JAX_ENABLE_X64 shell environment variable. See https://github.com/google/jax#current-gotchas for more.\n",
      "  return lax_numpy.astype(arr, dtype, copy=copy, device=device)\n",
      "/opt/homebrew/Caskroom/miniforge/base/envs/rl/lib/python3.9/site-packages/jax/_src/numpy/array_methods.py:68: UserWarning: Explicitly requested dtype <class 'jax.numpy.int64'> requested in astype is not available, and will be truncated to dtype int32. To enable more dtypes, set the jax_enable_x64 configuration option or the JAX_ENABLE_X64 shell environment variable. See https://github.com/google/jax#current-gotchas for more.\n",
      "  return lax_numpy.astype(arr, dtype, copy=copy, device=device)\n",
      "/opt/homebrew/Caskroom/miniforge/base/envs/rl/lib/python3.9/site-packages/jax/_src/numpy/array_methods.py:68: UserWarning: Explicitly requested dtype <class 'jax.numpy.int64'> requested in astype is not available, and will be truncated to dtype int32. To enable more dtypes, set the jax_enable_x64 configuration option or the JAX_ENABLE_X64 shell environment variable. See https://github.com/google/jax#current-gotchas for more.\n",
      "  return lax_numpy.astype(arr, dtype, copy=copy, device=device)\n",
      " 70%|███████   | 70/100 [00:00<00:00, 103.81it/s]/opt/homebrew/Caskroom/miniforge/base/envs/rl/lib/python3.9/site-packages/jax/_src/numpy/array_methods.py:68: UserWarning: Explicitly requested dtype <class 'jax.numpy.int64'> requested in astype is not available, and will be truncated to dtype int32. To enable more dtypes, set the jax_enable_x64 configuration option or the JAX_ENABLE_X64 shell environment variable. See https://github.com/google/jax#current-gotchas for more.\n",
      "  return lax_numpy.astype(arr, dtype, copy=copy, device=device)\n",
      "/opt/homebrew/Caskroom/miniforge/base/envs/rl/lib/python3.9/site-packages/jax/_src/numpy/array_methods.py:68: UserWarning: Explicitly requested dtype <class 'jax.numpy.int64'> requested in astype is not available, and will be truncated to dtype int32. To enable more dtypes, set the jax_enable_x64 configuration option or the JAX_ENABLE_X64 shell environment variable. See https://github.com/google/jax#current-gotchas for more.\n",
      "  return lax_numpy.astype(arr, dtype, copy=copy, device=device)\n",
      "/opt/homebrew/Caskroom/miniforge/base/envs/rl/lib/python3.9/site-packages/jax/_src/numpy/array_methods.py:68: UserWarning: Explicitly requested dtype <class 'jax.numpy.int64'> requested in astype is not available, and will be truncated to dtype int32. To enable more dtypes, set the jax_enable_x64 configuration option or the JAX_ENABLE_X64 shell environment variable. See https://github.com/google/jax#current-gotchas for more.\n",
      "  return lax_numpy.astype(arr, dtype, copy=copy, device=device)\n",
      "/opt/homebrew/Caskroom/miniforge/base/envs/rl/lib/python3.9/site-packages/jax/_src/numpy/array_methods.py:68: UserWarning: Explicitly requested dtype <class 'jax.numpy.int64'> requested in astype is not available, and will be truncated to dtype int32. To enable more dtypes, set the jax_enable_x64 configuration option or the JAX_ENABLE_X64 shell environment variable. See https://github.com/google/jax#current-gotchas for more.\n",
      "  return lax_numpy.astype(arr, dtype, copy=copy, device=device)\n",
      "/opt/homebrew/Caskroom/miniforge/base/envs/rl/lib/python3.9/site-packages/jax/_src/numpy/array_methods.py:68: UserWarning: Explicitly requested dtype <class 'jax.numpy.int64'> requested in astype is not available, and will be truncated to dtype int32. To enable more dtypes, set the jax_enable_x64 configuration option or the JAX_ENABLE_X64 shell environment variable. See https://github.com/google/jax#current-gotchas for more.\n",
      "  return lax_numpy.astype(arr, dtype, copy=copy, device=device)\n",
      "/opt/homebrew/Caskroom/miniforge/base/envs/rl/lib/python3.9/site-packages/jax/_src/numpy/array_methods.py:68: UserWarning: Explicitly requested dtype <class 'jax.numpy.int64'> requested in astype is not available, and will be truncated to dtype int32. To enable more dtypes, set the jax_enable_x64 configuration option or the JAX_ENABLE_X64 shell environment variable. See https://github.com/google/jax#current-gotchas for more.\n",
      "  return lax_numpy.astype(arr, dtype, copy=copy, device=device)\n",
      "/opt/homebrew/Caskroom/miniforge/base/envs/rl/lib/python3.9/site-packages/jax/_src/numpy/array_methods.py:68: UserWarning: Explicitly requested dtype <class 'jax.numpy.int64'> requested in astype is not available, and will be truncated to dtype int32. To enable more dtypes, set the jax_enable_x64 configuration option or the JAX_ENABLE_X64 shell environment variable. See https://github.com/google/jax#current-gotchas for more.\n",
      "  return lax_numpy.astype(arr, dtype, copy=copy, device=device)\n",
      "/opt/homebrew/Caskroom/miniforge/base/envs/rl/lib/python3.9/site-packages/jax/_src/numpy/array_methods.py:68: UserWarning: Explicitly requested dtype <class 'jax.numpy.int64'> requested in astype is not available, and will be truncated to dtype int32. To enable more dtypes, set the jax_enable_x64 configuration option or the JAX_ENABLE_X64 shell environment variable. See https://github.com/google/jax#current-gotchas for more.\n",
      "  return lax_numpy.astype(arr, dtype, copy=copy, device=device)\n",
      "/opt/homebrew/Caskroom/miniforge/base/envs/rl/lib/python3.9/site-packages/jax/_src/numpy/array_methods.py:68: UserWarning: Explicitly requested dtype <class 'jax.numpy.int64'> requested in astype is not available, and will be truncated to dtype int32. To enable more dtypes, set the jax_enable_x64 configuration option or the JAX_ENABLE_X64 shell environment variable. See https://github.com/google/jax#current-gotchas for more.\n",
      "  return lax_numpy.astype(arr, dtype, copy=copy, device=device)\n",
      "/opt/homebrew/Caskroom/miniforge/base/envs/rl/lib/python3.9/site-packages/jax/_src/numpy/array_methods.py:68: UserWarning: Explicitly requested dtype <class 'jax.numpy.int64'> requested in astype is not available, and will be truncated to dtype int32. To enable more dtypes, set the jax_enable_x64 configuration option or the JAX_ENABLE_X64 shell environment variable. See https://github.com/google/jax#current-gotchas for more.\n",
      "  return lax_numpy.astype(arr, dtype, copy=copy, device=device)\n",
      "/opt/homebrew/Caskroom/miniforge/base/envs/rl/lib/python3.9/site-packages/jax/_src/numpy/array_methods.py:68: UserWarning: Explicitly requested dtype <class 'jax.numpy.int64'> requested in astype is not available, and will be truncated to dtype int32. To enable more dtypes, set the jax_enable_x64 configuration option or the JAX_ENABLE_X64 shell environment variable. See https://github.com/google/jax#current-gotchas for more.\n",
      "  return lax_numpy.astype(arr, dtype, copy=copy, device=device)\n",
      " 81%|████████  | 81/100 [00:00<00:00, 105.02it/s]/opt/homebrew/Caskroom/miniforge/base/envs/rl/lib/python3.9/site-packages/jax/_src/numpy/array_methods.py:68: UserWarning: Explicitly requested dtype <class 'jax.numpy.int64'> requested in astype is not available, and will be truncated to dtype int32. To enable more dtypes, set the jax_enable_x64 configuration option or the JAX_ENABLE_X64 shell environment variable. See https://github.com/google/jax#current-gotchas for more.\n",
      "  return lax_numpy.astype(arr, dtype, copy=copy, device=device)\n",
      "/opt/homebrew/Caskroom/miniforge/base/envs/rl/lib/python3.9/site-packages/jax/_src/numpy/array_methods.py:68: UserWarning: Explicitly requested dtype <class 'jax.numpy.int64'> requested in astype is not available, and will be truncated to dtype int32. To enable more dtypes, set the jax_enable_x64 configuration option or the JAX_ENABLE_X64 shell environment variable. See https://github.com/google/jax#current-gotchas for more.\n",
      "  return lax_numpy.astype(arr, dtype, copy=copy, device=device)\n",
      "/opt/homebrew/Caskroom/miniforge/base/envs/rl/lib/python3.9/site-packages/jax/_src/numpy/array_methods.py:68: UserWarning: Explicitly requested dtype <class 'jax.numpy.int64'> requested in astype is not available, and will be truncated to dtype int32. To enable more dtypes, set the jax_enable_x64 configuration option or the JAX_ENABLE_X64 shell environment variable. See https://github.com/google/jax#current-gotchas for more.\n",
      "  return lax_numpy.astype(arr, dtype, copy=copy, device=device)\n",
      "/opt/homebrew/Caskroom/miniforge/base/envs/rl/lib/python3.9/site-packages/jax/_src/numpy/array_methods.py:68: UserWarning: Explicitly requested dtype <class 'jax.numpy.int64'> requested in astype is not available, and will be truncated to dtype int32. To enable more dtypes, set the jax_enable_x64 configuration option or the JAX_ENABLE_X64 shell environment variable. See https://github.com/google/jax#current-gotchas for more.\n",
      "  return lax_numpy.astype(arr, dtype, copy=copy, device=device)\n",
      "/opt/homebrew/Caskroom/miniforge/base/envs/rl/lib/python3.9/site-packages/jax/_src/numpy/array_methods.py:68: UserWarning: Explicitly requested dtype <class 'jax.numpy.int64'> requested in astype is not available, and will be truncated to dtype int32. To enable more dtypes, set the jax_enable_x64 configuration option or the JAX_ENABLE_X64 shell environment variable. See https://github.com/google/jax#current-gotchas for more.\n",
      "  return lax_numpy.astype(arr, dtype, copy=copy, device=device)\n",
      "/opt/homebrew/Caskroom/miniforge/base/envs/rl/lib/python3.9/site-packages/jax/_src/numpy/array_methods.py:68: UserWarning: Explicitly requested dtype <class 'jax.numpy.int64'> requested in astype is not available, and will be truncated to dtype int32. To enable more dtypes, set the jax_enable_x64 configuration option or the JAX_ENABLE_X64 shell environment variable. See https://github.com/google/jax#current-gotchas for more.\n",
      "  return lax_numpy.astype(arr, dtype, copy=copy, device=device)\n",
      "/opt/homebrew/Caskroom/miniforge/base/envs/rl/lib/python3.9/site-packages/jax/_src/numpy/array_methods.py:68: UserWarning: Explicitly requested dtype <class 'jax.numpy.int64'> requested in astype is not available, and will be truncated to dtype int32. To enable more dtypes, set the jax_enable_x64 configuration option or the JAX_ENABLE_X64 shell environment variable. See https://github.com/google/jax#current-gotchas for more.\n",
      "  return lax_numpy.astype(arr, dtype, copy=copy, device=device)\n",
      "/opt/homebrew/Caskroom/miniforge/base/envs/rl/lib/python3.9/site-packages/jax/_src/numpy/array_methods.py:68: UserWarning: Explicitly requested dtype <class 'jax.numpy.int64'> requested in astype is not available, and will be truncated to dtype int32. To enable more dtypes, set the jax_enable_x64 configuration option or the JAX_ENABLE_X64 shell environment variable. See https://github.com/google/jax#current-gotchas for more.\n",
      "  return lax_numpy.astype(arr, dtype, copy=copy, device=device)\n",
      "/opt/homebrew/Caskroom/miniforge/base/envs/rl/lib/python3.9/site-packages/jax/_src/numpy/array_methods.py:68: UserWarning: Explicitly requested dtype <class 'jax.numpy.int64'> requested in astype is not available, and will be truncated to dtype int32. To enable more dtypes, set the jax_enable_x64 configuration option or the JAX_ENABLE_X64 shell environment variable. See https://github.com/google/jax#current-gotchas for more.\n",
      "  return lax_numpy.astype(arr, dtype, copy=copy, device=device)\n",
      "/opt/homebrew/Caskroom/miniforge/base/envs/rl/lib/python3.9/site-packages/jax/_src/numpy/array_methods.py:68: UserWarning: Explicitly requested dtype <class 'jax.numpy.int64'> requested in astype is not available, and will be truncated to dtype int32. To enable more dtypes, set the jax_enable_x64 configuration option or the JAX_ENABLE_X64 shell environment variable. See https://github.com/google/jax#current-gotchas for more.\n",
      "  return lax_numpy.astype(arr, dtype, copy=copy, device=device)\n",
      "/opt/homebrew/Caskroom/miniforge/base/envs/rl/lib/python3.9/site-packages/jax/_src/numpy/array_methods.py:68: UserWarning: Explicitly requested dtype <class 'jax.numpy.int64'> requested in astype is not available, and will be truncated to dtype int32. To enable more dtypes, set the jax_enable_x64 configuration option or the JAX_ENABLE_X64 shell environment variable. See https://github.com/google/jax#current-gotchas for more.\n",
      "  return lax_numpy.astype(arr, dtype, copy=copy, device=device)\n",
      " 92%|█████████▏| 92/100 [00:00<00:00, 105.61it/s]/opt/homebrew/Caskroom/miniforge/base/envs/rl/lib/python3.9/site-packages/jax/_src/numpy/array_methods.py:68: UserWarning: Explicitly requested dtype <class 'jax.numpy.int64'> requested in astype is not available, and will be truncated to dtype int32. To enable more dtypes, set the jax_enable_x64 configuration option or the JAX_ENABLE_X64 shell environment variable. See https://github.com/google/jax#current-gotchas for more.\n",
      "  return lax_numpy.astype(arr, dtype, copy=copy, device=device)\n",
      "/opt/homebrew/Caskroom/miniforge/base/envs/rl/lib/python3.9/site-packages/jax/_src/numpy/array_methods.py:68: UserWarning: Explicitly requested dtype <class 'jax.numpy.int64'> requested in astype is not available, and will be truncated to dtype int32. To enable more dtypes, set the jax_enable_x64 configuration option or the JAX_ENABLE_X64 shell environment variable. See https://github.com/google/jax#current-gotchas for more.\n",
      "  return lax_numpy.astype(arr, dtype, copy=copy, device=device)\n",
      "/opt/homebrew/Caskroom/miniforge/base/envs/rl/lib/python3.9/site-packages/jax/_src/numpy/array_methods.py:68: UserWarning: Explicitly requested dtype <class 'jax.numpy.int64'> requested in astype is not available, and will be truncated to dtype int32. To enable more dtypes, set the jax_enable_x64 configuration option or the JAX_ENABLE_X64 shell environment variable. See https://github.com/google/jax#current-gotchas for more.\n",
      "  return lax_numpy.astype(arr, dtype, copy=copy, device=device)\n",
      "/opt/homebrew/Caskroom/miniforge/base/envs/rl/lib/python3.9/site-packages/jax/_src/numpy/array_methods.py:68: UserWarning: Explicitly requested dtype <class 'jax.numpy.int64'> requested in astype is not available, and will be truncated to dtype int32. To enable more dtypes, set the jax_enable_x64 configuration option or the JAX_ENABLE_X64 shell environment variable. See https://github.com/google/jax#current-gotchas for more.\n",
      "  return lax_numpy.astype(arr, dtype, copy=copy, device=device)\n",
      "/opt/homebrew/Caskroom/miniforge/base/envs/rl/lib/python3.9/site-packages/jax/_src/numpy/array_methods.py:68: UserWarning: Explicitly requested dtype <class 'jax.numpy.int64'> requested in astype is not available, and will be truncated to dtype int32. To enable more dtypes, set the jax_enable_x64 configuration option or the JAX_ENABLE_X64 shell environment variable. See https://github.com/google/jax#current-gotchas for more.\n",
      "  return lax_numpy.astype(arr, dtype, copy=copy, device=device)\n",
      "/opt/homebrew/Caskroom/miniforge/base/envs/rl/lib/python3.9/site-packages/jax/_src/numpy/array_methods.py:68: UserWarning: Explicitly requested dtype <class 'jax.numpy.int64'> requested in astype is not available, and will be truncated to dtype int32. To enable more dtypes, set the jax_enable_x64 configuration option or the JAX_ENABLE_X64 shell environment variable. See https://github.com/google/jax#current-gotchas for more.\n",
      "  return lax_numpy.astype(arr, dtype, copy=copy, device=device)\n",
      "/opt/homebrew/Caskroom/miniforge/base/envs/rl/lib/python3.9/site-packages/jax/_src/numpy/array_methods.py:68: UserWarning: Explicitly requested dtype <class 'jax.numpy.int64'> requested in astype is not available, and will be truncated to dtype int32. To enable more dtypes, set the jax_enable_x64 configuration option or the JAX_ENABLE_X64 shell environment variable. See https://github.com/google/jax#current-gotchas for more.\n",
      "  return lax_numpy.astype(arr, dtype, copy=copy, device=device)\n",
      "/opt/homebrew/Caskroom/miniforge/base/envs/rl/lib/python3.9/site-packages/jax/_src/numpy/array_methods.py:68: UserWarning: Explicitly requested dtype <class 'jax.numpy.int64'> requested in astype is not available, and will be truncated to dtype int32. To enable more dtypes, set the jax_enable_x64 configuration option or the JAX_ENABLE_X64 shell environment variable. See https://github.com/google/jax#current-gotchas for more.\n",
      "  return lax_numpy.astype(arr, dtype, copy=copy, device=device)\n",
      "100%|██████████| 100/100 [00:01<00:00, 99.38it/s]\n"
     ]
    }
   ],
   "execution_count": 13
  },
  {
   "metadata": {
    "ExecuteTime": {
     "end_time": "2025-02-19T04:03:29.584906Z",
     "start_time": "2025-02-19T04:03:28.945047Z"
    }
   },
   "cell_type": "code",
   "source": [
    "from moviepy.editor import ImageSequenceClip\n",
    "\n",
    "def save_video(video, path, fps):\n",
    "    images = [im for im in video]\n",
    "    clip = ImageSequenceClip(images, fps=fps)\n",
    "    clip.write_videofile(path)"
   ],
   "id": "44bac8a9cb8f3f19",
   "outputs": [],
   "execution_count": 14
  },
  {
   "metadata": {
    "ExecuteTime": {
     "end_time": "2025-02-19T04:03:29.640313Z",
     "start_time": "2025-02-19T04:03:29.604806Z"
    }
   },
   "cell_type": "code",
   "source": "observations = [np.array((obs * 255).astype(np.uint8)) for obs in observations]",
   "id": "8d905766eeda745",
   "outputs": [],
   "execution_count": 15
  },
  {
   "metadata": {
    "ExecuteTime": {
     "end_time": "2025-02-19T04:03:29.816215Z",
     "start_time": "2025-02-19T04:03:29.658599Z"
    }
   },
   "cell_type": "code",
   "source": "save_video(observations, \"/Users/akhildevarashetti/code/reward_lab/evo_devo_nano/craftax.mp4\", 30)",
   "id": "7b46dfd5431c782a",
   "outputs": [
    {
     "name": "stdout",
     "output_type": "stream",
     "text": [
      "Moviepy - Building video /Users/akhildevarashetti/code/reward_lab/evo_devo_nano/craftax.mp4.\n",
      "Moviepy - Writing video /Users/akhildevarashetti/code/reward_lab/evo_devo_nano/craftax.mp4\n",
      "\n"
     ]
    },
    {
     "name": "stderr",
     "output_type": "stream",
     "text": [
      "                                                    "
     ]
    },
    {
     "name": "stdout",
     "output_type": "stream",
     "text": [
      "Moviepy - Done !\n",
      "Moviepy - video ready /Users/akhildevarashetti/code/reward_lab/evo_devo_nano/craftax.mp4\n"
     ]
    },
    {
     "name": "stderr",
     "output_type": "stream",
     "text": [
      "\r"
     ]
    }
   ],
   "execution_count": 16
  },
  {
   "metadata": {
    "ExecuteTime": {
     "end_time": "2025-02-19T04:03:29.844262Z",
     "start_time": "2025-02-19T04:03:29.837165Z"
    }
   },
   "cell_type": "code",
   "source": "actions",
   "id": "ce1595d2c93b8a8f",
   "outputs": [
    {
     "data": {
      "text/plain": [
       "[Array(17, dtype=int32),\n",
       " Array(37, dtype=int32),\n",
       " Array(0, dtype=int32),\n",
       " Array(32, dtype=int32),\n",
       " Array(34, dtype=int32),\n",
       " Array(4, dtype=int32),\n",
       " Array(20, dtype=int32),\n",
       " Array(1, dtype=int32),\n",
       " Array(3, dtype=int32),\n",
       " Array(2, dtype=int32),\n",
       " Array(30, dtype=int32),\n",
       " Array(11, dtype=int32),\n",
       " Array(14, dtype=int32),\n",
       " Array(9, dtype=int32),\n",
       " Array(35, dtype=int32),\n",
       " Array(26, dtype=int32),\n",
       " Array(23, dtype=int32),\n",
       " Array(0, dtype=int32),\n",
       " Array(25, dtype=int32),\n",
       " Array(11, dtype=int32),\n",
       " Array(30, dtype=int32),\n",
       " Array(7, dtype=int32),\n",
       " Array(41, dtype=int32),\n",
       " Array(33, dtype=int32),\n",
       " Array(10, dtype=int32),\n",
       " Array(15, dtype=int32),\n",
       " Array(4, dtype=int32),\n",
       " Array(39, dtype=int32),\n",
       " Array(11, dtype=int32),\n",
       " Array(2, dtype=int32),\n",
       " Array(18, dtype=int32),\n",
       " Array(11, dtype=int32),\n",
       " Array(13, dtype=int32),\n",
       " Array(12, dtype=int32),\n",
       " Array(2, dtype=int32),\n",
       " Array(0, dtype=int32),\n",
       " Array(18, dtype=int32),\n",
       " Array(38, dtype=int32),\n",
       " Array(27, dtype=int32),\n",
       " Array(19, dtype=int32),\n",
       " Array(2, dtype=int32),\n",
       " Array(32, dtype=int32),\n",
       " Array(3, dtype=int32),\n",
       " Array(37, dtype=int32),\n",
       " Array(17, dtype=int32),\n",
       " Array(5, dtype=int32),\n",
       " Array(41, dtype=int32),\n",
       " Array(41, dtype=int32),\n",
       " Array(14, dtype=int32),\n",
       " Array(5, dtype=int32),\n",
       " Array(11, dtype=int32),\n",
       " Array(2, dtype=int32),\n",
       " Array(28, dtype=int32),\n",
       " Array(0, dtype=int32),\n",
       " Array(30, dtype=int32),\n",
       " Array(22, dtype=int32),\n",
       " Array(15, dtype=int32),\n",
       " Array(40, dtype=int32),\n",
       " Array(0, dtype=int32),\n",
       " Array(7, dtype=int32),\n",
       " Array(22, dtype=int32),\n",
       " Array(16, dtype=int32),\n",
       " Array(9, dtype=int32),\n",
       " Array(18, dtype=int32),\n",
       " Array(34, dtype=int32),\n",
       " Array(11, dtype=int32),\n",
       " Array(17, dtype=int32),\n",
       " Array(32, dtype=int32),\n",
       " Array(34, dtype=int32),\n",
       " Array(8, dtype=int32),\n",
       " Array(6, dtype=int32),\n",
       " Array(28, dtype=int32),\n",
       " Array(26, dtype=int32),\n",
       " Array(21, dtype=int32),\n",
       " Array(16, dtype=int32),\n",
       " Array(20, dtype=int32),\n",
       " Array(21, dtype=int32),\n",
       " Array(19, dtype=int32),\n",
       " Array(16, dtype=int32),\n",
       " Array(16, dtype=int32),\n",
       " Array(7, dtype=int32),\n",
       " Array(25, dtype=int32),\n",
       " Array(37, dtype=int32),\n",
       " Array(26, dtype=int32),\n",
       " Array(36, dtype=int32),\n",
       " Array(10, dtype=int32),\n",
       " Array(31, dtype=int32),\n",
       " Array(39, dtype=int32),\n",
       " Array(34, dtype=int32),\n",
       " Array(22, dtype=int32),\n",
       " Array(33, dtype=int32),\n",
       " Array(2, dtype=int32),\n",
       " Array(26, dtype=int32),\n",
       " Array(1, dtype=int32),\n",
       " Array(13, dtype=int32),\n",
       " Array(29, dtype=int32),\n",
       " Array(6, dtype=int32),\n",
       " Array(34, dtype=int32),\n",
       " Array(25, dtype=int32),\n",
       " Array(35, dtype=int32)]"
      ]
     },
     "execution_count": 17,
     "metadata": {},
     "output_type": "execute_result"
    }
   ],
   "execution_count": 17
  },
  {
   "metadata": {},
   "cell_type": "markdown",
   "source": "# Symbolic Env",
   "id": "4343ee63f63c35c0"
  },
  {
   "metadata": {
    "ExecuteTime": {
     "end_time": "2025-02-19T04:44:44.936384Z",
     "start_time": "2025-02-19T04:44:44.931329Z"
    }
   },
   "cell_type": "code",
   "source": [
    "env = craftax_env.make_craftax_env_from_params(classic=False, symbolic=True, auto_reset=False)\n",
    "env.static_env_params"
   ],
   "id": "35f1d753edf38137",
   "outputs": [
    {
     "data": {
      "text/plain": [
       "StaticEnvParams(map_size=(48, 48), num_levels=9, max_melee_mobs=3, max_passive_mobs=3, max_growing_plants=10, max_ranged_mobs=2, max_mob_projectiles=3, max_player_projectiles=3)"
      ]
     },
     "execution_count": 18,
     "metadata": {},
     "output_type": "execute_result"
    }
   ],
   "execution_count": 18
  },
  {
   "metadata": {
    "ExecuteTime": {
     "end_time": "2025-02-19T04:46:08.640611Z",
     "start_time": "2025-02-19T04:46:08.636252Z"
    }
   },
   "cell_type": "code",
   "source": [
    "action_space = env.action_space()\n",
    "obs_space = env.observation_space(env.static_env_params)\n",
    "\n",
    "action_space.shape, action_space.n, obs_space.shape, obs_space.low, obs_space.high, obs_space.dtype"
   ],
   "id": "dd9463cc62aac9f8",
   "outputs": [
    {
     "data": {
      "text/plain": [
       "((), 43, (8268,), 0.0, 1.0, jax.numpy.float32)"
      ]
     },
     "execution_count": 21,
     "metadata": {},
     "output_type": "execute_result"
    }
   ],
   "execution_count": 21
  },
  {
   "metadata": {
    "ExecuteTime": {
     "end_time": "2025-02-19T04:48:46.799386Z",
     "start_time": "2025-02-19T04:48:34.977072Z"
    }
   },
   "cell_type": "code",
   "source": [
    "key, subkey = random.split(key)\n",
    "obs, state = env.reset(subkey)\n",
    "obs"
   ],
   "id": "f4c5c2a1f8d0750a",
   "outputs": [
    {
     "data": {
      "text/plain": [
       "Array([0., 0., 1., ..., 0., 1., 0.], dtype=float32)"
      ]
     },
     "execution_count": 22,
     "metadata": {},
     "output_type": "execute_result"
    }
   ],
   "execution_count": 22
  },
  {
   "metadata": {
    "ExecuteTime": {
     "end_time": "2025-02-19T04:51:00.148756Z",
     "start_time": "2025-02-19T04:51:00.116241Z"
    }
   },
   "cell_type": "code",
   "source": "jnp.unique_values(obs)",
   "id": "1dc8acf5790c703d",
   "outputs": [
    {
     "data": {
      "text/plain": [
       "Array([0.       , 0.1      , 0.7969252, 0.9      , 1.       ], dtype=float32)"
      ]
     },
     "execution_count": 28,
     "metadata": {},
     "output_type": "execute_result"
    }
   ],
   "execution_count": 28
  },
  {
   "metadata": {},
   "cell_type": "markdown",
   "source": "# Classic Env",
   "id": "84e0e1746c085e11"
  },
  {
   "metadata": {
    "ExecuteTime": {
     "end_time": "2025-02-19T04:52:47.078347Z",
     "start_time": "2025-02-19T04:52:32.128279Z"
    }
   },
   "cell_type": "code",
   "source": [
    "env = craftax_env.make_craftax_env_from_params(classic=True, symbolic=False, auto_reset=False)\n",
    "env.static_env_params"
   ],
   "id": "ccc5a8e047a63b4b",
   "outputs": [
    {
     "name": "stdout",
     "output_type": "stream",
     "text": [
      "Processing Craftax-Classic textures. This will take a minute but will be cached for future use.\n",
      "Textures loaded and saved to cache.\n"
     ]
    },
    {
     "data": {
      "text/plain": [
       "StaticEnvParams(map_size=(64, 64), max_zombies=3, max_cows=3, max_growing_plants=10, max_skeletons=2, max_arrows=3)"
      ]
     },
     "execution_count": 30,
     "metadata": {},
     "output_type": "execute_result"
    }
   ],
   "execution_count": 30
  },
  {
   "metadata": {
    "ExecuteTime": {
     "end_time": "2025-02-19T04:53:48.352087Z",
     "start_time": "2025-02-19T04:53:48.348082Z"
    }
   },
   "cell_type": "code",
   "source": [
    "action_space = env.action_space()\n",
    "obs_space = env.observation_space(env.static_env_params)\n",
    "\n",
    "action_space.shape, action_space.n, obs_space.shape, obs_space.low, obs_space.high, obs_space.dtype"
   ],
   "id": "d9eb5e2b5e1d030e",
   "outputs": [
    {
     "data": {
      "text/plain": [
       "((), 17, (63, 63, 3), 0.0, 1.0, jax.numpy.float32)"
      ]
     },
     "execution_count": 31,
     "metadata": {},
     "output_type": "execute_result"
    }
   ],
   "execution_count": 31
  },
  {
   "metadata": {
    "ExecuteTime": {
     "end_time": "2025-02-19T04:55:19.227160Z",
     "start_time": "2025-02-19T04:55:19.195237Z"
    }
   },
   "cell_type": "code",
   "source": [
    "key, subkey = random.split(key)\n",
    "obs, state = env.reset(subkey)\n",
    "Image.fromarray((np.asarray(obs) * 255).astype(np.uint8)).resize((256, 256))"
   ],
   "id": "3a7ad8751f23999e",
   "outputs": [
    {
     "data": {
      "text/plain": [
       "<PIL.Image.Image image mode=RGB size=256x256>"
      ],
      "image/png": "[encoded data removed]"
     },
     "execution_count": 35,
     "metadata": {},
     "output_type": "execute_result"
    }
   ],
   "execution_count": 35
  },
  {
   "metadata": {},
   "cell_type": "markdown",
   "source": "# Classic Symbolic Env",
   "id": "93117d7a65a63053"
  },
  {
   "metadata": {
    "ExecuteTime": {
     "end_time": "2025-02-19T05:02:31.959693Z",
     "start_time": "2025-02-19T05:02:31.956535Z"
    }
   },
   "cell_type": "code",
   "source": [
    "env = craftax_env.make_craftax_env_from_params(classic=True, symbolic=True, auto_reset=False)\n",
    "env.static_env_params"
   ],
   "id": "707af52b813901bd",
   "outputs": [
    {
     "data": {
      "text/plain": [
       "StaticEnvParams(map_size=(64, 64), max_zombies=3, max_cows=3, max_growing_plants=10, max_skeletons=2, max_arrows=3)"
      ]
     },
     "execution_count": 37,
     "metadata": {},
     "output_type": "execute_result"
    }
   ],
   "execution_count": 37
  },
  {
   "metadata": {
    "ExecuteTime": {
     "end_time": "2025-02-19T05:02:50.715306Z",
     "start_time": "2025-02-19T05:02:50.711682Z"
    }
   },
   "cell_type": "code",
   "source": [
    "action_space = env.action_space()\n",
    "obs_space = env.observation_space(env.static_env_params)\n",
    "\n",
    "action_space.shape, action_space.n, obs_space.shape, obs_space.low, obs_space.high, obs_space.dtype"
   ],
   "id": "c3c462111c1d91e9",
   "outputs": [
    {
     "data": {
      "text/plain": [
       "((), 17, (1345,), 0.0, 1.0, jax.numpy.float32)"
      ]
     },
     "execution_count": 38,
     "metadata": {},
     "output_type": "execute_result"
    }
   ],
   "execution_count": 38
  },
  {
   "metadata": {
    "ExecuteTime": {
     "end_time": "2025-02-19T05:03:45.581553Z",
     "start_time": "2025-02-19T05:03:43.748376Z"
    }
   },
   "cell_type": "code",
   "source": [
    "key, subkey = random.split(key)\n",
    "obs, state = env.reset(subkey)\n",
    "obs"
   ],
   "id": "f199e86e4021889c",
   "outputs": [
    {
     "data": {
      "text/plain": [
       "Array([0.       , 0.       , 1.       , ..., 0.       , 0.7969252,\n",
       "       0.       ], dtype=float32)"
      ]
     },
     "execution_count": 39,
     "metadata": {},
     "output_type": "execute_result"
    }
   ],
   "execution_count": 39
  },
  {
   "metadata": {},
   "cell_type": "code",
   "outputs": [],
   "execution_count": null,
   "source": "",
   "id": "a50ca4d2341f0f85"
  }
 ],
 "metadata": {
  "kernelspec": {
   "display_name": "Python 3",
   "language": "python",
   "name": "python3"
  },
  "language_info": {
   "codemirror_mode": {
    "name": "ipython",
    "version": 2
   },
   "file_extension": ".py",
   "mimetype": "text/x-python",
   "name": "python",
   "nbconvert_exporter": "python",
   "pygments_lexer": "ipython2",
   "version": "2.7.6"
  }
 },
 "nbformat": 4,
 "nbformat_minor": 5
}
