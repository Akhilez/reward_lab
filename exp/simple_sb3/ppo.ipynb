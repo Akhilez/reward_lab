{
 "cells": [
  {
   "cell_type": "code",
   "execution_count": 1,
   "outputs": [
    {
     "name": "stderr",
     "output_type": "stream",
     "text": [
      "/usr/local/lib/python3.8/dist-packages/tqdm/auto.py:22: TqdmWarning: IProgress not found. Please update jupyter and ipywidgets. See https://ipywidgets.readthedocs.io/en/stable/user_install.html\n",
      "  from .autonotebook import tqdm as notebook_tqdm\n"
     ]
    }
   ],
   "source": [
    "import torch\n",
    "import torch.nn as nn\n",
    "import torch.optim as optim\n",
    "from torch.distributions import Categorical\n",
    "import numpy as np\n",
    "import matplotlib.pyplot as plt\n",
    "import gymnasium as gym\n",
    "from IPython.display import clear_output\n",
    "from torch.utils.data import DataLoader"
   ],
   "metadata": {
    "collapsed": false
   }
  },
  {
   "cell_type": "code",
   "execution_count": 2,
   "outputs": [],
   "source": [
    "class P:\n",
    "    device='cuda:4'\n",
    "    env='CartPole-v1'\n",
    "    num_envs=16\n",
    "    hidden_units=128\n",
    "    lr=3e-4\n",
    "    num_steps_td=5\n",
    "    max_steps=6000\n",
    "    gamma=0.99\n",
    "    tau=0.95\n",
    "    eval_every=500\n",
    "    n_eval_episodes=10\n",
    "    lambda_policy = 1\n",
    "    lambda_value = 0.5\n",
    "    lambda_entropy = 0.001\n",
    "    ppo_epochs = 4\n",
    "    ppo_batch_size = 5\n",
    "    clip_epsilon = 0.2"
   ],
   "metadata": {
    "collapsed": false
   }
  },
  {
   "cell_type": "markdown",
   "source": [
    "# Envs"
   ],
   "metadata": {
    "collapsed": false
   }
  },
  {
   "cell_type": "code",
   "execution_count": 3,
   "metadata": {
    "collapsed": true
   },
   "outputs": [],
   "source": [
    "envs = gym.vector.make(P.env, num_envs=P.num_envs)\n",
    "test_env = gym.make(P.env)"
   ]
  },
  {
   "cell_type": "markdown",
   "source": [
    "# Neural Network"
   ],
   "metadata": {
    "collapsed": false
   }
  },
  {
   "cell_type": "code",
   "execution_count": 4,
   "outputs": [],
   "source": [
    "class ActorCritic(nn.Module):\n",
    "    def __init__(self, num_inputs, num_outputs, hidden_size):\n",
    "        super(ActorCritic, self).__init__()\n",
    "\n",
    "        self.critic = nn.Sequential(\n",
    "            nn.Linear(num_inputs, hidden_size),\n",
    "            nn.ReLU(),\n",
    "            nn.Linear(hidden_size, 1),\n",
    "        )\n",
    "\n",
    "        self.actor = nn.Sequential(\n",
    "            nn.Linear(num_inputs, hidden_size),\n",
    "            nn.ReLU(),\n",
    "            nn.Linear(hidden_size, num_outputs),\n",
    "            nn.Softmax(dim=1),\n",
    "        )\n",
    "\n",
    "    def forward(self, x):\n",
    "        value = self.critic(x)\n",
    "        probs = self.actor(x)\n",
    "        dist = Categorical(probs)\n",
    "        return dist, value"
   ],
   "metadata": {
    "collapsed": false
   }
  },
  {
   "cell_type": "code",
   "execution_count": 5,
   "outputs": [
    {
     "data": {
      "text/plain": "(4, 2)"
     },
     "execution_count": 5,
     "metadata": {},
     "output_type": "execute_result"
    }
   ],
   "source": [
    "num_inputs = envs.single_observation_space.shape[0]\n",
    "num_outputs = envs.single_action_space.n\n",
    "num_inputs, num_outputs"
   ],
   "metadata": {
    "collapsed": false
   }
  },
  {
   "cell_type": "code",
   "execution_count": 6,
   "outputs": [],
   "source": [
    "model = ActorCritic(num_inputs, num_outputs, P.hidden_units).to(P.device)\n",
    "optimizer = optim.Adam(model.parameters(), lr=P.lr)"
   ],
   "metadata": {
    "collapsed": false
   }
  },
  {
   "cell_type": "markdown",
   "source": [
    "# Helper funcs"
   ],
   "metadata": {
    "collapsed": false
   }
  },
  {
   "cell_type": "code",
   "execution_count": 7,
   "outputs": [],
   "source": [
    "def plot(frame_idx, rewards):\n",
    "    clear_output(True)\n",
    "    plt.title(\"frame %s. reward: %s\" % (frame_idx, rewards[-1]))\n",
    "    plt.plot(rewards)\n",
    "    plt.show()"
   ],
   "metadata": {
    "collapsed": false
   }
  },
  {
   "cell_type": "code",
   "execution_count": 8,
   "outputs": [],
   "source": [
    "def evaluate(env, model, device):\n",
    "    state, _ = env.reset()\n",
    "    done = False\n",
    "    total_reward = 0\n",
    "    while not done:\n",
    "        state = torch.FloatTensor(state).unsqueeze(0).to(device)\n",
    "        dist, _ = model(state)\n",
    "        next_state, reward, termination, truncation, info = env.step(dist.sample().cpu().numpy()[0])\n",
    "        done = termination or truncation\n",
    "        state = next_state\n",
    "        total_reward += reward\n",
    "    return total_reward"
   ],
   "metadata": {
    "collapsed": false
   }
  },
  {
   "cell_type": "markdown",
   "source": [
    "# GAE"
   ],
   "metadata": {
    "collapsed": false
   }
  },
  {
   "cell_type": "code",
   "execution_count": 9,
   "outputs": [],
   "source": [
    "def compute_gae(next_value, rewards, masks, values, gamma, tau):\n",
    "    values = values + [next_value]\n",
    "    gae = 0\n",
    "    returns = []\n",
    "    for step in reversed(range(len(rewards))):\n",
    "        delta = rewards[step] + gamma * values[step + 1] * masks[step] - values[step]\n",
    "        gae = delta + gamma * tau * masks[step] * gae\n",
    "        returns.insert(0, gae + values[step])\n",
    "    return returns"
   ],
   "metadata": {
    "collapsed": false
   }
  },
  {
   "cell_type": "markdown",
   "source": [
    "# A2C"
   ],
   "metadata": {
    "collapsed": false
   }
  },
  {
   "cell_type": "code",
   "execution_count": 10,
   "outputs": [
    {
     "data": {
      "text/plain": "<Figure size 640x480 with 1 Axes>",
      "image/png": "[encoded data removed]"
     },
     "metadata": {},
     "output_type": "display_data"
    },
    {
     "data": {
      "text/plain": "500.0"
     },
     "execution_count": 10,
     "metadata": {},
     "output_type": "execute_result"
    }
   ],
   "source": [
    "frame_idx = 0\n",
    "test_rewards = []\n",
    "\n",
    "state, _ = envs.reset()\n",
    "while frame_idx < P.max_steps:\n",
    "    log_probs = []\n",
    "    values = []\n",
    "    states = []  # new\n",
    "    actions = []  # new\n",
    "    rewards = []\n",
    "    masks = []\n",
    "    entropy = 0\n",
    "\n",
    "    for _ in range(P.num_steps_td):\n",
    "        state = torch.FloatTensor(state)\n",
    "        state = state.to(P.device)\n",
    "        dist, value = model(state)\n",
    "\n",
    "        action = dist.sample()\n",
    "        next_state, reward, terminations, truncations, infos = envs.step(action.cpu().numpy())\n",
    "        done = np.logical_or(terminations, truncations)\n",
    "\n",
    "        log_prob = dist.log_prob(action)\n",
    "        entropy += dist.entropy().mean()\n",
    "\n",
    "        log_probs.append(log_prob)\n",
    "        values.append(value)\n",
    "        rewards.append(torch.FloatTensor(reward).unsqueeze(1).to(P.device))\n",
    "        masks.append(torch.FloatTensor(1 - done).unsqueeze(1).to(P.device))\n",
    "        states.append(state)  # new\n",
    "        actions.append(action)  # new\n",
    "\n",
    "        state = next_state\n",
    "        frame_idx += 1\n",
    "        if frame_idx % P.eval_every == 0:\n",
    "            test_rewards.append(np.mean([evaluate(test_env, model, P.device) for _ in range(P.n_eval_episodes)]))\n",
    "            plot(frame_idx, test_rewards)\n",
    "\n",
    "    # Bootstrap to get returns in n-step\n",
    "    next_state = torch.FloatTensor(state).to(P.device)\n",
    "    _, next_value = model(next_state)\n",
    "    returns = compute_gae(next_value, rewards, masks, values, P.gamma, P.tau)\n",
    "\n",
    "    log_probs = torch.cat(log_probs).detach()  # new\n",
    "    returns = torch.cat(returns).detach()\n",
    "    values = torch.cat(values).detach()  # new\n",
    "    states = torch.cat(states)\n",
    "    actions = torch.cat(actions)\n",
    "    advantages = returns - values\n",
    "\n",
    "    # Losses\n",
    "    # actor_loss = -(log_probs * advantage.detach()).mean()\n",
    "    # critic_loss = advantage.pow(2).mean()\n",
    "\n",
    "    # PPO learning update\n",
    "    for _ in range(P.ppo_epochs):\n",
    "        dataset = list(zip(states, actions, log_probs, returns, advantages))\n",
    "        dataloader = DataLoader(dataset, batch_size=P.ppo_batch_size, shuffle=True)\n",
    "        for state_, action, old_log_probs, return_, advantage in dataloader:\n",
    "            dist, value = model(state_)\n",
    "            entropy = dist.entropy().mean()\n",
    "            new_log_probs = dist.log_prob(action)\n",
    "\n",
    "            # Why (log_prob, minus, exp) instead of (prob, div)?\n",
    "            ratio = (new_log_probs - old_log_probs).exp()\n",
    "            surr1 = ratio * advantage\n",
    "            surr2 = torch.clamp(ratio, 1.0 - P.clip_epsilon, 1.0 + P.clip_epsilon) * advantage\n",
    "\n",
    "            actor_loss  = - torch.min(surr1, surr2).mean()\n",
    "            critic_loss = (return_ - value).pow(2).mean()\n",
    "\n",
    "            loss = (\n",
    "                (P.lambda_policy * actor_loss)\n",
    "                + (P.lambda_value * critic_loss)\n",
    "                - (P.lambda_entropy * entropy)\n",
    "            )\n",
    "\n",
    "            optimizer.zero_grad()\n",
    "            loss.backward()\n",
    "            optimizer.step()\n",
    "\n",
    "evaluate(test_env, model, P.device)"
   ],
   "metadata": {
    "collapsed": false
   }
  },
  {
   "cell_type": "code",
   "execution_count": 10,
   "outputs": [],
   "source": [],
   "metadata": {
    "collapsed": false
   }
  }
 ],
 "metadata": {
  "kernelspec": {
   "display_name": "Python 3",
   "language": "python",
   "name": "python3"
  },
  "language_info": {
   "codemirror_mode": {
    "name": "ipython",
    "version": 2
   },
   "file_extension": ".py",
   "mimetype": "text/x-python",
   "name": "python",
   "nbconvert_exporter": "python",
   "pygments_lexer": "ipython2",
   "version": "2.7.6"
  }
 },
 "nbformat": 4,
 "nbformat_minor": 0
}
