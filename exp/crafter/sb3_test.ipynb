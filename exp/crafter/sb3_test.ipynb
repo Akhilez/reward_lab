{
 "cells": [
  {
   "cell_type": "code",
   "execution_count": 1,
   "outputs": [],
   "source": [
    "import crafter\n",
    "import stable_baselines3"
   ],
   "metadata": {
    "collapsed": false
   }
  },
  {
   "cell_type": "code",
   "execution_count": 4,
   "outputs": [
    {
     "name": "stdout",
     "output_type": "stream",
     "text": [
      "Using cpu device\n",
      "Wrapping the env with a `Monitor` wrapper\n",
      "Wrapping the env in a DummyVecEnv.\n",
      "Wrapping the env in a VecTransposeImage.\n",
      "---------------------------------\n",
      "| rollout/           |          |\n",
      "|    ep_len_mean     | 196      |\n",
      "|    ep_rew_mean     | 1.5      |\n",
      "| time/              |          |\n",
      "|    fps             | 265      |\n",
      "|    iterations      | 1        |\n",
      "|    time_elapsed    | 7        |\n",
      "|    total_timesteps | 2048     |\n",
      "---------------------------------\n",
      "-----------------------------------------\n",
      "| rollout/                |             |\n",
      "|    ep_len_mean          | 190         |\n",
      "|    ep_rew_mean          | 1.53        |\n",
      "| time/                   |             |\n",
      "|    fps                  | 193         |\n",
      "|    iterations           | 2           |\n",
      "|    time_elapsed         | 21          |\n",
      "|    total_timesteps      | 4096        |\n",
      "| train/                  |             |\n",
      "|    approx_kl            | 0.012290091 |\n",
      "|    clip_fraction        | 0.111       |\n",
      "|    clip_range           | 0.2         |\n",
      "|    entropy_loss         | -2.82       |\n",
      "|    explained_variance   | -0.0921     |\n",
      "|    learning_rate        | 0.0003      |\n",
      "|    loss                 | -0.0237     |\n",
      "|    n_updates            | 10          |\n",
      "|    policy_gradient_loss | -0.0206     |\n",
      "|    value_loss           | 0.0512      |\n",
      "-----------------------------------------\n",
      "----------------------------------------\n",
      "| rollout/                |            |\n",
      "|    ep_len_mean          | 179        |\n",
      "|    ep_rew_mean          | 1.72       |\n",
      "| time/                   |            |\n",
      "|    fps                  | 172        |\n",
      "|    iterations           | 3          |\n",
      "|    time_elapsed         | 35         |\n",
      "|    total_timesteps      | 6144       |\n",
      "| train/                  |            |\n",
      "|    approx_kl            | 0.01801321 |\n",
      "|    clip_fraction        | 0.209      |\n",
      "|    clip_range           | 0.2        |\n",
      "|    entropy_loss         | -2.79      |\n",
      "|    explained_variance   | 0.256      |\n",
      "|    learning_rate        | 0.0003     |\n",
      "|    loss                 | -0.0462    |\n",
      "|    n_updates            | 20         |\n",
      "|    policy_gradient_loss | -0.0353    |\n",
      "|    value_loss           | 0.0593     |\n",
      "----------------------------------------\n",
      "----------------------------------------\n",
      "| rollout/                |            |\n",
      "|    ep_len_mean          | 177        |\n",
      "|    ep_rew_mean          | 1.67       |\n",
      "| time/                   |            |\n",
      "|    fps                  | 163        |\n",
      "|    iterations           | 4          |\n",
      "|    time_elapsed         | 50         |\n",
      "|    total_timesteps      | 8192       |\n",
      "| train/                  |            |\n",
      "|    approx_kl            | 0.02066473 |\n",
      "|    clip_fraction        | 0.244      |\n",
      "|    clip_range           | 0.2        |\n",
      "|    entropy_loss         | -2.78      |\n",
      "|    explained_variance   | 0.609      |\n",
      "|    learning_rate        | 0.0003     |\n",
      "|    loss                 | -0.0107    |\n",
      "|    n_updates            | 30         |\n",
      "|    policy_gradient_loss | -0.0375    |\n",
      "|    value_loss           | 0.0548     |\n",
      "----------------------------------------\n",
      "----------------------------------------\n",
      "| rollout/                |            |\n",
      "|    ep_len_mean          | 176        |\n",
      "|    ep_rew_mean          | 1.67       |\n",
      "| time/                   |            |\n",
      "|    fps                  | 157        |\n",
      "|    iterations           | 5          |\n",
      "|    time_elapsed         | 64         |\n",
      "|    total_timesteps      | 10240      |\n",
      "| train/                  |            |\n",
      "|    approx_kl            | 0.02019864 |\n",
      "|    clip_fraction        | 0.222      |\n",
      "|    clip_range           | 0.2        |\n",
      "|    entropy_loss         | -2.76      |\n",
      "|    explained_variance   | 0.692      |\n",
      "|    learning_rate        | 0.0003     |\n",
      "|    loss                 | -0.0482    |\n",
      "|    n_updates            | 40         |\n",
      "|    policy_gradient_loss | -0.0397    |\n",
      "|    value_loss           | 0.0643     |\n",
      "----------------------------------------\n"
     ]
    },
    {
     "data": {
      "text/plain": "<stable_baselines3.ppo.ppo.PPO at 0x15e3dca7a90>"
     },
     "execution_count": 4,
     "metadata": {},
     "output_type": "execute_result"
    }
   ],
   "source": [
    "args = {\n",
    "    'steps': 10000,\n",
    "    'outdir': r'F:\\reward_lab\\exp\\crafter\\logs',\n",
    "}\n",
    "\n",
    "env = crafter.Env()\n",
    "env = crafter.Recorder(\n",
    "    env, args['outdir'],\n",
    "    save_stats=True,\n",
    "    save_episode=False,\n",
    "    save_video=False,\n",
    ")\n",
    "\n",
    "model = stable_baselines3.PPO('CnnPolicy', env, verbose=1)\n",
    "model.learn(total_timesteps=args['steps'])"
   ],
   "metadata": {
    "collapsed": false
   }
  },
  {
   "cell_type": "code",
   "execution_count": null,
   "outputs": [],
   "source": [],
   "metadata": {
    "collapsed": false
   }
  }
 ],
 "metadata": {
  "kernelspec": {
   "display_name": "Python 3",
   "language": "python",
   "name": "python3"
  },
  "language_info": {
   "codemirror_mode": {
    "name": "ipython",
    "version": 2
   },
   "file_extension": ".py",
   "mimetype": "text/x-python",
   "name": "python",
   "nbconvert_exporter": "python",
   "pygments_lexer": "ipython2",
   "version": "2.7.6"
  }
 },
 "nbformat": 4,
 "nbformat_minor": 0
}
