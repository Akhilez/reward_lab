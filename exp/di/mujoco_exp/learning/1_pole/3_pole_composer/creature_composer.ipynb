{
 "cells": [
  {
   "cell_type": "code",
   "execution_count": 1,
   "outputs": [],
   "source": [
    "from PIL import Image\n",
    "from dm_control import composer\n",
    "import numpy as np\n",
    "from dm_control import mjcf\n",
    "from dm_control.composer import variation\n",
    "from dm_control.composer.observation import observable\n",
    "from dm_control.composer.variation import distributions, noises\n",
    "from dm_control.locomotion.arenas import floors"
   ],
   "metadata": {
    "collapsed": false,
    "ExecuteTime": {
     "end_time": "2023-08-13T23:25:08.766919Z",
     "start_time": "2023-08-13T23:25:08.419361Z"
    }
   },
   "id": "1dcc489c8d4b3246"
  },
  {
   "cell_type": "code",
   "execution_count": 2,
   "outputs": [],
   "source": [
    "\n",
    "class Leg(object):\n",
    "    \"\"\"A 2-DoF leg with position actuators.\"\"\"\n",
    "\n",
    "    def __init__(self, length, rgba):\n",
    "        self.model = mjcf.RootElement()\n",
    "\n",
    "        # Defaults:\n",
    "        self.model.default.joint.damping = 2\n",
    "        self.model.default.joint.type = \"hinge\"\n",
    "        self.model.default.geom.type = \"capsule\"\n",
    "        self.model.default.geom.rgba = rgba  # Continued below...\n",
    "\n",
    "        # Thigh:\n",
    "        self.thigh = self.model.worldbody.add(\"body\")\n",
    "        self.hip = self.thigh.add(\"joint\", axis=[0, 0, 1])\n",
    "        self.thigh.add(\"geom\", fromto=[0, 0, 0, length, 0, 0], size=[length / 4])\n",
    "\n",
    "        # Hip:\n",
    "        self.shin = self.thigh.add(\"body\", pos=[length, 0, 0])\n",
    "        self.knee = self.shin.add(\"joint\", axis=[0, 1, 0])\n",
    "        self.shin.add(\"geom\", fromto=[0, 0, 0, 0, 0, -length], size=[length / 5])\n",
    "\n",
    "        # Position actuators:\n",
    "        self.model.actuator.add(\"position\", joint=self.hip, kp=10)\n",
    "        self.model.actuator.add(\"position\", joint=self.knee, kp=10)\n",
    "\n",
    "\n",
    "BODY_RADIUS = 0.1\n",
    "BODY_SIZE = (BODY_RADIUS, BODY_RADIUS, BODY_RADIUS / 2)\n",
    "random_state = np.random.RandomState(42)\n",
    "\n",
    "\n",
    "def make_creature(num_legs):\n",
    "    \"\"\"Constructs a creature with `num_legs` legs.\"\"\"\n",
    "    rgba = random_state.uniform([0, 0, 0, 1], [1, 1, 1, 1])\n",
    "    model = mjcf.RootElement()\n",
    "    model.compiler.angle = \"radian\"  # Use radians.\n",
    "\n",
    "    # Make the torso geom.\n",
    "    model.worldbody.add(\n",
    "        \"geom\", name=\"torso\", type=\"ellipsoid\", size=BODY_SIZE, rgba=rgba\n",
    "    )\n",
    "\n",
    "    # Attach legs to equidistant sites on the circumference.\n",
    "    for i in range(num_legs):\n",
    "        theta = 2 * i * np.pi / num_legs\n",
    "        hip_pos = BODY_RADIUS * np.array([np.cos(theta), np.sin(theta), 0])\n",
    "        hip_site = model.worldbody.add(\"site\", pos=hip_pos, euler=[0, 0, theta])\n",
    "        leg = Leg(length=BODY_RADIUS, rgba=rgba)\n",
    "        hip_site.attach(leg.model)\n",
    "\n",
    "    return model\n"
   ],
   "metadata": {
    "collapsed": false,
    "ExecuteTime": {
     "end_time": "2023-08-13T23:25:16.934172Z",
     "start_time": "2023-08-13T23:25:16.920755Z"
    }
   },
   "id": "a56a4785fd64004a"
  },
  {
   "cell_type": "code",
   "execution_count": 3,
   "outputs": [],
   "source": [
    "class CreatureObservables(composer.Observables):\n",
    "    @composer.observable\n",
    "    def joint_positions(self):\n",
    "        all_joints = self._entity.mjcf_model.find_all(\"joint\")\n",
    "        return observable.MJCFFeature(\"qpos\", all_joints)\n",
    "\n",
    "    @composer.observable\n",
    "    def joint_velocities(self):\n",
    "        all_joints = self._entity.mjcf_model.find_all(\"joint\")\n",
    "        return observable.MJCFFeature(\"qvel\", all_joints)\n",
    "\n",
    "\n",
    "class Creature(composer.Entity):\n",
    "    \"\"\"A multi-legged creature derived from `composer.Entity`.\"\"\"\n",
    "\n",
    "    def _build(self, num_legs):\n",
    "        self._model = make_creature(num_legs)\n",
    "\n",
    "    def _build_observables(self):\n",
    "        return CreatureObservables(self)\n",
    "\n",
    "    @property\n",
    "    def mjcf_model(self):\n",
    "        return self._model\n",
    "\n",
    "    @property\n",
    "    def actuators(self):\n",
    "        return tuple(self._model.find_all(\"actuator\"))\n"
   ],
   "metadata": {
    "collapsed": false,
    "ExecuteTime": {
     "end_time": "2023-08-13T23:26:02.139765Z",
     "start_time": "2023-08-13T23:26:02.131941Z"
    }
   },
   "id": "2ffb78f8935b017e"
  },
  {
   "cell_type": "code",
   "execution_count": 4,
   "outputs": [],
   "source": [
    "creature = Creature(num_legs=4)"
   ],
   "metadata": {
    "collapsed": false,
    "ExecuteTime": {
     "end_time": "2023-08-13T23:26:16.217372Z",
     "start_time": "2023-08-13T23:26:16.213222Z"
    }
   },
   "id": "9e9d99d52cfebbe5"
  },
  {
   "cell_type": "code",
   "execution_count": 10,
   "outputs": [
    {
     "data": {
      "text/plain": "False"
     },
     "execution_count": 10,
     "metadata": {},
     "output_type": "execute_result"
    }
   ],
   "source": [
    "creature.observables.joint_positions.enabled"
   ],
   "metadata": {
    "collapsed": false,
    "ExecuteTime": {
     "end_time": "2023-08-13T23:27:57.150097Z",
     "start_time": "2023-08-13T23:27:57.147811Z"
    }
   },
   "id": "fe514de0f2d2f008"
  },
  {
   "cell_type": "code",
   "execution_count": 11,
   "outputs": [
    {
     "data": {
      "text/plain": "(MJCF Element: <position class=\"/\" joint=\"//unnamed_joint_0\" kp=\"10\"/>,\n MJCF Element: <position class=\"/\" joint=\"//unnamed_joint_1\" kp=\"10\"/>,\n MJCF Element: <position class=\"/\" joint=\"//unnamed_joint_0\" kp=\"10\"/>,\n MJCF Element: <position class=\"/\" joint=\"//unnamed_joint_1\" kp=\"10\"/>,\n MJCF Element: <position class=\"/\" joint=\"//unnamed_joint_0\" kp=\"10\"/>,\n MJCF Element: <position class=\"/\" joint=\"//unnamed_joint_1\" kp=\"10\"/>,\n MJCF Element: <position class=\"/\" joint=\"//unnamed_joint_0\" kp=\"10\"/>,\n MJCF Element: <position class=\"/\" joint=\"//unnamed_joint_1\" kp=\"10\"/>)"
     },
     "execution_count": 11,
     "metadata": {},
     "output_type": "execute_result"
    }
   ],
   "source": [
    "creature.actuators"
   ],
   "metadata": {
    "collapsed": false,
    "ExecuteTime": {
     "end_time": "2023-08-13T23:44:18.125615Z",
     "start_time": "2023-08-13T23:44:18.113944Z"
    }
   },
   "id": "28be3525752e9791"
  },
  {
   "cell_type": "code",
   "execution_count": 14,
   "outputs": [
    {
     "name": "stdout",
     "output_type": "stream",
     "text": [
      "<mujoco model=\"unnamed_model\">\n",
      "  <compiler angle=\"radian\"/>\n",
      "  <default>\n",
      "    <default class=\"/\"/>\n",
      "    <default class=\"unnamed_model/\">\n",
      "      <joint type=\"hinge\" damping=\"2\"/>\n",
      "      <geom type=\"capsule\" rgba=\"0.37454011884736249 0.95071430640991617 0.73199394181140509 1\"/>\n",
      "    </default>\n",
      "    <default class=\"unnamed_model_1/\">\n",
      "      <joint type=\"hinge\" damping=\"2\"/>\n",
      "      <geom type=\"capsule\" rgba=\"0.37454011884736249 0.95071430640991617 0.73199394181140509 1\"/>\n",
      "    </default>\n",
      "    <default class=\"unnamed_model_2/\">\n",
      "      <joint type=\"hinge\" damping=\"2\"/>\n",
      "      <geom type=\"capsule\" rgba=\"0.37454011884736249 0.95071430640991617 0.73199394181140509 1\"/>\n",
      "    </default>\n",
      "    <default class=\"unnamed_model_3/\">\n",
      "      <joint type=\"hinge\" damping=\"2\"/>\n",
      "      <geom type=\"capsule\" rgba=\"0.37454011884736249 0.95071430640991617 0.73199394181140509 1\"/>\n",
      "    </default>\n",
      "  </default>\n",
      "  <worldbody>\n",
      "    <geom name=\"torso\" class=\"/\" type=\"ellipsoid\" size=\"0.10000000000000001 0.10000000000000001 0.050000000000000003\" rgba=\"0.37454011884736249 0.95071430640991617 0.73199394181140509 1\"/>\n",
      "    <site name=\"//unnamed_site_0\" class=\"/\" pos=\"0.10000000000000001 0 0\" euler=\"0 0 0\"/>\n",
      "    <body pos=\"0.10000000000000001 0 0\" euler=\"0 0 0\" name=\"unnamed_model/\">\n",
      "      <body name=\"unnamed_model//unnamed_body_0\">\n",
      "        <joint name=\"unnamed_model//unnamed_joint_0\" class=\"unnamed_model/\" axis=\"0 0 1\"/>\n",
      "        <geom name=\"unnamed_model//unnamed_geom_0\" class=\"unnamed_model/\" size=\"0.025000000000000001\" fromto=\"0 0 0 0.10000000000000001 0 0\"/>\n",
      "        <body name=\"unnamed_model//unnamed_body_1\" pos=\"0.10000000000000001 0 0\">\n",
      "          <joint name=\"unnamed_model//unnamed_joint_1\" class=\"unnamed_model/\" axis=\"0 1 0\"/>\n",
      "          <geom name=\"unnamed_model//unnamed_geom_1\" class=\"unnamed_model/\" size=\"0.02\" fromto=\"0 0 0 0 0 -0.10000000000000001\"/>\n",
      "        </body>\n",
      "      </body>\n",
      "    </body>\n",
      "    <site name=\"//unnamed_site_1\" class=\"/\" pos=\"6.1232339957367663e-18 0.10000000000000001 0\" euler=\"0 0 1.5707963267948966\"/>\n",
      "    <body pos=\"6.1232339957367663e-18 0.10000000000000001 0\" euler=\"0 0 1.5707963267948966\" name=\"unnamed_model_1/\">\n",
      "      <body name=\"unnamed_model_1//unnamed_body_0\">\n",
      "        <joint name=\"unnamed_model_1//unnamed_joint_0\" class=\"unnamed_model_1/\" axis=\"0 0 1\"/>\n",
      "        <geom name=\"unnamed_model_1//unnamed_geom_0\" class=\"unnamed_model_1/\" size=\"0.025000000000000001\" fromto=\"0 0 0 0.10000000000000001 0 0\"/>\n",
      "        <body name=\"unnamed_model_1//unnamed_body_1\" pos=\"0.10000000000000001 0 0\">\n",
      "          <joint name=\"unnamed_model_1//unnamed_joint_1\" class=\"unnamed_model_1/\" axis=\"0 1 0\"/>\n",
      "          <geom name=\"unnamed_model_1//unnamed_geom_1\" class=\"unnamed_model_1/\" size=\"0.02\" fromto=\"0 0 0 0 0 -0.10000000000000001\"/>\n",
      "        </body>\n",
      "      </body>\n",
      "    </body>\n",
      "    <site name=\"//unnamed_site_2\" class=\"/\" pos=\"-0.10000000000000001 1.2246467991473533e-17 0\" euler=\"0 0 3.1415926535897931\"/>\n",
      "    <body pos=\"-0.10000000000000001 1.2246467991473533e-17 0\" euler=\"0 0 3.1415926535897931\" name=\"unnamed_model_2/\">\n",
      "      <body name=\"unnamed_model_2//unnamed_body_0\">\n",
      "        <joint name=\"unnamed_model_2//unnamed_joint_0\" class=\"unnamed_model_2/\" axis=\"0 0 1\"/>\n",
      "        <geom name=\"unnamed_model_2//unnamed_geom_0\" class=\"unnamed_model_2/\" size=\"0.025000000000000001\" fromto=\"0 0 0 0.10000000000000001 0 0\"/>\n",
      "        <body name=\"unnamed_model_2//unnamed_body_1\" pos=\"0.10000000000000001 0 0\">\n",
      "          <joint name=\"unnamed_model_2//unnamed_joint_1\" class=\"unnamed_model_2/\" axis=\"0 1 0\"/>\n",
      "          <geom name=\"unnamed_model_2//unnamed_geom_1\" class=\"unnamed_model_2/\" size=\"0.02\" fromto=\"0 0 0 0 0 -0.10000000000000001\"/>\n",
      "        </body>\n",
      "      </body>\n",
      "    </body>\n",
      "    <site name=\"//unnamed_site_3\" class=\"/\" pos=\"-1.8369701987210297e-17 -0.10000000000000001 0\" euler=\"0 0 4.7123889803846897\"/>\n",
      "    <body pos=\"-1.8369701987210297e-17 -0.10000000000000001 0\" euler=\"0 0 4.7123889803846897\" name=\"unnamed_model_3/\">\n",
      "      <body name=\"unnamed_model_3//unnamed_body_0\">\n",
      "        <joint name=\"unnamed_model_3//unnamed_joint_0\" class=\"unnamed_model_3/\" axis=\"0 0 1\"/>\n",
      "        <geom name=\"unnamed_model_3//unnamed_geom_0\" class=\"unnamed_model_3/\" size=\"0.025000000000000001\" fromto=\"0 0 0 0.10000000000000001 0 0\"/>\n",
      "        <body name=\"unnamed_model_3//unnamed_body_1\" pos=\"0.10000000000000001 0 0\">\n",
      "          <joint name=\"unnamed_model_3//unnamed_joint_1\" class=\"unnamed_model_3/\" axis=\"0 1 0\"/>\n",
      "          <geom name=\"unnamed_model_3//unnamed_geom_1\" class=\"unnamed_model_3/\" size=\"0.02\" fromto=\"0 0 0 0 0 -0.10000000000000001\"/>\n",
      "        </body>\n",
      "      </body>\n",
      "    </body>\n",
      "  </worldbody>\n",
      "  <actuator>\n",
      "    <position name=\"unnamed_model//unnamed_actuator_0\" class=\"unnamed_model/\" joint=\"unnamed_model//unnamed_joint_0\" kp=\"10\"/>\n",
      "    <position name=\"unnamed_model//unnamed_actuator_1\" class=\"unnamed_model/\" joint=\"unnamed_model//unnamed_joint_1\" kp=\"10\"/>\n",
      "    <position name=\"unnamed_model_1//unnamed_actuator_0\" class=\"unnamed_model_1/\" joint=\"unnamed_model_1//unnamed_joint_0\" kp=\"10\"/>\n",
      "    <position name=\"unnamed_model_1//unnamed_actuator_1\" class=\"unnamed_model_1/\" joint=\"unnamed_model_1//unnamed_joint_1\" kp=\"10\"/>\n",
      "    <position name=\"unnamed_model_2//unnamed_actuator_0\" class=\"unnamed_model_2/\" joint=\"unnamed_model_2//unnamed_joint_0\" kp=\"10\"/>\n",
      "    <position name=\"unnamed_model_2//unnamed_actuator_1\" class=\"unnamed_model_2/\" joint=\"unnamed_model_2//unnamed_joint_1\" kp=\"10\"/>\n",
      "    <position name=\"unnamed_model_3//unnamed_actuator_0\" class=\"unnamed_model_3/\" joint=\"unnamed_model_3//unnamed_joint_0\" kp=\"10\"/>\n",
      "    <position name=\"unnamed_model_3//unnamed_actuator_1\" class=\"unnamed_model_3/\" joint=\"unnamed_model_3//unnamed_joint_1\" kp=\"10\"/>\n",
      "  </actuator>\n",
      "</mujoco>\n"
     ]
    }
   ],
   "source": [
    "print(creature.mjcf_model.to_xml_string())"
   ],
   "metadata": {
    "collapsed": false,
    "ExecuteTime": {
     "end_time": "2023-08-13T23:48:33.977344Z",
     "start_time": "2023-08-13T23:48:33.970773Z"
    }
   },
   "id": "bbd9bae1a2e43b71"
  },
  {
   "cell_type": "code",
   "execution_count": 15,
   "outputs": [],
   "source": [
    "NUM_SUBSTEPS = 25  # The number of physics substeps per control timestep.\n",
    "\n",
    "\n",
    "class Button(composer.Entity):\n",
    "    \"\"\"A button Entity which changes colour when pressed with certain force.\"\"\"\n",
    "\n",
    "    def _build(self, target_force_range=(5, 10)):\n",
    "        self._min_force, self._max_force = target_force_range\n",
    "        self._mjcf_model = mjcf.RootElement()\n",
    "        self._geom = self._mjcf_model.worldbody.add(\"geom\", type=\"cylinder\", size=[0.25, 0.02], rgba=[1, 0, 0, 1])\n",
    "        self._site = self._mjcf_model.worldbody.add(\"site\", type=\"cylinder\", size=self._geom.size * 1.01, rgba=[1, 0, 0, 0])\n",
    "        self._sensor = self._mjcf_model.sensor.add(\"touch\", site=self._site)\n",
    "        self._num_activated_steps = 0\n",
    "\n",
    "    def _build_observables(self):\n",
    "        return ButtonObservables(self)\n",
    "\n",
    "    @property\n",
    "    def mjcf_model(self):\n",
    "        return self._mjcf_model\n",
    "\n",
    "    # Update the activation (and colour) if the desired force is applied.\n",
    "    def _update_activation(self, physics):\n",
    "        current_force = physics.bind(self.touch_sensor).sensordata[0]\n",
    "        self._is_activated = current_force >= self._min_force and current_force <= self._max_force\n",
    "        physics.bind(self._geom).rgba = [0, 1, 0, 1] if self._is_activated else [1, 0, 0, 1]\n",
    "        self._num_activated_steps += int(self._is_activated)\n",
    "\n",
    "    def initialize_episode(self, physics, random_state):\n",
    "        self._reward = 0.0\n",
    "        self._num_activated_steps = 0\n",
    "        self._update_activation(physics)\n",
    "\n",
    "    def after_substep(self, physics, random_state):\n",
    "        self._update_activation(physics)\n",
    "\n",
    "    @property\n",
    "    def touch_sensor(self):\n",
    "        return self._sensor\n",
    "\n",
    "    @property\n",
    "    def num_activated_steps(self):\n",
    "        return self._num_activated_steps\n",
    "\n",
    "\n",
    "class ButtonObservables(composer.Observables):\n",
    "    \"\"\"A touch sensor which averages contact force over physics substeps.\"\"\"\n",
    "\n",
    "    @composer.observable\n",
    "    def touch_force(self):\n",
    "        return observable.MJCFFeature(\n",
    "            \"sensordata\",\n",
    "            self._entity.touch_sensor,\n",
    "            buffer_size=NUM_SUBSTEPS,\n",
    "            aggregator=\"mean\",\n",
    "        )\n"
   ],
   "metadata": {
    "collapsed": false,
    "ExecuteTime": {
     "end_time": "2023-08-13T23:50:23.823893Z",
     "start_time": "2023-08-13T23:50:23.821488Z"
    }
   },
   "id": "46f96409c6e58d8b"
  },
  {
   "cell_type": "code",
   "execution_count": 16,
   "outputs": [
    {
     "name": "stdout",
     "output_type": "stream",
     "text": [
      "<mujoco model=\"unnamed_model\">\n",
      "  <default>\n",
      "    <default class=\"/\"/>\n",
      "  </default>\n",
      "  <worldbody>\n",
      "    <geom name=\"//unnamed_geom_0\" class=\"/\" type=\"cylinder\" size=\"0.25 0.02\" rgba=\"1 0 0 1\"/>\n",
      "    <site name=\"//unnamed_site_0\" class=\"/\" type=\"cylinder\" rgba=\"1 0 0 0\" size=\"0.2525 0.020199999999999999\"/>\n",
      "  </worldbody>\n",
      "  <sensor>\n",
      "    <touch name=\"//unnamed_sensor_0\" site=\"//unnamed_site_0\"/>\n",
      "  </sensor>\n",
      "</mujoco>\n"
     ]
    }
   ],
   "source": [
    "button = Button()\n",
    "print(button.mjcf_model.to_xml_string())"
   ],
   "metadata": {
    "collapsed": false,
    "ExecuteTime": {
     "end_time": "2023-08-13T23:50:56.460857Z",
     "start_time": "2023-08-13T23:50:56.446796Z"
    }
   },
   "id": "49db541e9eeecbf9"
  },
  {
   "cell_type": "code",
   "execution_count": 36,
   "outputs": [
    {
     "data": {
      "text/plain": "0.8618068530369953"
     },
     "execution_count": 36,
     "metadata": {},
     "output_type": "execute_result"
    }
   ],
   "source": [
    "distributions.Uniform(0, 2 * np.pi)()"
   ],
   "metadata": {
    "collapsed": false,
    "ExecuteTime": {
     "end_time": "2023-08-14T00:04:10.217198Z",
     "start_time": "2023-08-14T00:04:10.213486Z"
    }
   },
   "id": "2cac283023fd0a6f"
  },
  {
   "cell_type": "code",
   "execution_count": null,
   "outputs": [],
   "source": [],
   "metadata": {
    "collapsed": false
   },
   "id": "47a925013577fb40"
  }
 ],
 "metadata": {
  "kernelspec": {
   "display_name": "Python 3",
   "language": "python",
   "name": "python3"
  },
  "language_info": {
   "codemirror_mode": {
    "name": "ipython",
    "version": 2
   },
   "file_extension": ".py",
   "mimetype": "text/x-python",
   "name": "python",
   "nbconvert_exporter": "python",
   "pygments_lexer": "ipython2",
   "version": "2.7.6"
  }
 },
 "nbformat": 4,
 "nbformat_minor": 5
}
