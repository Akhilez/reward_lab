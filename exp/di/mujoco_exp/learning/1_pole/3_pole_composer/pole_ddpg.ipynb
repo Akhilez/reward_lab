{
 "cells": [
  {
   "cell_type": "code",
   "execution_count": 1,
   "id": "initial_id",
   "metadata": {
    "collapsed": true,
    "ExecuteTime": {
     "end_time": "2023-08-15T12:01:00.550804Z",
     "start_time": "2023-08-15T12:00:59.386546Z"
    }
   },
   "outputs": [],
   "source": [
    "from dm_control import composer\n",
    "import numpy as np\n",
    "from pole_composer import BalancePoleOnTop, Pole\n",
    "from tensordict.tensordict import TensorDict\n",
    "import torch"
   ]
  },
  {
   "cell_type": "code",
   "execution_count": 2,
   "outputs": [],
   "source": [
    "random_state = np.random.RandomState(2)\n",
    "env = composer.Environment(BalancePoleOnTop(Pole()), random_state=random_state)"
   ],
   "metadata": {
    "collapsed": false,
    "ExecuteTime": {
     "end_time": "2023-08-15T12:01:00.562530Z",
     "start_time": "2023-08-15T12:01:00.553585Z"
    }
   },
   "id": "1ea3e3fb9ff5046e"
  },
  {
   "cell_type": "code",
   "execution_count": 3,
   "outputs": [],
   "source": [
    "timestep = env.reset()"
   ],
   "metadata": {
    "collapsed": false,
    "ExecuteTime": {
     "end_time": "2023-08-15T12:01:00.570082Z",
     "start_time": "2023-08-15T12:01:00.564429Z"
    }
   },
   "id": "13bc84909bb6f59a"
  },
  {
   "cell_type": "code",
   "execution_count": 4,
   "outputs": [
    {
     "data": {
      "text/plain": "TimeStep(step_type=<StepType.FIRST: 0>, reward=None, discount=None, observation=OrderedDict([('unnamed_model/joint_pos', array([[0.00551454]])), ('unnamed_model/joint_velocity', array([[0.]])), ('unnamed_model/tip_pos', array([0.   , 0.   , 0.008]))]))"
     },
     "execution_count": 4,
     "metadata": {},
     "output_type": "execute_result"
    }
   ],
   "source": [
    "timestep"
   ],
   "metadata": {
    "collapsed": false,
    "ExecuteTime": {
     "end_time": "2023-08-15T12:01:00.591077Z",
     "start_time": "2023-08-15T12:01:00.571841Z"
    }
   },
   "id": "cb0a59d4dd5b6c37"
  },
  {
   "cell_type": "code",
   "execution_count": 5,
   "outputs": [
    {
     "data": {
      "text/plain": "BoundedArray(shape=(1,), dtype=dtype('float64'), name='unnamed_model/pole_actuator', minimum=[-2.5], maximum=[2.5])"
     },
     "execution_count": 5,
     "metadata": {},
     "output_type": "execute_result"
    }
   ],
   "source": [
    "env.action_spec()"
   ],
   "metadata": {
    "collapsed": false,
    "ExecuteTime": {
     "end_time": "2023-08-15T12:01:00.598922Z",
     "start_time": "2023-08-15T12:01:00.576168Z"
    }
   },
   "id": "d3bfc81623a5c366"
  },
  {
   "cell_type": "code",
   "execution_count": 6,
   "outputs": [
    {
     "data": {
      "text/plain": "OrderedDict([('unnamed_model/joint_pos',\n              Array(shape=(1, 1), dtype=dtype('float64'), name='unnamed_model/joint_pos')),\n             ('unnamed_model/joint_velocity',\n              Array(shape=(1, 1), dtype=dtype('float64'), name='unnamed_model/joint_velocity')),\n             ('unnamed_model/tip_pos',\n              Array(shape=(3,), dtype=dtype('float64'), name='unnamed_model/tip_pos'))])"
     },
     "execution_count": 6,
     "metadata": {},
     "output_type": "execute_result"
    }
   ],
   "source": [
    "env.observation_spec()"
   ],
   "metadata": {
    "collapsed": false,
    "ExecuteTime": {
     "end_time": "2023-08-15T12:01:00.599177Z",
     "start_time": "2023-08-15T12:01:00.579507Z"
    }
   },
   "id": "b29e719819b359bd"
  },
  {
   "cell_type": "code",
   "execution_count": 7,
   "outputs": [],
   "source": [
    "# TODO: Stacked observations?"
   ],
   "metadata": {
    "collapsed": false,
    "ExecuteTime": {
     "end_time": "2023-08-15T12:01:00.599227Z",
     "start_time": "2023-08-15T12:01:00.582153Z"
    }
   },
   "id": "40ad4511920f736"
  },
  {
   "cell_type": "code",
   "execution_count": 8,
   "outputs": [
    {
     "data": {
      "text/plain": "OrderedDict([('unnamed_model/joint_pos', array([[0.00551454]])),\n             ('unnamed_model/joint_velocity', array([[0.]])),\n             ('unnamed_model/tip_pos', array([0.   , 0.   , 0.008]))])"
     },
     "execution_count": 8,
     "metadata": {},
     "output_type": "execute_result"
    }
   ],
   "source": [
    "timestep.observation"
   ],
   "metadata": {
    "collapsed": false,
    "ExecuteTime": {
     "end_time": "2023-08-15T12:01:00.599305Z",
     "start_time": "2023-08-15T12:01:00.585087Z"
    }
   },
   "id": "afed130035a7cc3a"
  },
  {
   "cell_type": "code",
   "execution_count": 9,
   "outputs": [
    {
     "name": "stdout",
     "output_type": "stream",
     "text": [
      "(1, 1) unnamed_model/joint_pos\n",
      "(1, 1) unnamed_model/joint_velocity\n",
      "(3,) unnamed_model/tip_pos\n"
     ]
    }
   ],
   "source": [
    "for k, v in timestep.observation.items():\n",
    "    print(v.shape, k)"
   ],
   "metadata": {
    "collapsed": false,
    "ExecuteTime": {
     "end_time": "2023-08-15T12:01:00.599395Z",
     "start_time": "2023-08-15T12:01:00.587820Z"
    }
   },
   "id": "bdda31adbc828b65"
  },
  {
   "cell_type": "code",
   "execution_count": 10,
   "outputs": [
    {
     "data": {
      "text/plain": "TensorDict(\n    fields={\n        joint_pos: Tensor(shape=torch.Size([1]), device=cpu, dtype=torch.float64, is_shared=False),\n        joint_velocity: Tensor(shape=torch.Size([1]), device=cpu, dtype=torch.float64, is_shared=False)},\n    batch_size=torch.Size([1]),\n    device=None,\n    is_shared=False)"
     },
     "execution_count": 10,
     "metadata": {},
     "output_type": "execute_result"
    }
   ],
   "source": [
    "obs = {\n",
    "    'joint_pos': timestep.observation['unnamed_model/joint_pos'],\n",
    "    'joint_velocity': timestep.observation['unnamed_model/joint_velocity'],\n",
    "}\n",
    "obs = TensorDict(obs, batch_size=[1, 1])[0]\n",
    "obs"
   ],
   "metadata": {
    "collapsed": false,
    "ExecuteTime": {
     "end_time": "2023-08-15T12:01:00.599891Z",
     "start_time": "2023-08-15T12:01:00.591289Z"
    }
   },
   "id": "abbd2f098624f010"
  },
  {
   "cell_type": "code",
   "execution_count": 11,
   "outputs": [
    {
     "name": "stdout",
     "output_type": "stream",
     "text": [
      "[-1.82710027]\n"
     ]
    },
    {
     "data": {
      "text/plain": "TimeStep(step_type=<StepType.MID: 1>, reward=0.0, discount=1.0, observation=OrderedDict([('unnamed_model/joint_pos', array([[-0.06851996]])), ('unnamed_model/joint_velocity', array([[-2.05474992]])), ('unnamed_model/tip_pos', array([0.00401169, 0.        , 0.20006904]))]))"
     },
     "execution_count": 11,
     "metadata": {},
     "output_type": "execute_result"
    }
   ],
   "source": [
    "spec = env.action_spec()\n",
    "action = random_state.uniform(spec.minimum, spec.maximum, spec.shape)\n",
    "print(action)\n",
    "timestep = env.step(action)\n",
    "timestep"
   ],
   "metadata": {
    "collapsed": false,
    "ExecuteTime": {
     "end_time": "2023-08-15T12:01:00.600353Z",
     "start_time": "2023-08-15T12:01:00.595304Z"
    }
   },
   "id": "b9bb27ef23f8498a"
  },
  {
   "cell_type": "code",
   "execution_count": 12,
   "outputs": [
    {
     "name": "stderr",
     "output_type": "stream",
     "text": [
      "/opt/homebrew/Caskroom/miniforge/base/envs/rl/lib/python3.9/site-packages/gymnasium/envs/registration.py:845: UserWarning: \u001B[33mWARN: Overriding environment GymV26Environment-v0 already in registry.\u001B[0m\n",
      "  logger.warn(f\"Overriding environment {new_spec.id} already in registry.\")\n",
      "/opt/homebrew/Caskroom/miniforge/base/envs/rl/lib/python3.9/site-packages/gymnasium/utils/env_checker.py:221: UserWarning: \u001B[33mWARN: A Box observation space minimum value is -infinity. This is probably too low.\u001B[0m\n",
      "  logger.warn(\n",
      "/opt/homebrew/Caskroom/miniforge/base/envs/rl/lib/python3.9/site-packages/gymnasium/utils/env_checker.py:225: UserWarning: \u001B[33mWARN: A Box observation space maximum value is -infinity. This is probably too high.\u001B[0m\n",
      "  logger.warn(\n",
      "/opt/homebrew/Caskroom/miniforge/base/envs/rl/lib/python3.9/site-packages/gymnasium/spaces/box.py:230: UserWarning: \u001B[33mWARN: Casting input x to numpy array.\u001B[0m\n",
      "  gym.logger.warn(\"Casting input x to numpy array.\")\n",
      "/opt/homebrew/Caskroom/miniforge/base/envs/rl/lib/python3.9/site-packages/gymnasium/utils/passive_env_checker.py:160: UserWarning: \u001B[33mWARN: The obs returned by the `reset()` method was expecting a numpy array, actual type: <class 'torch.Tensor'>\u001B[0m\n",
      "  logger.warn(\n",
      "/opt/homebrew/Caskroom/miniforge/base/envs/rl/lib/python3.9/site-packages/gymnasium/utils/passive_env_checker.py:160: UserWarning: \u001B[33mWARN: The obs returned by the `step()` method was expecting a numpy array, actual type: <class 'torch.Tensor'>\u001B[0m\n",
      "  logger.warn(\n",
      "/opt/homebrew/Caskroom/miniforge/base/envs/rl/lib/python3.9/site-packages/gymnasium/utils/env_checker.py:317: UserWarning: \u001B[33mWARN: Not able to test alternative render modes due to the environment not having a spec. Try instantialising the environment through gymnasium.make\u001B[0m\n",
      "  logger.warn(\n"
     ]
    }
   ],
   "source": [
    "from gymnasium.wrappers import FrameStack, TimeLimit, RecordEpisodeStatistics\n",
    "from gymnasium.utils.env_checker import check_env\n",
    "from gymnasium import Env, spaces, ActionWrapper\n",
    "from gymnasium.vector import SyncVectorEnv\n",
    "\n",
    "\n",
    "class BalancePoleEnv(Env):\n",
    "    reward_range = (0, 1.0)\n",
    "    max_episode_steps = 64\n",
    "    # spec: EnvSpec | None = None\n",
    "\n",
    "    def __init__(self):\n",
    "        self.env = composer.Environment(BalancePoleOnTop(Pole()))\n",
    "        self.timestep = None\n",
    "\n",
    "    @property\n",
    "    def action_space(self):\n",
    "        return spaces.Box(low=-1, high=1, shape=(1,), dtype=np.float32)\n",
    "    \n",
    "    @property\n",
    "    def observation_space(self):\n",
    "        return spaces.Box(low=-float(\"inf\"), high=float(\"inf\"), shape=(2,), dtype=np.float32)\n",
    "\n",
    "    def step(self, action):\n",
    "        action = action * 2.1  # Denormalize from [-1, 1] to [-2.1, 2.1]\n",
    "        self.timestep = self.env.step(action)\n",
    "        return self.observe(), self.timestep.reward, False, False, {}\n",
    "\n",
    "    def reset(self, *, seed=None, options=None):\n",
    "        super().reset(seed=seed)\n",
    "        self.timestep = self.env.reset()\n",
    "        return self.observe(), {}\n",
    "    \n",
    "    def observe(self):\n",
    "        return torch.from_numpy(np.array([\n",
    "            self.timestep.observation['unnamed_model/joint_pos'], \n",
    "            self.timestep.observation['unnamed_model/joint_velocity'],\n",
    "        ])).squeeze()\n",
    "\n",
    "    def render(self):\n",
    "        return self.env.physics.render()\n",
    "\n",
    "\n",
    "check_env(BalancePoleEnv())\n",
    "\n",
    "vec_env = SyncVectorEnv([BalancePoleEnv] * 2)\n",
    "vec_env = FrameStack(vec_env, 3)\n",
    "vec_env = TimeLimit(vec_env, 100)\n",
    "vec_env = RecordEpisodeStatistics(vec_env, deque_size=100)"
   ],
   "metadata": {
    "collapsed": false,
    "ExecuteTime": {
     "end_time": "2023-08-15T12:01:00.782485Z",
     "start_time": "2023-08-15T12:01:00.602824Z"
    }
   },
   "id": "81d7dddfac370417"
  },
  {
   "cell_type": "code",
   "execution_count": 13,
   "outputs": [
    {
     "data": {
      "text/plain": "(<gymnasium.wrappers.frame_stack.LazyFrames at 0x29ae562c0>, {})"
     },
     "execution_count": 13,
     "metadata": {},
     "output_type": "execute_result"
    }
   ],
   "source": [
    "vec_env.reset()"
   ],
   "metadata": {
    "collapsed": false,
    "ExecuteTime": {
     "end_time": "2023-08-15T12:01:00.793902Z",
     "start_time": "2023-08-15T12:01:00.784688Z"
    }
   },
   "id": "4b86bc53cc588def"
  },
  {
   "cell_type": "code",
   "execution_count": 14,
   "outputs": [
    {
     "data": {
      "text/plain": "(Box(-1.0, 1.0, (2, 1), float32),\n array([[0.2426391 ],\n        [0.15752654]], dtype=float32))"
     },
     "execution_count": 14,
     "metadata": {},
     "output_type": "execute_result"
    }
   ],
   "source": [
    "vec_env.action_space, vec_env.action_space.sample()"
   ],
   "metadata": {
    "collapsed": false,
    "ExecuteTime": {
     "end_time": "2023-08-15T12:01:00.800158Z",
     "start_time": "2023-08-15T12:01:00.797242Z"
    }
   },
   "id": "e7c8ad44418a4563"
  },
  {
   "cell_type": "code",
   "execution_count": 15,
   "outputs": [
    {
     "name": "stdout",
     "output_type": "stream",
     "text": [
      "[0.68607426] 0.0\n",
      "[-0.99672157] 0.0\n",
      "[0.88876534] 0.0\n",
      "[-0.83971626] 0.0\n",
      "[-0.2663493] 0.0\n",
      "[0.90412664] 0.0\n",
      "[0.88334554] 0.0\n",
      "[0.67232704] 0.0\n",
      "[-0.09105109] 0.0\n",
      "[0.38507637] 0.0\n"
     ]
    }
   ],
   "source": [
    "env = BalancePoleEnv()\n",
    "env.reset()\n",
    "for i in range(10):\n",
    "    action = env.action_space.sample()\n",
    "    _, reward, _, _, _ = env.step(action)\n",
    "    print(action, reward)"
   ],
   "metadata": {
    "collapsed": false,
    "ExecuteTime": {
     "end_time": "2023-08-15T12:01:00.842144Z",
     "start_time": "2023-08-15T12:01:00.802562Z"
    }
   },
   "id": "edc9557476d550ca"
  },
  {
   "cell_type": "markdown",
   "source": [
    "# RL Algo! DDPG"
   ],
   "metadata": {
    "collapsed": false
   },
   "id": "29887dd729fef77"
  },
  {
   "cell_type": "code",
   "execution_count": 16,
   "outputs": [],
   "source": [
    "import math\n",
    "import random\n",
    "\n",
    "import gym\n",
    "import numpy as np\n",
    "\n",
    "import torch\n",
    "import torch.nn as nn\n",
    "import torch.optim as optim\n",
    "import torch.nn.functional as F\n",
    "from torch.distributions import Normal\n",
    "\n",
    "from IPython.display import clear_output\n",
    "import matplotlib.pyplot as plt\n",
    "%matplotlib inline"
   ],
   "metadata": {
    "collapsed": false,
    "ExecuteTime": {
     "end_time": "2023-08-15T12:01:00.842369Z",
     "start_time": "2023-08-15T12:01:00.823754Z"
    }
   },
   "id": "a1c929a9dcd0391f"
  },
  {
   "cell_type": "code",
   "execution_count": 17,
   "outputs": [],
   "source": [
    "use_cuda = torch.cuda.is_available()\n",
    "device   = torch.device(\"cpu\")"
   ],
   "metadata": {
    "collapsed": false,
    "ExecuteTime": {
     "end_time": "2023-08-15T12:01:00.842416Z",
     "start_time": "2023-08-15T12:01:00.830645Z"
    }
   },
   "id": "20b1989c630ba393"
  },
  {
   "cell_type": "code",
   "execution_count": 18,
   "outputs": [],
   "source": [
    "class ReplayBuffer:\n",
    "    def __init__(self, capacity):\n",
    "        self.capacity = capacity\n",
    "        self.buffer = []\n",
    "        self.position = 0\n",
    "    \n",
    "    def push(self, state, action, reward, next_state, done):\n",
    "        if len(self.buffer) < self.capacity:\n",
    "            self.buffer.append(None)\n",
    "        self.buffer[self.position] = (state, action, reward, next_state, done)\n",
    "        self.position = (self.position + 1) % self.capacity\n",
    "    \n",
    "    def sample(self, batch_size):\n",
    "        batch = random.sample(self.buffer, batch_size)\n",
    "        state, action, reward, next_state, done = map(np.stack, zip(*batch))\n",
    "        return state, action, reward, next_state, done\n",
    "    \n",
    "    def __len__(self):\n",
    "        return len(self.buffer)"
   ],
   "metadata": {
    "collapsed": false,
    "ExecuteTime": {
     "end_time": "2023-08-15T12:01:00.842455Z",
     "start_time": "2023-08-15T12:01:00.834253Z"
    }
   },
   "id": "fda41e70129fb467"
  },
  {
   "cell_type": "code",
   "execution_count": 19,
   "outputs": [],
   "source": [
    "\"\"\"\n",
    "Ornstein-Uhlenbeck process\n",
    "Adding time-correlated noise to the actions taken by the deterministic policy\n",
    "wiki (https://en.wikipedia.org/wiki/Ornstein%E2%80%93Uhlenbeck_process)\n",
    "https://github.com/vitchyr/rlkit/blob/master/rlkit/exploration_strategies/ou_strategy.py\n",
    "\"\"\"\n",
    "class OUNoise(object):\n",
    "    def __init__(self, action_space, mu=0.0, theta=0.15, max_sigma=0.3, min_sigma=0.3, decay_period=100000):\n",
    "        self.mu           = mu\n",
    "        self.theta        = theta\n",
    "        self.sigma        = max_sigma\n",
    "        self.max_sigma    = max_sigma\n",
    "        self.min_sigma    = min_sigma\n",
    "        self.decay_period = decay_period\n",
    "        self.action_dim   = action_space.shape[0]\n",
    "        self.low          = action_space.low\n",
    "        self.high         = action_space.high\n",
    "        self.reset()\n",
    "        \n",
    "    def reset(self):\n",
    "        self.state = np.ones(self.action_dim) * self.mu\n",
    "        \n",
    "    def evolve_state(self):\n",
    "        x  = self.state\n",
    "        dx = self.theta * (self.mu - x) + self.sigma * np.random.randn(self.action_dim)\n",
    "        self.state = x + dx\n",
    "        return self.state\n",
    "    \n",
    "    def get_action(self, action, t=0):\n",
    "        ou_state = self.evolve_state()\n",
    "        self.sigma = self.max_sigma - (self.max_sigma - self.min_sigma) * min(1.0, t / self.decay_period)\n",
    "        return np.clip(action + ou_state, self.low, self.high)\n",
    "    "
   ],
   "metadata": {
    "collapsed": false,
    "ExecuteTime": {
     "end_time": "2023-08-15T12:01:00.843597Z",
     "start_time": "2023-08-15T12:01:00.838869Z"
    }
   },
   "id": "25a329d49c6d4892"
  },
  {
   "cell_type": "code",
   "execution_count": 20,
   "outputs": [],
   "source": [
    "def plot(frame_idx, rewards):\n",
    "    clear_output(True)\n",
    "    plt.figure(figsize=(20,5))\n",
    "    plt.subplot(131)\n",
    "    plt.title('frame %s. reward: %s' % (frame_idx, rewards[-1]))\n",
    "    plt.plot(rewards)\n",
    "    plt.show()"
   ],
   "metadata": {
    "collapsed": false,
    "ExecuteTime": {
     "end_time": "2023-08-15T12:01:00.845334Z",
     "start_time": "2023-08-15T12:01:00.842090Z"
    }
   },
   "id": "ee4bb90d5b2c038a"
  },
  {
   "cell_type": "code",
   "execution_count": 21,
   "outputs": [],
   "source": [
    "class ValueNetwork(nn.Module):\n",
    "    def __init__(self, num_inputs, num_actions, hidden_size, init_w=3e-3):\n",
    "        super(ValueNetwork, self).__init__()\n",
    "        \n",
    "        self.linear1 = nn.Linear(num_inputs + num_actions, hidden_size)\n",
    "        self.linear2 = nn.Linear(hidden_size, hidden_size)\n",
    "        self.linear3 = nn.Linear(hidden_size, 1)\n",
    "        \n",
    "        self.linear3.weight.data.uniform_(-init_w, init_w)\n",
    "        self.linear3.bias.data.uniform_(-init_w, init_w)\n",
    "        \n",
    "    def forward(self, state, action):\n",
    "        x = torch.cat([state, action], 1)\n",
    "        x = F.relu(self.linear1(x))\n",
    "        x = F.relu(self.linear2(x))\n",
    "        x = self.linear3(x)\n",
    "        return x\n",
    "    \n",
    "\n",
    "class PolicyNetwork(nn.Module):\n",
    "    def __init__(self, num_inputs, num_actions, hidden_size, init_w=3e-3):\n",
    "        super(PolicyNetwork, self).__init__()\n",
    "        \n",
    "        self.linear1 = nn.Linear(num_inputs, hidden_size)\n",
    "        self.linear2 = nn.Linear(hidden_size, hidden_size)\n",
    "        self.linear3 = nn.Linear(hidden_size, num_actions)\n",
    "        \n",
    "        self.linear3.weight.data.uniform_(-init_w, init_w)\n",
    "        self.linear3.bias.data.uniform_(-init_w, init_w)\n",
    "        \n",
    "    def forward(self, state):\n",
    "        x = F.relu(self.linear1(state))\n",
    "        x = F.relu(self.linear2(x))\n",
    "        x = F.tanh(self.linear3(x))\n",
    "        return x\n",
    "    \n",
    "    def get_action(self, state):\n",
    "        state  = torch.tensor(state).unsqueeze(0).float().to(device)\n",
    "        action = self.forward(state)\n",
    "        return action.detach().cpu().numpy()[0, 0]"
   ],
   "metadata": {
    "collapsed": false,
    "ExecuteTime": {
     "end_time": "2023-08-15T12:01:00.852118Z",
     "start_time": "2023-08-15T12:01:00.847219Z"
    }
   },
   "id": "6dfbd104bb81ca5e"
  },
  {
   "cell_type": "code",
   "execution_count": 23,
   "outputs": [
    {
     "data": {
      "text/plain": "<Figure size 2000x500 with 1 Axes>",
      "image/png": "[encoded data removed]"
     },
     "metadata": {},
     "output_type": "display_data"
    }
   ],
   "source": [
    "def ddpg_update(batch_size, \n",
    "           gamma = 0.99,\n",
    "           min_value=-np.inf,\n",
    "           max_value=np.inf,\n",
    "           soft_tau=1e-2):\n",
    "    \n",
    "    state, action, reward, next_state, done = replay_buffer.sample(batch_size)\n",
    "    \n",
    "    state      = torch.FloatTensor(state).to(device)\n",
    "    next_state = torch.FloatTensor(next_state).to(device)\n",
    "    action     = torch.FloatTensor(action).to(device)\n",
    "    reward     = torch.FloatTensor(reward).unsqueeze(1).to(device)\n",
    "    done       = torch.FloatTensor(np.float32(done)).unsqueeze(1).to(device)\n",
    "\n",
    "    policy_loss = value_net(state, policy_net(state))\n",
    "    policy_loss = -policy_loss.mean()\n",
    "\n",
    "    next_action    = target_policy_net(next_state)\n",
    "    target_value   = target_value_net(next_state, next_action.detach())\n",
    "    expected_value = reward + (1.0 - done) * gamma * target_value\n",
    "    expected_value = torch.clamp(expected_value, min_value, max_value)\n",
    "\n",
    "    value = value_net(state, action)\n",
    "    value_loss = value_criterion(value, expected_value.detach())\n",
    "\n",
    "\n",
    "    policy_optimizer.zero_grad()\n",
    "    policy_loss.backward()\n",
    "    policy_optimizer.step()\n",
    "\n",
    "    value_optimizer.zero_grad()\n",
    "    value_loss.backward()\n",
    "    value_optimizer.step()\n",
    "\n",
    "    for target_param, param in zip(target_value_net.parameters(), value_net.parameters()):\n",
    "            target_param.data.copy_(\n",
    "                target_param.data * (1.0 - soft_tau) + param.data * soft_tau\n",
    "            )\n",
    "\n",
    "    for target_param, param in zip(target_policy_net.parameters(), policy_net.parameters()):\n",
    "            target_param.data.copy_(\n",
    "                target_param.data * (1.0 - soft_tau) + param.data * soft_tau\n",
    "            )\n",
    "\n",
    "\n",
    "env = BalancePoleEnv()\n",
    "env = TimeLimit(env, 100)\n",
    "ou_noise = OUNoise(env.action_space)\n",
    "\n",
    "state_dim  = env.observation_space.shape[0]\n",
    "action_dim = env.action_space.shape[0]\n",
    "hidden_dim = 512\n",
    "\n",
    "value_net  = ValueNetwork(state_dim, action_dim, hidden_dim).to(device)\n",
    "policy_net = PolicyNetwork(state_dim, action_dim, hidden_dim).to(device)\n",
    "\n",
    "target_value_net  = ValueNetwork(state_dim, action_dim, hidden_dim).to(device)\n",
    "target_policy_net = PolicyNetwork(state_dim, action_dim, hidden_dim).to(device)\n",
    "\n",
    "for target_param, param in zip(target_value_net.parameters(), value_net.parameters()):\n",
    "    target_param.data.copy_(param.data)\n",
    "\n",
    "for target_param, param in zip(target_policy_net.parameters(), policy_net.parameters()):\n",
    "    target_param.data.copy_(param.data)\n",
    "    \n",
    "    \n",
    "value_lr  = 1e-3\n",
    "policy_lr = 1e-4\n",
    "\n",
    "value_optimizer  = optim.Adam(value_net.parameters(),  lr=value_lr)\n",
    "policy_optimizer = optim.Adam(policy_net.parameters(), lr=policy_lr)\n",
    "\n",
    "value_criterion = nn.MSELoss()\n",
    "\n",
    "replay_buffer_size = 1000000\n",
    "replay_buffer = ReplayBuffer(replay_buffer_size)\n",
    "\n",
    "max_frames  = 120000\n",
    "max_steps   = 150\n",
    "frame_idx   = 0\n",
    "rewards     = []\n",
    "batch_size  = 128\n",
    "\n",
    "while frame_idx < max_frames:\n",
    "    state, _ = env.reset()\n",
    "    ou_noise.reset()\n",
    "    episode_reward = 0\n",
    "    \n",
    "    for step in range(max_steps):\n",
    "        action = policy_net.get_action(state)\n",
    "        action = ou_noise.get_action(action, step)\n",
    "        next_state, reward, terminated, truncated, _ = env.step(action)\n",
    "        done = terminated or truncated\n",
    "        \n",
    "        replay_buffer.push(state, action, reward, next_state, done)\n",
    "        if len(replay_buffer) > batch_size:\n",
    "            ddpg_update(batch_size)\n",
    "        \n",
    "        state = next_state\n",
    "        episode_reward += reward\n",
    "        frame_idx += 1\n",
    "        \n",
    "        if frame_idx % max(1000, max_steps + 1) == 0:\n",
    "            plot(frame_idx, rewards)\n",
    "        \n",
    "        if done:\n",
    "            break\n",
    "    \n",
    "    rewards.append(episode_reward)"
   ],
   "metadata": {
    "collapsed": false
   },
   "id": "b56cc40eddef9130"
  },
  {
   "cell_type": "markdown",
   "source": [
    "Look at one video"
   ],
   "metadata": {
    "collapsed": false
   },
   "id": "228c56c0486cc0b9"
  },
  {
   "cell_type": "code",
   "execution_count": 30,
   "outputs": [
    {
     "name": "stderr",
     "output_type": "stream",
     "text": [
      "/var/folders/qz/8lxmcg3s6ls7rqr51bjgj4080000gp/T/ipykernel_40385/306138059.py:38: UserWarning: To copy construct from a tensor, it is recommended to use sourceTensor.clone().detach() or sourceTensor.clone().detach().requires_grad_(True), rather than torch.tensor(sourceTensor).\n",
      "  state  = torch.tensor(state).unsqueeze(0).float().to(device)\n",
      "/opt/homebrew/Caskroom/miniforge/base/envs/rl/lib/python3.9/site-packages/torch/nn/functional.py:1956: UserWarning: nn.functional.tanh is deprecated. Use torch.tanh instead.\n",
      "  warnings.warn(\"nn.functional.tanh is deprecated. Use torch.tanh instead.\")\n"
     ]
    },
    {
     "data": {
      "text/plain": "Text(0.5, 0, 'time')"
     },
     "execution_count": 30,
     "metadata": {},
     "output_type": "execute_result"
    },
    {
     "data": {
      "text/plain": "<Figure size 400x800 with 4 Axes>",
      "image/png": "[encoded data removed]"
     },
     "metadata": {},
     "output_type": "display_data"
    }
   ],
   "source": [
    "from matplotlib.animation import ArtistAnimation\n",
    "from matplotlib import cm\n",
    "\n",
    "# Simulate episode with random actions\n",
    "duration = 2  # Seconds\n",
    "framerate = 30\n",
    "frames = []\n",
    "ticks = []\n",
    "rewards = []\n",
    "observations = []\n",
    "joint_positions = []\n",
    "joint_velocities = []\n",
    "actions = []\n",
    "fig = plt.figure()\n",
    "\n",
    "state, _ = env.reset()\n",
    "physics = env.unwrapped.env.physics\n",
    "while physics.data.time < duration:\n",
    "    action = policy_net.get_action(state)\n",
    "    next_state, reward, terminated, truncated, _ = env.step(action)\n",
    "    done = terminated or truncated\n",
    "    \n",
    "    frames.append([plt.imshow(physics.render(), cmap=cm.Greys_r, animated=True)])\n",
    "    rewards.append(reward)\n",
    "    ticks.append(physics.data.time)\n",
    "    joint_positions.append(state[0])\n",
    "    joint_velocities.append(state[1])\n",
    "    actions.append(action)\n",
    "    \n",
    "    state = next_state\n",
    "    if done:\n",
    "        break\n",
    "\n",
    "ArtistAnimation(fig, frames, interval=1000 / framerate, blit=True, repeat_delay=1000).save(\"pole_trained.mp4\")\n",
    "plt.close()\n",
    "\n",
    "_, ax = plt.subplots(4, 1, sharex=True, figsize=(4, 8))\n",
    "ax[0].plot(ticks, rewards)\n",
    "ax[0].set_title(\"reward\")\n",
    "\n",
    "ax[1].plot(ticks, joint_positions)\n",
    "ax[1].set_title(\"joint_pos\")\n",
    "\n",
    "ax[2].plot(ticks, joint_velocities)\n",
    "ax[2].set_title(\"joint_vel\")\n",
    "\n",
    "ax[3].plot(ticks, actions)\n",
    "ax[3].set_title(\"actions\")\n",
    "\n",
    "ax[-1].set_xlabel(\"time\")\n"
   ],
   "metadata": {
    "collapsed": false,
    "ExecuteTime": {
     "end_time": "2023-08-15T12:44:00.267676Z",
     "start_time": "2023-08-15T12:43:58.310142Z"
    }
   },
   "id": "c05536a77e75477d"
  },
  {
   "cell_type": "code",
   "execution_count": null,
   "outputs": [],
   "source": [],
   "metadata": {
    "collapsed": false
   },
   "id": "4a723d1f1bb34e73"
  }
 ],
 "metadata": {
  "kernelspec": {
   "display_name": "Python 3",
   "language": "python",
   "name": "python3"
  },
  "language_info": {
   "codemirror_mode": {
    "name": "ipython",
    "version": 2
   },
   "file_extension": ".py",
   "mimetype": "text/x-python",
   "name": "python",
   "nbconvert_exporter": "python",
   "pygments_lexer": "ipython2",
   "version": "2.7.6"
  }
 },
 "nbformat": 4,
 "nbformat_minor": 5
}
