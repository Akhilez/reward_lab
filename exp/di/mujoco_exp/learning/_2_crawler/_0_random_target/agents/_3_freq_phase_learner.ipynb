{
 "cells": [
  {
   "cell_type": "code",
   "execution_count": 1,
   "id": "initial_id",
   "metadata": {
    "collapsed": true,
    "ExecuteTime": {
     "end_time": "2023-09-14T18:19:10.277877Z",
     "start_time": "2023-09-14T18:19:09.533734Z"
    }
   },
   "outputs": [
    {
     "name": "stderr",
     "output_type": "stream",
     "text": [
      "/opt/homebrew/Caskroom/miniforge/base/envs/rl/lib/python3.9/site-packages/gymnasium/envs/registration.py:694: UserWarning: \u001B[33mWARN: Overriding environment GymV26Environment-v0 already in registry.\u001B[0m\n",
      "  logger.warn(f\"Overriding environment {new_spec.id} already in registry.\")\n"
     ]
    }
   ],
   "source": [
    "from typing import SupportsFloat, Any, Optional\n",
    "\n",
    "from gymnasium import ActionWrapper, Wrapper\n",
    "from gymnasium.core import WrapperActType, WrapperObsType\n",
    "from gymnasium.spaces import Box\n",
    "from gymnasium.wrappers import TimeLimit, RecordVideo\n",
    "import numpy as np\n",
    "import matplotlib.pyplot as plt\n",
    "%matplotlib inline\n",
    "\n",
    "from exp.di.mujoco_exp.learning._2_crawler._0_random_target.crawler import WalkToTargetEnv"
   ]
  },
  {
   "cell_type": "code",
   "execution_count": 2,
   "outputs": [],
   "source": [
    "class RepeatActionsWrapper(Wrapper):\n",
    "    \"\"\"\n",
    "    One step of wrapped = n steps of unwrapped with same action.\n",
    "    Rewards are averaged.\n",
    "    \"\"\"\n",
    "\n",
    "    def __init__(self, env, steps_to_repeat: int):\n",
    "        super().__init__(env)\n",
    "        self.steps_to_repeat = steps_to_repeat\n",
    "        assert steps_to_repeat > 1\n",
    "\n",
    "    def step(\n",
    "            self, action: WrapperActType\n",
    "    ) -> tuple[WrapperObsType, SupportsFloat, bool, bool, dict[str, Any]]:\n",
    "        rewards = []\n",
    "        for i in range(self.steps_to_repeat):\n",
    "            obs, reward, terminated, truncated, info = self.env.step(action)\n",
    "            rewards.append(reward)\n",
    "            if terminated or truncated:\n",
    "                break\n",
    "        reward = np.mean(rewards)\n",
    "        return obs, reward, terminated, truncated, info\n",
    "\n",
    "\n",
    "class SimpleOscillatingPhaseActions(ActionWrapper):\n",
    "    \"\"\"\n",
    "    Accepts actions as phases of oscillators for each motor.\n",
    "    And converts into position values for each motor.\n",
    "    Use this in conjunction with RepeatActionsWrapper.\n",
    "    \"\"\"\n",
    "\n",
    "    def __init__(self, env, dt, max_frequency):\n",
    "        super().__init__(env)\n",
    "        self.dt = dt\n",
    "        self.max_frequency = max_frequency\n",
    "        self.n = self.env.action_space.shape[0]\n",
    "        self.frequencies = np.ones((self.n,))  # (n,)\n",
    "        self.phases = np.zeros((self.n,))\n",
    "        self._prev_action = np.zeros((self.n * 2,))\n",
    "\n",
    "    def reset(\n",
    "            self, seed: Optional[int] = None, options: Optional[dict[str, Any]] = None\n",
    "    ) -> tuple[WrapperObsType, dict[str, Any]]:\n",
    "        self._prev_action = np.zeros((self.n * 2,))\n",
    "        return super().reset(seed=seed, options=options)\n",
    "\n",
    "    @property\n",
    "    def action_space(self):\n",
    "        return Box(low=-1, high=1, shape=self._prev_action.shape, dtype=np.float32)\n",
    "\n",
    "    def action(self, actions):\n",
    "        # actions: frequencies and phases. (2n,) in the range (-1,1)\n",
    "\n",
    "        # If a new action is given, change phases.\n",
    "        if np.any(self._prev_action != actions):\n",
    "            actions = np.array(actions).copy()\n",
    "            self._prev_action = actions\n",
    "            \n",
    "            frequencies, phases = actions.reshape(2, self.n)\n",
    "            \n",
    "            # Scale them to 0 to max_frequency\n",
    "            self.frequencies = (frequencies + 1) / 2 * self.max_frequency\n",
    "\n",
    "            # Scale them to -pi to pi\n",
    "            self.phases = phases * np.pi\n",
    "\n",
    "        value = np.sin(self.phases)\n",
    "\n",
    "        d_phase = self.frequencies  # <-- vanilla oscillators way\n",
    "        self.phases += d_phase * self.dt\n",
    "\n",
    "        # Scale them to 0-1\n",
    "        value = (value + 1) / 2\n",
    "\n",
    "        return value"
   ],
   "metadata": {
    "collapsed": false,
    "ExecuteTime": {
     "end_time": "2023-09-14T18:19:10.287230Z",
     "start_time": "2023-09-14T18:19:10.284007Z"
    }
   },
   "id": "ffbad39aab770143"
  },
  {
   "cell_type": "code",
   "execution_count": 3,
   "outputs": [],
   "source": [
    "def build_env(x=None):\n",
    "    print(x)\n",
    "    time_limit = 500\n",
    "    repeat_steps = 50\n",
    "    dt = 0.1\n",
    "    # record_every_n_episodes = 500\n",
    "    record_every_n_steps = 50000\n",
    "    \n",
    "    env = WalkToTargetEnv(n_legs=4)\n",
    "    env = TimeLimit(env, time_limit)\n",
    "    env = RecordVideo(\n",
    "        env, \n",
    "        video_folder='/Users/akhildevarashetti/code/reward_lab/exp/di/mujoco_exp/learning/_2_crawler/_0_random_target/agents/vids',\n",
    "        # episode_trigger=lambda episode: episode % record_every_n_episodes == 0,\n",
    "        step_trigger=lambda step: step % record_every_n_steps == 0,\n",
    "        video_length=time_limit,\n",
    "        name_prefix='freq_phase_agent',\n",
    "    )\n",
    "    env = SimpleOscillatingPhaseActions(env, dt=dt, max_frequency=10)\n",
    "    env = RepeatActionsWrapper(env, steps_to_repeat=repeat_steps)\n",
    "    return env"
   ],
   "metadata": {
    "collapsed": false,
    "ExecuteTime": {
     "end_time": "2023-09-14T18:19:10.289458Z",
     "start_time": "2023-09-14T18:19:10.287339Z"
    }
   },
   "id": "d880c82f024a8668"
  },
  {
   "cell_type": "code",
   "execution_count": 4,
   "outputs": [
    {
     "name": "stdout",
     "output_type": "stream",
     "text": [
      "None\n"
     ]
    },
    {
     "name": "stderr",
     "output_type": "stream",
     "text": [
      "/opt/homebrew/Caskroom/miniforge/base/envs/rl/lib/python3.9/site-packages/gymnasium/wrappers/record_video.py:94: UserWarning: \u001B[33mWARN: Overwriting existing videos at /Users/akhildevarashetti/code/reward_lab/exp/di/mujoco_exp/learning/_2_crawler/_0_random_target/agents/vids folder (try specifying a different `video_folder` for the `RecordVideo` wrapper if this is not desired)\u001B[0m\n",
      "  logger.warn(\n"
     ]
    },
    {
     "name": "stdout",
     "output_type": "stream",
     "text": [
      "Moviepy - Building video /Users/akhildevarashetti/code/reward_lab/exp/di/mujoco_exp/learning/_2_crawler/_0_random_target/agents/vids/freq_phase_agent-step-0.mp4.\n",
      "Moviepy - Writing video /Users/akhildevarashetti/code/reward_lab/exp/di/mujoco_exp/learning/_2_crawler/_0_random_target/agents/vids/freq_phase_agent-step-0.mp4\n"
     ]
    },
    {
     "name": "stderr",
     "output_type": "stream",
     "text": [
      "                                                                "
     ]
    },
    {
     "name": "stdout",
     "output_type": "stream",
     "text": [
      "Moviepy - Done !\n",
      "Moviepy - video ready /Users/akhildevarashetti/code/reward_lab/exp/di/mujoco_exp/learning/_2_crawler/_0_random_target/agents/vids/freq_phase_agent-step-0.mp4\n"
     ]
    },
    {
     "name": "stderr",
     "output_type": "stream",
     "text": [
      "\r"
     ]
    },
    {
     "data": {
      "text/plain": "[<matplotlib.lines.Line2D at 0x176de6760>]"
     },
     "execution_count": 4,
     "metadata": {},
     "output_type": "execute_result"
    },
    {
     "data": {
      "text/plain": "<Figure size 640x480 with 1 Axes>",
      "image/png": "[encoded data removed]"
     },
     "metadata": {},
     "output_type": "display_data"
    }
   ],
   "source": [
    "env = build_env()\n",
    "rewards = []\n",
    "\n",
    "env.reset()\n",
    "while True:\n",
    "    action = env.action_space.sample()\n",
    "    obs, reward, terminated, truncated, _ = env.step(action)\n",
    "    rewards.append(reward)\n",
    "    if truncated or terminated:\n",
    "        break\n",
    "env.close()\n",
    "\n",
    "plt.plot(rewards)"
   ],
   "metadata": {
    "collapsed": false,
    "ExecuteTime": {
     "end_time": "2023-09-14T18:19:13.205009Z",
     "start_time": "2023-09-14T18:19:10.290720Z"
    }
   },
   "id": "94ee521d5699fa39"
  },
  {
   "cell_type": "markdown",
   "source": [
    "# Now RL!"
   ],
   "metadata": {
    "collapsed": false
   },
   "id": "80e07fbce01dfbbe"
  },
  {
   "cell_type": "code",
   "execution_count": 5,
   "outputs": [],
   "source": [
    "# import ray\n",
    "# from ray.rllib.algorithms import ppo\n",
    "# from ray.tune.registry import register_env\n",
    "# \n",
    "# ray.init()\n",
    "# register_env(\"freq_phase_env\", build_env)"
   ],
   "metadata": {
    "collapsed": false,
    "ExecuteTime": {
     "end_time": "2023-09-14T18:19:13.209827Z",
     "start_time": "2023-09-14T18:19:13.206116Z"
    }
   },
   "id": "d7d9513c56141bb2"
  },
  {
   "cell_type": "code",
   "execution_count": 6,
   "outputs": [],
   "source": [
    "# algo = ppo.PPO(env=\"freq_phase_env\", config={'env_config': {}})\n",
    "# \n",
    "# while True:\n",
    "#     print(algo.train())"
   ],
   "metadata": {
    "collapsed": false,
    "ExecuteTime": {
     "end_time": "2023-09-14T18:19:13.209929Z",
     "start_time": "2023-09-14T18:19:13.208078Z"
    }
   },
   "id": "3f515859eeb4ba9a"
  },
  {
   "cell_type": "code",
   "execution_count": 7,
   "outputs": [],
   "source": [
    "import random\n",
    "\n",
    "import torch\n",
    "import torch.nn as nn\n",
    "import torch.optim as optim\n",
    "import torch.nn.functional as F\n",
    "from IPython.display import clear_output\n",
    "\n",
    "use_cuda = torch.cuda.is_available()\n",
    "if torch.has_mps:\n",
    "    device = 'mps'\n",
    "elif torch.cuda.is_available():\n",
    "    device = 'cuda'\n",
    "else:\n",
    "    device = 'cpu'\n",
    "device = torch.device(device)\n",
    "device\n",
    "\n",
    "class ReplayBuffer:\n",
    "    def __init__(self, capacity):\n",
    "        self.capacity = capacity\n",
    "        self.buffer = []\n",
    "        self.position = 0\n",
    "    \n",
    "    def push(self, state, action, reward, next_state, done):\n",
    "        if len(self.buffer) < self.capacity:\n",
    "            self.buffer.append(None)\n",
    "        self.buffer[self.position] = (state, action, reward, next_state, done)\n",
    "        self.position = (self.position + 1) % self.capacity\n",
    "    \n",
    "    def sample(self, batch_size):\n",
    "        batch = random.sample(self.buffer, batch_size)\n",
    "        state, action, reward, next_state, done = map(np.stack, zip(*batch))\n",
    "        return state, action, reward, next_state, done\n",
    "    \n",
    "    def __len__(self):\n",
    "        return len(self.buffer)\n",
    "\n",
    "\"\"\"\n",
    "Ornstein-Uhlenbeck process\n",
    "Adding time-correlated noise to the actions taken by the deterministic policy\n",
    "wiki (https://en.wikipedia.org/wiki/Ornstein%E2%80%93Uhlenbeck_process)\n",
    "https://github.com/vitchyr/rlkit/blob/master/rlkit/exploration_strategies/ou_strategy.py\n",
    "\"\"\"\n",
    "class OUNoise(object):\n",
    "    def __init__(self, action_space, mu=0.0, theta=0.15, max_sigma=0.3, min_sigma=0.3, decay_period=45_000):\n",
    "        self.mu           = mu\n",
    "        self.theta        = theta\n",
    "        self.sigma        = max_sigma\n",
    "        self.max_sigma    = max_sigma\n",
    "        self.min_sigma    = min_sigma\n",
    "        self.decay_period = decay_period\n",
    "        self.action_dim   = action_space.shape[0]\n",
    "        self.low          = action_space.low\n",
    "        self.high         = action_space.high\n",
    "        self.reset()\n",
    "        \n",
    "    def reset(self):\n",
    "        self.state = np.ones(self.action_dim) * self.mu\n",
    "        \n",
    "    def evolve_state(self):\n",
    "        x  = self.state\n",
    "        dx = self.theta * (self.mu - x) + self.sigma * np.random.randn(self.action_dim)\n",
    "        self.state = x + dx\n",
    "        return self.state\n",
    "    \n",
    "    def get_action(self, action, t=0):\n",
    "        ou_state = self.evolve_state()\n",
    "        self.sigma = self.max_sigma - (self.max_sigma - self.min_sigma) * min(1.0, t / self.decay_period)\n",
    "        return np.clip(action + ou_state, self.low, self.high)\n",
    "    \n",
    "def plot(frame_idx, rewards):\n",
    "    clear_output(True)\n",
    "    plt.figure(figsize=(20,5))\n",
    "    plt.subplot(131)\n",
    "    plt.title('frame %s. reward: %s' % (frame_idx, rewards[-1][1]))\n",
    "    iterations = [r[0] for r in rewards]\n",
    "    episode_rewards = [r[1] for r in rewards]\n",
    "    \n",
    "    # Do mean averaging\n",
    "    avg_len = 9\n",
    "    episode_rewards = np.array(episode_rewards)\n",
    "    episode_rewards = episode_rewards[:len(episode_rewards) - (len(episode_rewards) % avg_len)]\n",
    "    episode_rewards = episode_rewards.reshape((len(episode_rewards) // avg_len, avg_len)).mean(axis=1)\n",
    "    iterations = np.array(iterations)[::avg_len][:len(episode_rewards)]\n",
    "    \n",
    "    plt.plot(iterations, episode_rewards)\n",
    "    plt.show()\n",
    "\n",
    "class ValueNetwork(nn.Module):\n",
    "    def __init__(self, num_inputs, num_actions, hidden_size, init_w=3e-3):\n",
    "        super(ValueNetwork, self).__init__()\n",
    "        \n",
    "        self.linear1 = nn.Linear(num_inputs + num_actions, hidden_size)\n",
    "        self.linear2 = nn.Linear(hidden_size, hidden_size)\n",
    "        self.linear3 = nn.Linear(hidden_size, 1)\n",
    "        \n",
    "        self.linear3.weight.data.uniform_(-init_w, init_w)\n",
    "        self.linear3.bias.data.uniform_(-init_w, init_w)\n",
    "        \n",
    "    def forward(self, state, action):\n",
    "        x = torch.cat([state, action], 1)\n",
    "        x = F.relu(self.linear1(x))\n",
    "        x = F.relu(self.linear2(x))\n",
    "        x = self.linear3(x)\n",
    "        return x\n",
    "    \n",
    "\n",
    "class PolicyNetwork(nn.Module):\n",
    "    def __init__(self, num_inputs, num_actions, hidden_size, init_w=3e-3):\n",
    "        super(PolicyNetwork, self).__init__()\n",
    "        \n",
    "        self.linear1 = nn.Linear(num_inputs, hidden_size)\n",
    "        self.linear2 = nn.Linear(hidden_size, hidden_size)\n",
    "        self.linear3 = nn.Linear(hidden_size, num_actions)\n",
    "        \n",
    "        self.linear3.weight.data.uniform_(-init_w, init_w)\n",
    "        self.linear3.bias.data.uniform_(-init_w, init_w)\n",
    "        \n",
    "    def forward(self, state):\n",
    "        x = F.relu(self.linear1(state))\n",
    "        x = F.relu(self.linear2(x))\n",
    "        x = torch.sigmoid(self.linear3(x))\n",
    "        return x\n",
    "    \n",
    "    def get_action(self, state):\n",
    "        state  = torch.tensor(state).unsqueeze(0).float().to(device)\n",
    "        action = self.forward(state)\n",
    "        return action.detach().cpu().numpy()[0]\n",
    "\n",
    "def ddpg_update(batch_size, \n",
    "           gamma = 0.99,\n",
    "           min_value=-np.inf,\n",
    "           max_value=np.inf,\n",
    "           soft_tau=1e-2):\n",
    "    \n",
    "    state, action, reward, next_state, done = replay_buffer.sample(batch_size)\n",
    "    \n",
    "    state      = torch.FloatTensor(state).to(device)\n",
    "    next_state = torch.FloatTensor(next_state).to(device)\n",
    "    action     = torch.FloatTensor(action).to(device)\n",
    "    reward     = torch.FloatTensor(reward).unsqueeze(1).to(device)\n",
    "    done       = torch.FloatTensor(np.float32(done)).unsqueeze(1).to(device)\n",
    "\n",
    "    policy_loss = value_net(state, policy_net(state))\n",
    "    policy_loss = -policy_loss.mean()\n",
    "\n",
    "    next_action    = target_policy_net(next_state)\n",
    "    target_value   = target_value_net(next_state, next_action.detach())\n",
    "    expected_value = reward + (1.0 - done) * gamma * target_value\n",
    "    expected_value = torch.clamp(expected_value, min_value, max_value)\n",
    "\n",
    "    value = value_net(state, action)\n",
    "    value_loss = value_criterion(value, expected_value.detach())\n",
    "\n",
    "\n",
    "    policy_optimizer.zero_grad()\n",
    "    policy_loss.backward()\n",
    "    policy_optimizer.step()\n",
    "\n",
    "    value_optimizer.zero_grad()\n",
    "    value_loss.backward()\n",
    "    value_optimizer.step()\n",
    "\n",
    "    for target_param, param in zip(target_value_net.parameters(), value_net.parameters()):\n",
    "            target_param.data.copy_(\n",
    "                target_param.data * (1.0 - soft_tau) + param.data * soft_tau\n",
    "            )\n",
    "\n",
    "    for target_param, param in zip(target_policy_net.parameters(), policy_net.parameters()):\n",
    "            target_param.data.copy_(\n",
    "                target_param.data * (1.0 - soft_tau) + param.data * soft_tau\n",
    "            )"
   ],
   "metadata": {
    "collapsed": false,
    "ExecuteTime": {
     "end_time": "2023-09-14T18:19:13.695762Z",
     "start_time": "2023-09-14T18:19:13.222547Z"
    }
   },
   "id": "506109e36851ce6c"
  },
  {
   "cell_type": "code",
   "execution_count": 8,
   "outputs": [
    {
     "data": {
      "text/plain": "<Figure size 2000x500 with 1 Axes>",
      "image/png": "[encoded data removed]"
     },
     "metadata": {},
     "output_type": "display_data"
    },
    {
     "name": "stdout",
     "output_type": "stream",
     "text": [
      "Moviepy - Building video /Users/akhildevarashetti/code/reward_lab/exp/di/mujoco_exp/learning/_2_crawler/_0_random_target/agents/vids/freq_phase_agent-step-5000000.mp4.\n",
      "Moviepy - Writing video /Users/akhildevarashetti/code/reward_lab/exp/di/mujoco_exp/learning/_2_crawler/_0_random_target/agents/vids/freq_phase_agent-step-5000000.mp4\n"
     ]
    },
    {
     "name": "stderr",
     "output_type": "stream",
     "text": [
      "                                                  "
     ]
    },
    {
     "name": "stdout",
     "output_type": "stream",
     "text": [
      "Moviepy - Done !\n",
      "Moviepy - video ready /Users/akhildevarashetti/code/reward_lab/exp/di/mujoco_exp/learning/_2_crawler/_0_random_target/agents/vids/freq_phase_agent-step-5000000.mp4\n"
     ]
    },
    {
     "name": "stderr",
     "output_type": "stream",
     "text": [
      "\r"
     ]
    },
    {
     "name": "stdout",
     "output_type": "stream",
     "text": [
      "Moviepy - Building video /Users/akhildevarashetti/code/reward_lab/exp/di/mujoco_exp/learning/_2_crawler/_0_random_target/agents/vids/freq_phase_agent-step-5000000.mp4.\n",
      "Moviepy - Writing video /Users/akhildevarashetti/code/reward_lab/exp/di/mujoco_exp/learning/_2_crawler/_0_random_target/agents/vids/freq_phase_agent-step-5000000.mp4\n"
     ]
    },
    {
     "name": "stderr",
     "output_type": "stream",
     "text": [
      "                                                                "
     ]
    },
    {
     "name": "stdout",
     "output_type": "stream",
     "text": [
      "Moviepy - Done !\n",
      "Moviepy - video ready /Users/akhildevarashetti/code/reward_lab/exp/di/mujoco_exp/learning/_2_crawler/_0_random_target/agents/vids/freq_phase_agent-step-5000000.mp4\n"
     ]
    },
    {
     "name": "stderr",
     "output_type": "stream",
     "text": [
      "\r"
     ]
    }
   ],
   "source": [
    "env = build_env()\n",
    "\n",
    "max_steps = 10\n",
    "ou_noise = OUNoise(env.action_space)\n",
    "\n",
    "state_dim  = env.observation_space.shape[0]\n",
    "action_dim = env.action_space.shape[0]\n",
    "hidden_dim = 1024\n",
    "\n",
    "value_net  = ValueNetwork(state_dim, action_dim, hidden_dim).to(device)\n",
    "policy_net = PolicyNetwork(state_dim, action_dim, hidden_dim).to(device)\n",
    "\n",
    "target_value_net  = ValueNetwork(state_dim, action_dim, hidden_dim).to(device)\n",
    "target_policy_net = PolicyNetwork(state_dim, action_dim, hidden_dim).to(device)\n",
    "\n",
    "for target_param, param in zip(target_value_net.parameters(), value_net.parameters()):\n",
    "    target_param.data.copy_(param.data)\n",
    "\n",
    "for target_param, param in zip(target_policy_net.parameters(), policy_net.parameters()):\n",
    "    target_param.data.copy_(param.data)\n",
    "    \n",
    "value_lr  = 1e-2\n",
    "policy_lr = 1e-2\n",
    "\n",
    "value_optimizer  = optim.Adam(value_net.parameters(),  lr=value_lr)\n",
    "policy_optimizer = optim.Adam(policy_net.parameters(), lr=policy_lr)\n",
    "\n",
    "value_criterion = nn.MSELoss()\n",
    "\n",
    "replay_buffer_size = 10_000\n",
    "replay_buffer = ReplayBuffer(replay_buffer_size)\n",
    "\n",
    "max_frames  = 100_000\n",
    "frame_idx   = 0\n",
    "rewards     = []\n",
    "batch_size  = 1024\n",
    "\n",
    "while frame_idx <= max_frames:\n",
    "    state, _ = env.reset()\n",
    "    ou_noise.reset()\n",
    "    episode_reward = 0\n",
    "\n",
    "    for step in range(max_steps):\n",
    "        action = policy_net.get_action(state)\n",
    "        action = ou_noise.get_action(action, step)\n",
    "        next_state, reward, terminated, truncated, _ = env.step(action)\n",
    "        done = terminated or truncated\n",
    "        \n",
    "        replay_buffer.push(state, action, reward, next_state, done)\n",
    "        if len(replay_buffer) > batch_size:\n",
    "            ddpg_update(batch_size)\n",
    "\n",
    "        state = next_state\n",
    "        episode_reward += reward\n",
    "        frame_idx += 1\n",
    "\n",
    "        if frame_idx % max(100, max_steps + 1) == 0:\n",
    "            plot(frame_idx, rewards)\n",
    "\n",
    "        if done:\n",
    "            break\n",
    "    \n",
    "    rewards.append((frame_idx, episode_reward / step))\n",
    "    env.close()"
   ],
   "metadata": {
    "collapsed": false
   },
   "id": "eff32e30da2e5a73"
  },
  {
   "cell_type": "code",
   "execution_count": 9,
   "outputs": [
    {
     "name": "stderr",
     "output_type": "stream",
     "text": [
      "/opt/homebrew/Caskroom/miniforge/base/envs/rl/lib/python3.9/site-packages/gymnasium/wrappers/record_video.py:94: UserWarning: \u001B[33mWARN: Overwriting existing videos at /Users/akhildevarashetti/code/reward_lab/exp/di/mujoco_exp/learning/_2_crawler/_0_random_target/agents/vids folder (try specifying a different `video_folder` for the `RecordVideo` wrapper if this is not desired)\u001B[0m\n",
      "  logger.warn(\n"
     ]
    },
    {
     "name": "stdout",
     "output_type": "stream",
     "text": [
      "None\n",
      "Moviepy - Building video /Users/akhildevarashetti/code/reward_lab/exp/di/mujoco_exp/learning/_2_crawler/_0_random_target/agents/vids/freq_phase_agent-step-0.mp4.\n",
      "Moviepy - Writing video /Users/akhildevarashetti/code/reward_lab/exp/di/mujoco_exp/learning/_2_crawler/_0_random_target/agents/vids/freq_phase_agent-step-0.mp4\n"
     ]
    },
    {
     "name": "stderr",
     "output_type": "stream",
     "text": [
      "                                                                "
     ]
    },
    {
     "name": "stdout",
     "output_type": "stream",
     "text": [
      "Moviepy - Done !\n",
      "Moviepy - video ready /Users/akhildevarashetti/code/reward_lab/exp/di/mujoco_exp/learning/_2_crawler/_0_random_target/agents/vids/freq_phase_agent-step-0.mp4\n"
     ]
    },
    {
     "name": "stderr",
     "output_type": "stream",
     "text": [
      "\r"
     ]
    },
    {
     "data": {
      "text/plain": "[<matplotlib.lines.Line2D at 0x176c86ee0>]"
     },
     "execution_count": 9,
     "metadata": {},
     "output_type": "execute_result"
    },
    {
     "data": {
      "text/plain": "<Figure size 640x480 with 1 Axes>",
      "image/png": "[encoded data removed]"
     },
     "metadata": {},
     "output_type": "display_data"
    }
   ],
   "source": [
    "env = build_env()\n",
    "\n",
    "rewards = []\n",
    "\n",
    "state, _ = env.reset()\n",
    "while True:\n",
    "    # action = env.action_space.sample()\n",
    "    action = policy_net.get_action(state)\n",
    "    obs, reward, terminated, truncated, _ = env.step(action)\n",
    "    rewards.append(reward)\n",
    "    if truncated or terminated:\n",
    "        break\n",
    "env.close()\n",
    "\n",
    "plt.plot(rewards)"
   ],
   "metadata": {
    "collapsed": false,
    "ExecuteTime": {
     "end_time": "2023-09-14T21:41:10.761653Z",
     "start_time": "2023-09-14T21:41:07.943175Z"
    }
   },
   "id": "a30f78106f1b144e"
  },
  {
   "cell_type": "code",
   "execution_count": 9,
   "outputs": [],
   "source": [],
   "metadata": {
    "collapsed": false,
    "ExecuteTime": {
     "end_time": "2023-09-14T21:41:10.788847Z",
     "start_time": "2023-09-14T21:41:10.733620Z"
    }
   },
   "id": "e5ebf75f49ad6"
  }
 ],
 "metadata": {
  "kernelspec": {
   "display_name": "Python 3",
   "language": "python",
   "name": "python3"
  },
  "language_info": {
   "codemirror_mode": {
    "name": "ipython",
    "version": 2
   },
   "file_extension": ".py",
   "mimetype": "text/x-python",
   "name": "python",
   "nbconvert_exporter": "python",
   "pygments_lexer": "ipython2",
   "version": "2.7.6"
  }
 },
 "nbformat": 4,
 "nbformat_minor": 5
}
