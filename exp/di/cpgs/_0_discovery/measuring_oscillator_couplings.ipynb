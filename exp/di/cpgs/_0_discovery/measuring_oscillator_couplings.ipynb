{
 "cells": [
  {
   "cell_type": "code",
   "execution_count": null,
   "id": "initial_id",
   "metadata": {
    "collapsed": true
   },
   "outputs": [],
   "source": [
    "import numpy as np\n",
    "from matplotlib import pyplot as plt\n",
    "from scipy.signal import spectrogram"
   ]
  },
  {
   "cell_type": "code",
   "execution_count": null,
   "outputs": [],
   "source": [
    "T = np.pi * 2\n",
    "dt = 0.01\n",
    "n = 4\n",
    "phases = np.linspace(start=0, stop=np.pi, num=n)\n",
    "frequencies = np.ones((n,)) * 2"
   ],
   "metadata": {
    "collapsed": false
   },
   "id": "b471d81d47ab1892"
  },
  {
   "cell_type": "code",
   "execution_count": null,
   "outputs": [],
   "source": [
    "for i in range(n):\n",
    "    plt.plot(np.sin(\n",
    "        np.arange(start=0, stop=T, step=dt) * frequencies[i] + phases[i]\n",
    "    ))"
   ],
   "metadata": {
    "collapsed": false
   },
   "id": "f3447134f62f368b"
  },
  {
   "cell_type": "code",
   "execution_count": null,
   "outputs": [],
   "source": [
    "class SimpleOscillator:\n",
    "    def __init__(self, frequency, phase, dt):\n",
    "        self.frequency = frequency\n",
    "        self.dt = dt\n",
    "        self.initial_phase = phase\n",
    "        self.current_phase = phase\n",
    "        \n",
    "    def __call__(self):\n",
    "        value = np.sin(self.current_phase)\n",
    "        self.current_phase += self.frequency * self.dt\n",
    "\n",
    "        return value\n",
    "\n",
    "for i in range(n):\n",
    "    oscillator = SimpleOscillator(frequency=frequencies[i], phase=phases[i], dt=dt)\n",
    "    plt.plot([oscillator() for _ in range(int(T / dt))])"
   ],
   "metadata": {
    "collapsed": false
   },
   "id": "23cd7fcab9391530"
  },
  {
   "cell_type": "code",
   "execution_count": null,
   "outputs": [],
   "source": [
    "class MultipleSimpleOscillators:\n",
    "    def __init__(self, frequencies, phases, dt):\n",
    "        self.frequencies = frequencies  # (n,)\n",
    "        self.dt = dt\n",
    "        self.initial_phases = phases  # (n,)\n",
    "        self.current_phases = phases  # (n,)\n",
    "        \n",
    "    def __call__(self):\n",
    "        value = np.sin(self.current_phases)\n",
    "        self.current_phases += self.frequencies * self.dt\n",
    "\n",
    "        return value\n",
    "\n",
    "oscillators = MultipleSimpleOscillators(frequencies, phases, dt)\n",
    "waves = np.array([oscillators() for _ in range(int(T / dt))])\n",
    "\n",
    "for i in range(n):\n",
    "    plt.plot(waves[:, i])"
   ],
   "metadata": {
    "collapsed": false
   },
   "id": "c14c2d7fbcd8b9c2"
  },
  {
   "cell_type": "code",
   "execution_count": null,
   "outputs": [],
   "source": [
    "class SimpleKuramotoOscillators:\n",
    "    def __init__(self, frequencies, phases, dt, coupling_strength):\n",
    "        self.frequencies = frequencies  # (n,)\n",
    "        self.dt = dt\n",
    "        self.coupling_strength = coupling_strength\n",
    "        self.phases = phases.copy()  # (n,)\n",
    "        \n",
    "    def __call__(self):\n",
    "        value = np.sin(self.phases)\n",
    "\n",
    "        # d_phase = self.frequencies   # <-- vanilla oscillators way\n",
    "        d_phase = self.frequencies + (\n",
    "            self.coupling_strength / len(self.frequencies) \n",
    "            * np.sin(self.phases - self.phases[:, np.newaxis])\n",
    "        ).sum(axis=1)\n",
    "\n",
    "        self.phases += d_phase * self.dt\n",
    "\n",
    "        return value\n",
    "\n",
    "oscillators = SimpleKuramotoOscillators(\n",
    "    # frequencies=np.ones((n,)) * 10, \n",
    "    frequencies=np.linspace(start=20, stop=40, num=n), \n",
    "    phases=np.linspace(start=0, stop=2 * np.pi, num=n), \n",
    "    dt=0.01,\n",
    "    coupling_strength=15.9,\n",
    ")\n",
    "waves = np.array([oscillators() for _ in range(4 * int(T / oscillators.dt))])\n",
    "\n",
    "plt.figure(figsize=(19, 2))\n",
    "for i in range(n):\n",
    "    plt.plot(waves[:1000, i], label=i)\n",
    "plt.legend()"
   ],
   "metadata": {
    "collapsed": false
   },
   "id": "4783ff3319af2856"
  },
  {
   "cell_type": "code",
   "execution_count": null,
   "outputs": [],
   "source": [
    "plt.figure(figsize=(19, 2))\n",
    "for i in range(n):\n",
    "    plt.plot(waves[-1000:, i], label=i)\n",
    "plt.legend()"
   ],
   "metadata": {
    "collapsed": false
   },
   "id": "99503f92a376e51a"
  },
  {
   "cell_type": "code",
   "execution_count": null,
   "outputs": [],
   "source": [
    "nperseg = 630\n",
    "noverlap = nperseg // 4\n",
    "nfft = 4000\n",
    "\n",
    "for i in range(n):\n",
    "    freq, segments, sxx = spectrogram(waves[:, i], nperseg=nperseg, noverlap=noverlap, nfft=nfft)\n",
    "    if i == 0:\n",
    "        print(freq.shape, segments.shape, sxx.shape)\n",
    "        plt.imshow(sxx[50:150], interpolation='nearest', aspect='auto')\n",
    "        plt.show()\n",
    "        plt.close()\n",
    "    plt.plot(sxx.max(axis=0))"
   ],
   "metadata": {
    "collapsed": false
   },
   "id": "770797f174696aa1"
  },
  {
   "cell_type": "code",
   "execution_count": null,
   "outputs": [],
   "source": [
    "def get_frequencies(wave, dt):\n",
    "    power = np.fft.fft(wave)\n",
    "    freq = np.fft.fftfreq(len(power), dt / (np.pi * 2))\n",
    "    \n",
    "    power = np.abs(power)\n",
    "    \n",
    "    power = power[freq >= 0]\n",
    "    freq = freq[freq >= 0]\n",
    "    \n",
    "    power = power[freq < 20]\n",
    "    freq = freq[freq < 20]\n",
    "    \n",
    "    return power, freq"
   ],
   "metadata": {
    "collapsed": false
   },
   "id": "3cba2e440c8999b2"
  },
  {
   "cell_type": "code",
   "execution_count": null,
   "outputs": [],
   "source": [
    "for i in range(n):\n",
    "    power, freq = get_frequencies(waves[:, i], oscillators.dt)\n",
    "    plt.plot(freq, power, label=i)\n",
    "plt.legend()"
   ],
   "metadata": {
    "collapsed": false
   },
   "id": "e567a716b5a1b941"
  },
  {
   "cell_type": "code",
   "execution_count": null,
   "outputs": [],
   "source": [
    "nperseg = 1000\n",
    "noverlap = nperseg // 4\n",
    "nfft = 4000\n",
    "\n",
    "for i in range(n):\n",
    "    freq, segments, sxx = spectrogram(waves[:, i], nperseg=nperseg, noverlap=noverlap, nfft=nfft)\n",
    "    if i == 0:\n",
    "        print(freq.shape, segments.shape, sxx.shape)\n",
    "        plt.imshow(sxx, interpolation='nearest', aspect='auto')\n",
    "        plt.show()\n",
    "        plt.close()\n",
    "    plt.plot(sxx.max(axis=0))"
   ],
   "metadata": {
    "collapsed": false
   },
   "id": "8d72af0025f1816d"
  },
  {
   "cell_type": "code",
   "execution_count": null,
   "outputs": [],
   "source": [
    "freq[266]"
   ],
   "metadata": {
    "collapsed": false
   },
   "id": "13dd067c148b48e7"
  },
  {
   "cell_type": "code",
   "execution_count": null,
   "outputs": [],
   "source": [
    "plt.plot(sxx.max(axis=0))"
   ],
   "metadata": {
    "collapsed": false
   },
   "id": "e1b44b5c79a8469e"
  },
  {
   "cell_type": "code",
   "execution_count": null,
   "outputs": [],
   "source": [
    "freq, segments, sxx2 = spectrogram(waves[:, 1], nperseg=200, nfft=4000)\n",
    "print(freq.shape, segments.shape, sxx2.shape)\n",
    "plt.imshow(sxx2[:100, :], interpolation='nearest', aspect='auto')"
   ],
   "metadata": {
    "collapsed": false
   },
   "id": "7f2d0d585352037d"
  },
  {
   "cell_type": "code",
   "execution_count": null,
   "outputs": [],
   "source": [
    "plt.imshow(sxx2[:100, :] + sxx[:100, :], interpolation='nearest', aspect='auto')"
   ],
   "metadata": {
    "collapsed": false
   },
   "id": "63e904bfbeafc98a"
  },
  {
   "cell_type": "code",
   "execution_count": null,
   "outputs": [],
   "source": [],
   "metadata": {
    "collapsed": false
   },
   "id": "57f987a25d82dc9e"
  }
 ],
 "metadata": {
  "kernelspec": {
   "display_name": "Python 3",
   "language": "python",
   "name": "python3"
  },
  "language_info": {
   "codemirror_mode": {
    "name": "ipython",
    "version": 2
   },
   "file_extension": ".py",
   "mimetype": "text/x-python",
   "name": "python",
   "nbconvert_exporter": "python",
   "pygments_lexer": "ipython2",
   "version": "2.7.6"
  }
 },
 "nbformat": 4,
 "nbformat_minor": 5
}
