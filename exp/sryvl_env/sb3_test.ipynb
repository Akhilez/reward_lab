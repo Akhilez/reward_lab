{
 "cells": [
  {
   "cell_type": "code",
   "execution_count": 1,
   "metadata": {
    "collapsed": true
   },
   "outputs": [],
   "source": [
    "import gym\n",
    "import stable_baselines3\n",
    "from stable_baselines3.common.env_checker import check_env\n",
    "from sryvl import SrYvlLvl0Env"
   ]
  },
  {
   "cell_type": "code",
   "execution_count": 2,
   "outputs": [],
   "source": [
    "env = gym.make('sryvl-v0')"
   ],
   "metadata": {
    "collapsed": false
   }
  },
  {
   "cell_type": "code",
   "execution_count": 3,
   "outputs": [],
   "source": [
    "check_env(env)"
   ],
   "metadata": {
    "collapsed": false
   }
  },
  {
   "cell_type": "code",
   "execution_count": 4,
   "outputs": [
    {
     "data": {
      "text/plain": "((3, 63, 63), dtype('uint8'))"
     },
     "execution_count": 4,
     "metadata": {},
     "output_type": "execute_result"
    }
   ],
   "source": [
    "obs = env.reset()\n",
    "obs.shape, obs.dtype"
   ],
   "metadata": {
    "collapsed": false
   }
  },
  {
   "cell_type": "code",
   "execution_count": 5,
   "outputs": [
    {
     "name": "stdout",
     "output_type": "stream",
     "text": [
      "1\n",
      "□ □ □ □ □ □ □ □ □ □ □ □ □ □ □ □ □ □ □ □ □ □ □ □ □ □\n",
      "□ □ □ □ □ □ □ □ □ □ □ □ □ □ □ □ □ □ □ □ □ □ □ □ □ □\n",
      "□ □ □ □ □ □ □ □ □ □ □ □ □ □ □ □ □ □ □ □ □ □ □ □ □ □\n",
      "□ □ □     ■ ■ ■ • • • ■ ■ ■ ■ ■ ■   • •       □ □ □\n",
      "□ □ □     ■ ■ ■ •   •                 •       □ □ □\n",
      "□ □ □   • ■ ■ ■   •   •                       □ □ □\n",
      "□ □ □                   •               • •   □ □ □\n",
      "□ □ □                 • ■         •     •     □ □ □\n",
      "□ □ □ ■ •             • •     •   ■ ■       • □ □ □\n",
      "□ □ □ ■       ■                 ■ ■ ■ ■ ■ ■ ■ □ □ □\n",
      "□ □ □ ■     🔺             •       ■ ■ ■ ■ ■ ■ □ □ □\n",
      "□ □ □             ■ ■ ■         • ■ ■ ■ ■   • □ □ □\n",
      "□ □ □ ■ •   •     ■ ■ ■     •     ■ ■ ■       □ □ □\n",
      "□ □ □ ■ ■     •   ■ ■ ■ • •       ■ ■         □ □ □\n",
      "□ □ □ ■ ■                         •   • •     □ □ □\n",
      "□ □ □ • • ■     •           •     •           □ □ □\n",
      "□ □ □     ■ ■       ■ •                       □ □ □\n",
      "□ □ □     ■ ■ ■ ■ ■ ■ ■ ■ ■   ■ ■ ■ ■   ■ ■ • □ □ □\n",
      "□ □ □ • ■ ■ ■     ■ ■ ■ ■ ■ ■ ■ ■   • ■     • □ □ □\n",
      "□ □ □ ■ ■ ■   •     ■ ■ ■ ■ ■ ■               □ □ □\n",
      "□ □ □             ■ ■ ■       ■             • □ □ □\n",
      "□ □ □       • • ■ ■ ■   •     ■       ■ ■     □ □ □\n",
      "□ □ □     •       ■   •           ■ ■ ■ ■ ■   □ □ □\n",
      "□ □ □ □ □ □ □ □ □ □ □ □ □ □ □ □ □ □ □ □ □ □ □ □ □ □\n",
      "□ □ □ □ □ □ □ □ □ □ □ □ □ □ □ □ □ □ □ □ □ □ □ □ □ □\n",
      "□ □ □ □ □ □ □ □ □ □ □ □ □ □ □ □ □ □ □ □ □ □ □ □ □ □\n"
     ]
    }
   ],
   "source": [
    "env.render('world_console')"
   ],
   "metadata": {
    "collapsed": false
   }
  },
  {
   "cell_type": "code",
   "execution_count": 6,
   "outputs": [
    {
     "name": "stdout",
     "output_type": "stream",
     "text": [
      "Using cpu device\n",
      "Wrapping the env with a `Monitor` wrapper\n",
      "Wrapping the env in a DummyVecEnv.\n"
     ]
    }
   ],
   "source": [
    "model = stable_baselines3.PPO('CnnPolicy', env, verbose=1)"
   ],
   "metadata": {
    "collapsed": false
   }
  },
  {
   "cell_type": "code",
   "execution_count": 7,
   "outputs": [
    {
     "name": "stdout",
     "output_type": "stream",
     "text": [
      "---------------------------------\n",
      "| rollout/           |          |\n",
      "|    ep_len_mean     | 581      |\n",
      "|    ep_rew_mean     | 581      |\n",
      "| time/              |          |\n",
      "|    fps             | 274      |\n",
      "|    iterations      | 1        |\n",
      "|    time_elapsed    | 7        |\n",
      "|    total_timesteps | 2048     |\n",
      "---------------------------------\n",
      "-----------------------------------------\n",
      "| rollout/                |             |\n",
      "|    ep_len_mean          | 585         |\n",
      "|    ep_rew_mean          | 585         |\n",
      "| time/                   |             |\n",
      "|    fps                  | 200         |\n",
      "|    iterations           | 2           |\n",
      "|    time_elapsed         | 20          |\n",
      "|    total_timesteps      | 4096        |\n",
      "| train/                  |             |\n",
      "|    approx_kl            | 0.014089679 |\n",
      "|    clip_fraction        | 0.334       |\n",
      "|    clip_range           | 0.2         |\n",
      "|    entropy_loss         | -1.58       |\n",
      "|    explained_variance   | 0.00746     |\n",
      "|    learning_rate        | 0.0003      |\n",
      "|    loss                 | 1.75        |\n",
      "|    n_updates            | 10          |\n",
      "|    policy_gradient_loss | 0.00633     |\n",
      "|    value_loss           | 5.73        |\n",
      "-----------------------------------------\n",
      "----------------------------------------\n",
      "| rollout/                |            |\n",
      "|    ep_len_mean          | 537        |\n",
      "|    ep_rew_mean          | 537        |\n",
      "| time/                   |            |\n",
      "|    fps                  | 183        |\n",
      "|    iterations           | 3          |\n",
      "|    time_elapsed         | 33         |\n",
      "|    total_timesteps      | 6144       |\n",
      "| train/                  |            |\n",
      "|    approx_kl            | 0.01431095 |\n",
      "|    clip_fraction        | 0.285      |\n",
      "|    clip_range           | 0.2        |\n",
      "|    entropy_loss         | -1.55      |\n",
      "|    explained_variance   | 0.0431     |\n",
      "|    learning_rate        | 0.0003     |\n",
      "|    loss                 | 4.16       |\n",
      "|    n_updates            | 20         |\n",
      "|    policy_gradient_loss | 0.00207    |\n",
      "|    value_loss           | 17.2       |\n",
      "----------------------------------------\n",
      "-----------------------------------------\n",
      "| rollout/                |             |\n",
      "|    ep_len_mean          | 565         |\n",
      "|    ep_rew_mean          | 565         |\n",
      "| time/                   |             |\n",
      "|    fps                  | 173         |\n",
      "|    iterations           | 4           |\n",
      "|    time_elapsed         | 47          |\n",
      "|    total_timesteps      | 8192        |\n",
      "| train/                  |             |\n",
      "|    approx_kl            | 0.027308557 |\n",
      "|    clip_fraction        | 0.318       |\n",
      "|    clip_range           | 0.2         |\n",
      "|    entropy_loss         | -1.51       |\n",
      "|    explained_variance   | 0.184       |\n",
      "|    learning_rate        | 0.0003      |\n",
      "|    loss                 | 7.68        |\n",
      "|    n_updates            | 30          |\n",
      "|    policy_gradient_loss | 0.00672     |\n",
      "|    value_loss           | 20.6        |\n",
      "-----------------------------------------\n",
      "----------------------------------------\n",
      "| rollout/                |            |\n",
      "|    ep_len_mean          | 509        |\n",
      "|    ep_rew_mean          | 509        |\n",
      "| time/                   |            |\n",
      "|    fps                  | 167        |\n",
      "|    iterations           | 5          |\n",
      "|    time_elapsed         | 61         |\n",
      "|    total_timesteps      | 10240      |\n",
      "| train/                  |            |\n",
      "|    approx_kl            | 0.06481722 |\n",
      "|    clip_fraction        | 0.283      |\n",
      "|    clip_range           | 0.2        |\n",
      "|    entropy_loss         | -1.51      |\n",
      "|    explained_variance   | 0.367      |\n",
      "|    learning_rate        | 0.0003     |\n",
      "|    loss                 | 15.9       |\n",
      "|    n_updates            | 40         |\n",
      "|    policy_gradient_loss | 0.00255    |\n",
      "|    value_loss           | 27.1       |\n",
      "----------------------------------------\n"
     ]
    },
    {
     "data": {
      "text/plain": "<stable_baselines3.ppo.ppo.PPO at 0x1d1dedfe7c0>"
     },
     "execution_count": 7,
     "metadata": {},
     "output_type": "execute_result"
    }
   ],
   "source": [
    "model.learn(total_timesteps=10_000)"
   ],
   "metadata": {
    "collapsed": false
   }
  },
  {
   "cell_type": "code",
   "execution_count": null,
   "outputs": [],
   "source": [
    "model.save(r'F:\\reward_lab\\exp\\sryvl_env\\ppo_model')"
   ],
   "metadata": {
    "collapsed": false
   }
  },
  {
   "cell_type": "code",
   "execution_count": null,
   "outputs": [],
   "source": [
    "model.policy"
   ],
   "metadata": {
    "collapsed": false
   }
  },
  {
   "cell_type": "code",
   "execution_count": null,
   "outputs": [],
   "source": [
    "obs = env.reset()\n",
    "for i in range(10_000):\n",
    "    action, _states = model.predict(obs, deterministic=True)\n",
    "    obs, rewards, dones, info = env.step(int(action))\n",
    "    if 2000 < i < 2100:\n",
    "        env.render('world_console')\n",
    "    if dones:\n",
    "        break\n",
    "env.render('world_console'), i"
   ],
   "metadata": {
    "collapsed": false
   }
  },
  {
   "cell_type": "code",
   "execution_count": null,
   "outputs": [],
   "source": [
    "env.render('world_console')"
   ],
   "metadata": {
    "collapsed": false
   }
  },
  {
   "cell_type": "code",
   "execution_count": null,
   "outputs": [],
   "source": [
    "i"
   ],
   "metadata": {
    "collapsed": false
   }
  },
  {
   "cell_type": "code",
   "execution_count": null,
   "outputs": [],
   "source": [],
   "metadata": {
    "collapsed": false
   }
  }
 ],
 "metadata": {
  "kernelspec": {
   "display_name": "Python 3",
   "language": "python",
   "name": "python3"
  },
  "language_info": {
   "codemirror_mode": {
    "name": "ipython",
    "version": 2
   },
   "file_extension": ".py",
   "mimetype": "text/x-python",
   "name": "python",
   "nbconvert_exporter": "python",
   "pygments_lexer": "ipython2",
   "version": "2.7.6"
  }
 },
 "nbformat": 4,
 "nbformat_minor": 0
}
