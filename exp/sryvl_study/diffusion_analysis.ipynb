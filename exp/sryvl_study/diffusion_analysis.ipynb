{
 "cells": [
  {
   "cell_type": "code",
   "execution_count": 1,
   "outputs": [],
   "source": [
    "from sryvl.envs.sryvl_v0.sryvl import SrYvlLvl0Env\n",
    "import matplotlib.pyplot as plt\n",
    "from tqdm import tqdm\n",
    "from exp.sryvl_study.attractor_player import AttractorPlayer, RandomPlayer\n",
    "import numpy as np"
   ],
   "metadata": {
    "collapsed": false,
    "pycharm": {
     "name": "#%%\n"
    }
   }
  },
  {
   "cell_type": "code",
   "execution_count": 64,
   "outputs": [],
   "source": [
    "n_sims = 1000\n",
    "env = SrYvlLvl0Env(\n",
    "    shrink_rate_min=0.000,\n",
    "    shrink_rate_max=0.000,\n",
    "    food_expiry_period=15,\n",
    ")"
   ],
   "metadata": {
    "collapsed": false,
    "pycharm": {
     "name": "#%%\n"
    }
   }
  },
  {
   "cell_type": "code",
   "execution_count": 65,
   "outputs": [
    {
     "name": "stderr",
     "output_type": "stream",
     "text": [
      "100%|██████████| 1000/1000 [17:50:19<00:00, 64.22s/it]     \n"
     ]
    }
   ],
   "source": [
    "steps = []\n",
    "for i in tqdm(range(n_sims)):\n",
    "    env.reset()\n",
    "    while not env.done:\n",
    "        env.step(0)\n",
    "        if env.stats_agg[\"n_foods_available\"][-1] == 0:\n",
    "            break\n",
    "    stats = env.stats_agg\n",
    "    steps.append(stats[\"steps\"])\n",
    "steps = np.array(steps)"
   ],
   "metadata": {
    "collapsed": false,
    "pycharm": {
     "name": "#%%\n"
    }
   }
  },
  {
   "cell_type": "code",
   "execution_count": 66,
   "outputs": [
    {
     "data": {
      "text/plain": "[28202,\n 2414,\n 7341,\n 14329,\n 8279,\n 4422,\n 8974,\n 2082,\n 3716,\n 22635,\n 6556,\n 12919,\n 3216,\n 3283,\n 17182,\n 4381,\n 827,\n 1987,\n 23270,\n 4693,\n 9019,\n 16911,\n 14914,\n 7551,\n 5657,\n 1226,\n 25273,\n 6166,\n 14632,\n 5506,\n 3748,\n 26254,\n 5967,\n 13601,\n 10852,\n 25659,\n 537,\n 2523,\n 3688,\n 4125,\n 3788,\n 1810,\n 15068,\n 7961,\n 12803,\n 678,\n 8792,\n 74676,\n 5395,\n 1227,\n 1875,\n 21740,\n 12236,\n 49525,\n 4626,\n 823,\n 565,\n 3170,\n 7909,\n 6560,\n 36958,\n 6246,\n 1537,\n 16095,\n 16473,\n 22048,\n 4823,\n 4514,\n 11108,\n 5035,\n 8210,\n 526,\n 9536,\n 1687,\n 14404,\n 3026,\n 16052,\n 677,\n 3063,\n 19839,\n 17273,\n 8466,\n 7199,\n 1068,\n 7435,\n 2174,\n 1276,\n 4000,\n 3934,\n 2872,\n 7730,\n 1165,\n 1958,\n 8395,\n 2918,\n 4267,\n 1693,\n 12456,\n 10213,\n 6061,\n 3850,\n 7919,\n 55055,\n 15070,\n 4256,\n 1845,\n 7205,\n 36666,\n 3379,\n 6555,\n 14055,\n 822,\n 20260,\n 7518,\n 17378,\n 28783,\n 1308,\n 23272,\n 466,\n 1835,\n 12813,\n 18011,\n 18705,\n 2161,\n 5860,\n 3632,\n 4128,\n 775,\n 1835,\n 24989,\n 2617,\n 2886,\n 2521,\n 31878,\n 24476,\n 2276,\n 4776,\n 405,\n 15105,\n 1648,\n 865,\n 4487,\n 3180,\n 7079,\n 1692,\n 6583,\n 1011,\n 3534,\n 3234,\n 17750,\n 26720,\n 7657,\n 12955,\n 2284,\n 2406,\n 6778,\n 17703,\n 1145,\n 13034,\n 18313,\n 21257,\n 66437,\n 2891,\n 6225,\n 4638,\n 6385,\n 15138,\n 3214,\n 9295,\n 12309,\n 7465,\n 13857,\n 4435,\n 3706,\n 14411,\n 7852,\n 13559,\n 12831,\n 21979,\n 21537,\n 34294,\n 1033,\n 887,\n 2247,\n 5505,\n 7368,\n 4927,\n 2903,\n 15828,\n 7953,\n 2386,\n 10637,\n 473,\n 8228,\n 12239,\n 4540,\n 370,\n 1378,\n 3389,\n 4038,\n 4815,\n 14285,\n 4355,\n 15393,\n 1334,\n 13551,\n 31942,\n 11790,\n 5223,\n 6519,\n 5221,\n 33518,\n 1041,\n 13049,\n 552,\n 9697,\n 5732,\n 7286,\n 25407,\n 21956,\n 3667,\n 11011,\n 23786,\n 11885,\n 572,\n 5719,\n 55810,\n 30283,\n 1943,\n 12805,\n 11833,\n 4527,\n 401,\n 6093,\n 13788,\n 2922,\n 3156,\n 1687,\n 31608,\n 438,\n 7049,\n 9452,\n 6193,\n 15540,\n 19759,\n 34512,\n 1877,\n 2982,\n 12908,\n 4395,\n 8877,\n 13115,\n 31245,\n 4484,\n 23209,\n 7021,\n 21273,\n 4245,\n 14746,\n 38399,\n 7996,\n 10222,\n 1122,\n 2576,\n 7923,\n 310,\n 19963,\n 694,\n 4243,\n 6016,\n 37482,\n 11150,\n 874,\n 8089,\n 14037,\n 22796,\n 11029,\n 6484,\n 11661,\n 4314,\n 8217,\n 4886,\n 8382,\n 5298,\n 8640,\n 1661,\n 20274,\n 9609,\n 2610,\n 1372,\n 3757,\n 21482,\n 8015,\n 2866,\n 3655,\n 6041,\n 1355,\n 11661,\n 17804,\n 5886,\n 3764,\n 3234,\n 4200,\n 1039,\n 8511,\n 4613,\n 4813,\n 17627,\n 18733,\n 6949,\n 6694,\n 2627,\n 3345,\n 2487,\n 2704,\n 10828,\n 4711,\n 2980,\n 9296,\n 19804,\n 4132,\n 3529,\n 18406,\n 1110,\n 24143,\n 7446,\n 2893,\n 7410,\n 19493,\n 929,\n 6145,\n 33035,\n 381,\n 14706,\n 3250,\n 2246,\n 7007,\n 6817,\n 9507,\n 1906,\n 10585,\n 6499,\n 2677,\n 6777,\n 1883,\n 9013,\n 9018,\n 767,\n 19669,\n 4624,\n 219,\n 10558,\n 7997,\n 689,\n 25380,\n 3286,\n 31682,\n 14039,\n 8675,\n 24815,\n 14485,\n 17505,\n 1851,\n 6033,\n 3014,\n 6423,\n 13926,\n 26750,\n 726,\n 22567,\n 13259,\n 13266,\n 3614,\n 3705,\n 33840,\n 3638,\n 9563,\n 7139,\n 17744,\n 4589,\n 7656,\n 14368,\n 10500,\n 235,\n 899,\n 3340,\n 4487,\n 738,\n 4727,\n 6768,\n 6651,\n 1701,\n 2617,\n 2908,\n 5877,\n 11748,\n 5080,\n 8466,\n 25129,\n 10297,\n 1246,\n 8615,\n 2688,\n 53118,\n 3120,\n 6759,\n 22761,\n 1952,\n 10523,\n 29773,\n 7253,\n 623,\n 1594,\n 1651,\n 2664,\n 2459,\n 6349,\n 8454,\n 1558,\n 4130,\n 434,\n 11566,\n 3427,\n 9882,\n 772,\n 4885,\n 2175,\n 29088,\n 3710,\n 2101,\n 14296,\n 8265,\n 2176,\n 12055,\n 1826,\n 7260,\n 1091,\n 337,\n 34634,\n 5761,\n 22628,\n 7098,\n 7037,\n 9630,\n 28161,\n 11072,\n 16398,\n 6545,\n 8760,\n 1871,\n 3714,\n 9196,\n 8656,\n 7933,\n 1848,\n 940,\n 2482,\n 1432,\n 39281,\n 8223,\n 4138,\n 1961,\n 13634,\n 595,\n 4449,\n 1461,\n 10500,\n 3319,\n 13907,\n 23897,\n 15317,\n 18972,\n 25684,\n 6911,\n 18968,\n 5330,\n 4264,\n 8011,\n 9148,\n 7545,\n 23444,\n 2396,\n 3187,\n 5937,\n 11540,\n 748,\n 8853,\n 26923,\n 15711,\n 788,\n 6859,\n 506,\n 5156,\n 8423,\n 2090,\n 14715,\n 2147,\n 5592,\n 15468,\n 26934,\n 17195,\n 4540,\n 2639,\n 5342,\n 4402,\n 1650,\n 4947,\n 3950,\n 1593,\n 7806,\n 35933,\n 5349,\n 3087,\n 7610,\n 2469,\n 13182,\n 4818,\n 37865,\n 11792,\n 7217,\n 1578,\n 10690,\n 10339,\n 498,\n 10482,\n 5597,\n 17406,\n 7785,\n 4456,\n 2778,\n 5075,\n 22559,\n 5044,\n 967,\n 19833,\n 2458,\n 34045,\n 6730,\n 3903,\n 9804,\n 24875,\n 6248,\n 9051,\n 5062,\n 1919,\n 15226,\n 2500,\n 8286,\n 1518,\n 18038,\n 5610,\n 614,\n 22947,\n 1386,\n 21596,\n 12017,\n 1815,\n 23627,\n 3294,\n 3107,\n 2410,\n 446,\n 12188,\n 2108,\n 2145,\n 5211,\n 3365,\n 39512,\n 9885,\n 3664,\n 4548,\n 12562,\n 6014,\n 3085,\n 10104,\n 21554,\n 4085,\n 1130,\n 13491,\n 2878,\n 5959,\n 5546,\n 7629,\n 1566,\n 2349,\n 5676,\n 6928,\n 9550,\n 12132,\n 4603,\n 24684,\n 20127,\n 5123,\n 3752,\n 4626,\n 463,\n 2549,\n 5723,\n 9037,\n 12436,\n 12408,\n 1987,\n 26937,\n 1771,\n 914,\n 11125,\n 3276,\n 15381,\n 14677,\n 6937,\n 9104,\n 5748,\n 56473,\n 13212,\n 757,\n 15303,\n 4758,\n 1435,\n 1261,\n 9171,\n 8276,\n 2039,\n 49860,\n 7796,\n 20097,\n 33609,\n 19197,\n 330,\n 4555,\n 3576,\n 2760,\n 520,\n 26458,\n 13542,\n 25287,\n 1175,\n 12753,\n 5918,\n 3351,\n 2036,\n 2176,\n 14511,\n 265,\n 19248,\n 17766,\n 1557,\n 20429,\n 43815,\n 4039,\n 3752,\n 11664,\n 3833,\n 18846,\n 15286,\n 3980,\n 11626,\n 186,\n 11986,\n 18416,\n 11605,\n 3708,\n 2123,\n 7476,\n 5442,\n 14933,\n 8904,\n 16551,\n 5672,\n 6668,\n 41486,\n 34820,\n 21185,\n 6116,\n 14767,\n 10607,\n 4623,\n 1733,\n 9448,\n 16963,\n 6307,\n 3092,\n 9954,\n 19430,\n 35641,\n 10220,\n 38215,\n 1408,\n 3728,\n 6828,\n 1109,\n 5095,\n 8624,\n 6051,\n 1107,\n 351,\n 6724,\n 4645,\n 19769,\n 10757,\n 7494,\n 5421,\n 3252,\n 21747,\n 3017,\n 10743,\n 29788,\n 12355,\n 10195,\n 2774,\n 13941,\n 14197,\n 9166,\n 14513,\n 12070,\n 1836,\n 11051,\n 42752,\n 8403,\n 18625,\n 4226,\n 10593,\n 843,\n 1679,\n 10023,\n 6662,\n 17880,\n 190,\n 12427,\n 17476,\n 951,\n 7640,\n 7297,\n 4286,\n 16717,\n 7436,\n 34758,\n 8818,\n 8515,\n 8085,\n 1819,\n 10670,\n 12255,\n 978,\n 5983,\n 1222,\n 4823,\n 3880,\n 312,\n 1995,\n 4180,\n 10743,\n 1691,\n 25988,\n 19214,\n 15729,\n 9683,\n 34123,\n 1401,\n 64206,\n 9745,\n 2237,\n 2748,\n 11031,\n 1585,\n 5488,\n 11257,\n 11070,\n 10836,\n 20234,\n 12535,\n 5960,\n 17368,\n 4065,\n 3725,\n 6990,\n 8999,\n 5712,\n 4978,\n 2887,\n 42208,\n 43820,\n 1732,\n 557,\n 5845,\n 1247,\n 2169,\n 6385,\n 17823,\n 1613,\n 2609,\n 244,\n 1180,\n 14177,\n 5170,\n 18226,\n 2800,\n 2465,\n 7460,\n 571,\n 886,\n 3984,\n 1883,\n 4013,\n 20782,\n 14109,\n 31108,\n 10837,\n 39791,\n 18592,\n 5696,\n 18241,\n 4015,\n 2559,\n 3029,\n 9136,\n 1650,\n 4017,\n 11166,\n 7500,\n 12688,\n 1321,\n 4771,\n 1962,\n 787,\n 20137,\n 1703,\n 7050,\n 1125,\n 3350,\n 2019,\n 1854,\n 19184,\n 1792,\n 6947,\n 10736,\n 6502,\n 4074,\n 877,\n 14503,\n 1752,\n 19049,\n 28085,\n 5346,\n 2742,\n 26049,\n 3097,\n 3742,\n 3692,\n 2705,\n 6510,\n 8502,\n 474,\n 3008,\n 4712,\n 522,\n 7196,\n 11144,\n 17096,\n 8667,\n 4097,\n 10145,\n 19840,\n 1830,\n 1273,\n 3705,\n 180,\n 4184,\n 11108,\n 22712,\n 19173,\n 10331,\n 9221,\n 1903,\n 697,\n 5765,\n 7274,\n 11737,\n 15076,\n 36250,\n 4166,\n 6341,\n 10561,\n 12981,\n 3450,\n 5995,\n 27875,\n 2967,\n 3906,\n 13451,\n 38024,\n 10778,\n 3762,\n 3731,\n 8857,\n 13083,\n 19909,\n 18855,\n 2517,\n 30328,\n 1348,\n 18203,\n 2448,\n 20883,\n 27958,\n 7087,\n 6101,\n 2254,\n 5568,\n 1396,\n 1947,\n 2764,\n 7524,\n 3931,\n 4893,\n 22510,\n 16868,\n 1922,\n 31409,\n 11451,\n 31421,\n 48794,\n 2034,\n 8600,\n 8926,\n 5917,\n 1865,\n 14150,\n 4578,\n 5851,\n 2419,\n 4762,\n 9284,\n 11328,\n 3004,\n 4217,\n 3600,\n 66754,\n 1406,\n 13495,\n 7010,\n 30464,\n 8923,\n 3322,\n 28955,\n 17840,\n 71152,\n 2135,\n 2506,\n 4485,\n 4214,\n 661,\n 9481,\n 1962,\n 494,\n 15636,\n 27045,\n 10664,\n 5243,\n 11710,\n 8618,\n 10562,\n 2707,\n 19597,\n 5543,\n 1314,\n 6624,\n 4538,\n 13471,\n 578,\n 9932,\n 3500,\n 5335,\n 713,\n 3126,\n 8055,\n 3730,\n 3626,\n 10830,\n 27346,\n 8974,\n 608,\n 47040,\n 7249,\n 1478,\n 6054,\n 36430,\n 4178,\n 22630,\n 4013,\n 33840,\n 1773,\n 2898,\n 2219,\n 17041,\n 5704,\n 783,\n 1927,\n 3520,\n 18695,\n 436]"
     },
     "execution_count": 66,
     "metadata": {},
     "output_type": "execute_result"
    }
   ],
   "source": [
    "steps.tolist()"
   ],
   "metadata": {
    "collapsed": false,
    "pycharm": {
     "name": "#%%\n"
    }
   }
  },
  {
   "cell_type": "code",
   "execution_count": 67,
   "outputs": [
    {
     "data": {
      "text/plain": "(array([565., 231.,  99.,  50.,  29.,  13.,   4.,   4.,   3.,   2.]),\n array([  180. ,  7629.6, 15079.2, 22528.8, 29978.4, 37428. , 44877.6, 52327.2, 59776.8, 67226.4, 74676. ]),\n <BarContainer object of 10 artists>)"
     },
     "execution_count": 67,
     "metadata": {},
     "output_type": "execute_result"
    },
    {
     "data": {
      "text/plain": "<Figure size 432x288 with 1 Axes>",
      "image/png": "[encoded data removed]"
     },
     "metadata": {
      "needs_background": "light"
     },
     "output_type": "display_data"
    }
   ],
   "source": [
    "plt.hist(steps)"
   ],
   "metadata": {
    "collapsed": false,
    "pycharm": {
     "name": "#%%\n"
    }
   }
  },
  {
   "cell_type": "code",
   "execution_count": null,
   "outputs": [],
   "source": [
    "steps = [\n",
    "    11165,\n",
    "    8014,\n",
    "    2312,\n",
    "    5605,\n",
    "    306,\n",
    "    4890,\n",
    "    17685,\n",
    "    366,\n",
    "    7044,\n",
    "    2461,\n",
    "    8471,\n",
    "    5138,\n",
    "    12217,\n",
    "    4201,\n",
    "    4482,\n",
    "    16393,\n",
    "    2248,\n",
    "    10446,\n",
    "    24616,\n",
    "    4977,\n",
    "    646,\n",
    "    4919,\n",
    "    4353,\n",
    "    5458,\n",
    "    12345,\n",
    "    11765,\n",
    "    4228,\n",
    "    9797,\n",
    "    534,\n",
    "    6494,\n",
    "    4760,\n",
    "    4986,\n",
    "    4932,\n",
    "    7789,\n",
    "    11034,\n",
    "    4322,\n",
    "    5701,\n",
    "    11214,\n",
    "    3525,\n",
    "    9640,\n",
    "    1995,\n",
    "    6984,\n",
    "    28641,\n",
    "    3675,\n",
    "    2231,\n",
    "    10395,\n",
    "    11998,\n",
    "    19301,\n",
    "    12423,\n",
    "    9929,\n",
    "    6701,\n",
    "    3378,\n",
    "    6650,\n",
    "    8507,\n",
    "    19672,\n",
    "    8284,\n",
    "    1134,\n",
    "    1645,\n",
    "    3908,\n",
    "    2942,\n",
    "    33701,\n",
    "    5516,\n",
    "    6082,\n",
    "    8384,\n",
    "    5381,\n",
    "    7308,\n",
    "    21279,\n",
    "    6493,\n",
    "    3999,\n",
    "    1234,\n",
    "    3886,\n",
    "    2062,\n",
    "    3289,\n",
    "    6349,\n",
    "    5711,\n",
    "    13800,\n",
    "    20307,\n",
    "    1756,\n",
    "    34635,\n",
    "    31475,\n",
    "    18629,\n",
    "    7391,\n",
    "    2875,\n",
    "    12484,\n",
    "    5303,\n",
    "    4843,\n",
    "    516,\n",
    "    9473,\n",
    "    873,\n",
    "    3028,\n",
    "    4568,\n",
    "    33874,\n",
    "    660,\n",
    "    12594,\n",
    "    626,\n",
    "    8015,\n",
    "    5923,\n",
    "    17887,\n",
    "    246,\n",
    "    8834,\n",
    "]"
   ],
   "metadata": {
    "collapsed": false,
    "pycharm": {
     "name": "#%%\n"
    }
   }
  },
  {
   "cell_type": "code",
   "execution_count": null,
   "outputs": [],
   "source": [
    "stats.keys()"
   ],
   "metadata": {
    "collapsed": false,
    "pycharm": {
     "name": "#%%\n"
    }
   }
  },
  {
   "cell_type": "code",
   "execution_count": null,
   "outputs": [],
   "source": [
    "plt.plot(np.array(stats[\"n_foods_available\"]))"
   ],
   "metadata": {
    "collapsed": false,
    "pycharm": {
     "name": "#%%\n"
    }
   }
  },
  {
   "cell_type": "code",
   "execution_count": null,
   "outputs": [],
   "source": [
    "plt.bar(range(893), np.array(stats[\"n_foods_generated\"]))"
   ],
   "metadata": {
    "collapsed": false,
    "pycharm": {
     "name": "#%%\n"
    }
   }
  },
  {
   "cell_type": "code",
   "execution_count": null,
   "outputs": [],
   "source": [
    "plt.bar(range(893), np.array(stats[\"n_foods_expired\"]))"
   ],
   "metadata": {
    "collapsed": false,
    "pycharm": {
     "name": "#%%\n"
    }
   }
  },
  {
   "cell_type": "code",
   "execution_count": null,
   "outputs": [],
   "source": [],
   "metadata": {
    "collapsed": false,
    "pycharm": {
     "name": "#%%\n"
    }
   }
  }
 ],
 "metadata": {
  "kernelspec": {
   "display_name": "Python 3",
   "language": "python",
   "name": "python3"
  },
  "language_info": {
   "codemirror_mode": {
    "name": "ipython",
    "version": 2
   },
   "file_extension": ".py",
   "mimetype": "text/x-python",
   "name": "python",
   "nbconvert_exporter": "python",
   "pygments_lexer": "ipython2",
   "version": "2.7.6"
  }
 },
 "nbformat": 4,
 "nbformat_minor": 0
}