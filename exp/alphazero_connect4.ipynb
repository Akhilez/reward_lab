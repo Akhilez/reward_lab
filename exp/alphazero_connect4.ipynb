{
 "cells": [
  {
   "cell_type": "markdown",
   "source": [
    "# AlphaZero from scratch under 250 lines of code!\n",
    "\n",
    "This is by far the cleanest implementation of AlphaZero on the internet.\n",
    "This could be considered as a simplified version of suragnair's implementation inspired from higgsfield's RL Adventure.\n",
    "\n",
    "- Uses PyTorch.\n",
    "- Using standard PettingZoo api for env.\n",
    "- Some implementation details vary from the paper like Dirichlet noise and temperature.\n",
    "- Not tested on GPU.\n",
    "- Only tictactoe and connect4 are tested. This one is connect4."
   ],
   "metadata": {
    "collapsed": false
   }
  },
  {
   "cell_type": "code",
   "execution_count": 1,
   "outputs": [],
   "source": [
    "from collections import deque\n",
    "from random import random\n",
    "from pettingzoo.classic import connect_four_v3\n",
    "from torch import nn\n",
    "from torch.optim import Adam\n",
    "from copy import deepcopy\n",
    "import torch\n",
    "import math\n",
    "import numpy as np\n",
    "from torch.utils.data import DataLoader\n",
    "from tqdm import tqdm\n",
    "from torchmetrics import MeanMetric\n",
    "from IPython.display import clear_output\n",
    "import matplotlib.pyplot as plt"
   ],
   "metadata": {
    "collapsed": false
   }
  },
  {
   "cell_type": "markdown",
   "source": [
    "# Neural Network"
   ],
   "metadata": {
    "collapsed": false
   }
  },
  {
   "cell_type": "code",
   "execution_count": 2,
   "outputs": [],
   "source": [
    "class AlphaZeroModel(nn.Module):\n",
    "    def __init__(self, num_inputs, num_outputs):\n",
    "        super(AlphaZeroModel, self).__init__()\n",
    "        self.v = nn.Sequential(\n",
    "            nn.Flatten(),\n",
    "            nn.Linear(num_inputs, 256),\n",
    "            nn.ReLU(),\n",
    "            nn.Linear(256, 1),\n",
    "            nn.Tanh(),\n",
    "        )\n",
    "\n",
    "        self.p = nn.Sequential(\n",
    "            nn.Flatten(),\n",
    "            nn.Linear(num_inputs, 256),\n",
    "            nn.ReLU(),\n",
    "            nn.Linear(256, num_outputs),\n",
    "            nn.LogSoftmax(dim=1),\n",
    "        )\n",
    "\n",
    "    def forward(self, s):\n",
    "        p = self.p(s)\n",
    "        v = self.v(s)\n",
    "        return p, v"
   ],
   "metadata": {
    "collapsed": false
   }
  },
  {
   "cell_type": "markdown",
   "source": [
    "# MCTS"
   ],
   "metadata": {
    "collapsed": false
   }
  },
  {
   "cell_type": "code",
   "execution_count": 3,
   "outputs": [],
   "source": [
    "class MCTS:\n",
    "    def __init__(self, model):\n",
    "        self.model = model\n",
    "        self.q_sa = {}  # stores Q values for (s, a)\n",
    "        self.n_sa = {}  # stores # of times edge (s, a) was visited\n",
    "        self.p_s = {}  # stores initial policy returned by neural net\n",
    "\n",
    "    def simulate(self, env):\n",
    "        s = env.observe(env.agents[0])['observation']  # (6, 7, 2)\n",
    "        s = tuple(s.flatten())  # (84,)\n",
    "        observation = env.observe(env.agent_selection)\n",
    "        action_mask = observation['action_mask']  # (7,)\n",
    "        observation = observation['observation']  # (6, 7, 2)\n",
    "\n",
    "        \"\"\" EVALUATE \"\"\"\n",
    "        # If s is leaf, then evaluate s with model\n",
    "        if s not in self.p_s:\n",
    "            p, v = self.evaluate(observation, action_mask, model)\n",
    "            self.p_s[s] = p\n",
    "            return -v\n",
    "\n",
    "        \"\"\" SELECT \"\"\"\n",
    "        a = self.select(s, action_mask)\n",
    "\n",
    "        \"\"\" EXPAND \"\"\"\n",
    "        next_env = deepcopy(env)\n",
    "        next_env.step(a)\n",
    "        agent = env.agent_selection\n",
    "        # If terminal state, v = z\n",
    "        if next_env.terminations[agent] or next_env.truncations[agent]:\n",
    "            v = next_env.rewards[agent]\n",
    "        else:\n",
    "            v = self.simulate(next_env)\n",
    "\n",
    "        \"\"\" BACKTRACK \"\"\"\n",
    "        if (s, a) in self.q_sa:\n",
    "            # Recompute the average\n",
    "            sum_ = self.n_sa[(s, a)] * self.q_sa[(s, a)] + v\n",
    "            self.n_sa[(s, a)] += 1\n",
    "            self.q_sa[(s, a)] = sum_ / self.n_sa[(s, a)]\n",
    "        else:\n",
    "            self.q_sa[(s, a)] = v\n",
    "            self.n_sa[(s, a)] = 1\n",
    "        return -v\n",
    "\n",
    "    def select(self, s, action_mask, cpuct=1):\n",
    "        # pick the action with the highest upper confidence bound\n",
    "        cur_best = -float(\"inf\")\n",
    "        best_act = -1\n",
    "        n_sum = sum(self.n_sa.get((s, a), 0) for a in range(len(action_mask)))\n",
    "        for a in range(len(action_mask)):\n",
    "            if action_mask[a]:\n",
    "                q = self.q_sa.get((s, a), 0)\n",
    "                p = self.p_s[s][a] + random() * 0.3\n",
    "                n = self.n_sa.get((s, a), 0)\n",
    "\n",
    "                u = q + cpuct * p * math.sqrt(n_sum + 1e-6) / (1 + n)\n",
    "                if u > cur_best:\n",
    "                    cur_best = u\n",
    "                    best_act = a\n",
    "        return best_act\n",
    "\n",
    "    @staticmethod\n",
    "    def evaluate(observation, action_mask, model):\n",
    "        observation = torch.from_numpy(observation).float().view(1, -1)  # (1, 84)\n",
    "\n",
    "        # Get predictions\n",
    "        model.eval()\n",
    "        with torch.no_grad():\n",
    "            p, v = model(observation)  # (1, 7), (1, 1)\n",
    "        p = torch.exp(p).cpu().numpy()[0]  # (7,)\n",
    "        v = v.cpu().numpy()[0][0]  # scalar\n",
    "\n",
    "        # Legal action masking.\n",
    "        p *= action_mask\n",
    "\n",
    "        # Normalizing probabilities\n",
    "        p_sum = p.sum()\n",
    "        if p_sum > 0:\n",
    "            p /= p_sum  # re-normalize\n",
    "        else:\n",
    "            print(\"All valid moves were masked, doing a workaround.\")\n",
    "            p += action_mask\n",
    "            p /= p.sum()\n",
    "\n",
    "        return p, v\n",
    "\n",
    "    def get_action_prob(self, env):\n",
    "        s = env.observe(env.agents[0])['observation']  # (6, 7, 2)\n",
    "        s = tuple(s.flatten())  # (84,)\n",
    "\n",
    "        p = np.array([\n",
    "            self.n_sa.get((s, a), 0)\n",
    "            for a in range(len(self.p_s[s]))\n",
    "        ], dtype=np.float32)\n",
    "        p /= p.sum()\n",
    "        return p"
   ],
   "metadata": {
    "collapsed": false
   }
  },
  {
   "cell_type": "markdown",
   "source": [
    "# Helper functions"
   ],
   "metadata": {
    "collapsed": false
   }
  },
  {
   "cell_type": "code",
   "execution_count": 4,
   "outputs": [],
   "source": [
    "def plot(iteration, losses, win_rates, lose_rates):\n",
    "    clear_output(True)\n",
    "    fig, (ax1, ax2) = plt.subplots(1, 2, figsize=(15, 5))\n",
    "    ax1.set_title(f\"Loss. Iteration: {iteration}\")\n",
    "    ax1.plot(losses)\n",
    "    ax2.set_title(f'Win rate and lose rate')\n",
    "    ax2.plot(win_rates, label='Win Rate')\n",
    "    ax2.plot(lose_rates, label='Lose Rate')\n",
    "    ax2.legend()\n",
    "    plt.show()\n",
    "\n",
    "\n",
    "def evaluate(env, model_1, model_2, n_episodes):\n",
    "    wins_1, wins_2 = 0, 0\n",
    "    for _ in tqdm(range(n_episodes), desc='Evaluating'):\n",
    "        env.reset()\n",
    "        mcts_ = MCTS(model_1), MCTS(model_2)\n",
    "        step = 0\n",
    "        while not (env.terminations[env.agent_selection] or env.truncations[env.agent_selection]):\n",
    "            step += 1\n",
    "            mcts = mcts_[int(step % 2 == 0)]\n",
    "\n",
    "            [mcts.simulate(env) for _ in range(25)]\n",
    "            p = mcts.get_action_prob(env)\n",
    "            action = np.random.choice(len(p), p=p)\n",
    "\n",
    "            env.step(action)\n",
    "        r = env.rewards[env.agents[0]]\n",
    "        wins_1 += int(r > 1)\n",
    "        wins_2 += int(r < 1)\n",
    "    return wins_1, wins_2\n",
    "\n",
    "\n",
    "def self_play(env, mcts: MCTS):\n",
    "    tuples = []\n",
    "    env.reset()\n",
    "\n",
    "    while True:\n",
    "        [mcts.simulate(env) for _ in range(100)]\n",
    "\n",
    "        p = mcts.get_action_prob(env)\n",
    "        agent = env.agent_selection\n",
    "        tuples.append([env.observe(agent)['observation'], p, agent])\n",
    "\n",
    "        action = np.random.choice(len(p), p=p)\n",
    "        env.step(action)\n",
    "        if env.terminations[agent] or env.truncations[agent]:\n",
    "            for tup in tuples:\n",
    "                tup[2] = env.rewards[tup[2]]\n",
    "            return tuples"
   ],
   "metadata": {
    "collapsed": false
   }
  },
  {
   "cell_type": "markdown",
   "source": [
    "# Initialization"
   ],
   "metadata": {
    "collapsed": false
   }
  },
  {
   "cell_type": "code",
   "execution_count": 5,
   "outputs": [],
   "source": [
    "env = connect_four_v3.env()\n",
    "n_actions = env.action_space(env.agents[0]).n\n",
    "n_inputs = env.observation_space(env.agents[0])['observation'].sample().flatten().shape[0]\n",
    "\n",
    "device = 'cpu'\n",
    "model = AlphaZeroModel(n_inputs, n_actions).to(device)\n",
    "old_model = deepcopy(model)\n",
    "optimizer = Adam(model.parameters(), lr=1e-4)\n",
    "\n",
    "train_examples_history = deque([], maxlen=25)\n",
    "losses = []\n",
    "win_rates = []\n",
    "lose_rates = []"
   ],
   "metadata": {
    "collapsed": false
   }
  },
  {
   "cell_type": "markdown",
   "source": [
    "# Training"
   ],
   "metadata": {
    "collapsed": false
   }
  },
  {
   "cell_type": "code",
   "execution_count": null,
   "outputs": [
    {
     "data": {
      "text/plain": "<Figure size 1500x500 with 2 Axes>",
      "image/png": "[encoded data removed]"
     },
     "metadata": {},
     "output_type": "display_data"
    },
    {
     "name": "stderr",
     "output_type": "stream",
     "text": [
      "Self-Play:  28%|██▊       | 7/25 [00:10<00:26,  1.49s/it]"
     ]
    }
   ],
   "source": [
    "for iteration in range(1000):\n",
    "    \"\"\" Self Play \"\"\"\n",
    "    iteration_train_examples = deque([], maxlen=1000)\n",
    "    for _ in tqdm(range(25), desc='Self-Play'):\n",
    "        mcts = MCTS(model)\n",
    "        iteration_train_examples += self_play(env, mcts)\n",
    "\n",
    "    \"\"\" Prepare Training Data \"\"\"\n",
    "    train_examples_history.append(iteration_train_examples)\n",
    "    dataset = [x for xs in train_examples_history for x in xs]\n",
    "    dataloader = DataLoader(dataset, batch_size=16, shuffle=True)\n",
    "\n",
    "    \"\"\" Train \"\"\"\n",
    "    model.train()\n",
    "    for epoch in tqdm(range(10), desc='Training'):\n",
    "        loss_mean = MeanMetric()\n",
    "        for state, p, v in dataloader:\n",
    "            p_pred, v_pred = model(state.float().to(device))\n",
    "            loss = (v.to(device) - v_pred).pow(2).mean() - (p.to(device) * p_pred).mean()\n",
    "\n",
    "            optimizer.zero_grad()\n",
    "            loss.backward()\n",
    "            optimizer.step()\n",
    "\n",
    "            loss_mean(loss.item())\n",
    "        losses.append(loss_mean.compute())\n",
    "\n",
    "    \"\"\" Evaluate \"\"\"\n",
    "    n_eval_episodes = 20\n",
    "    wins, loses = [0, 0], [0, 0]\n",
    "    wins[0], loses[0] = evaluate(env, model, old_model, n_eval_episodes // 2)\n",
    "    loses[1], wins[1] = evaluate(env, old_model, model, n_eval_episodes // 2)\n",
    "    win_rates.append(sum(wins) / n_eval_episodes)\n",
    "    lose_rates.append(sum(loses) / n_eval_episodes)\n",
    "    if win_rates[-1] > lose_rates[-1]:\n",
    "        old_model = deepcopy(model)\n",
    "\n",
    "    plot(iteration, losses, win_rates, lose_rates)"
   ],
   "metadata": {
    "collapsed": false,
    "pycharm": {
     "is_executing": true
    }
   }
  },
  {
   "cell_type": "markdown",
   "source": [
    "# Debugging stuff"
   ],
   "metadata": {
    "collapsed": false
   }
  },
  {
   "cell_type": "code",
   "execution_count": null,
   "outputs": [],
   "source": [
    "def human_readable_s(s):\n",
    "    \"\"\"For debugging purposes\"\"\"\n",
    "    ns = np.zeros((6, 7, 3))\n",
    "    ns[:, :, 1:] = np.array(s).reshape((6, 7, 2))\n",
    "    return ns.argmax(axis=2)\n",
    "\n",
    "def machine_readable_s(s, player=1):\n",
    "    \"\"\"Opposite of human_readable_s\"\"\"\n",
    "    # s = (\n",
    "    #     [0, 0, 0, 0, 0, 0, 0],\n",
    "    #     [0, 0, 0, 0, 0, 0, 0],\n",
    "    #     [0, 0, 0, 0, 0, 0, 0],\n",
    "    #     [0, 0, 0, 0, 0, 0, 0],\n",
    "    #     [0, 0, 0, 0, 0, 0, 0],\n",
    "    #     [0, 0, 0, 0, 0, 0, 0],\n",
    "    # )\n",
    "    ns = np.zeros((6, 7, 3), dtype=np.int8)\n",
    "    for i in range(6):\n",
    "        for j in range(7):\n",
    "            if player == 1:\n",
    "                ns[i, j, s[i][j]] = 1\n",
    "            else:\n",
    "                ns[i, j, 2 - s[i][j]] = 1\n",
    "    if player == 1:\n",
    "        ns = ns[:, :, 1:]  # (3, 3, 2)\n",
    "    else:\n",
    "        ns = ns[:, :, :2]\n",
    "    # ns = tuple(ns.flatten())\n",
    "    return ns"
   ],
   "metadata": {
    "collapsed": false,
    "pycharm": {
     "is_executing": true
    }
   }
  },
  {
   "cell_type": "markdown",
   "source": [
    "# Testing MCTS"
   ],
   "metadata": {
    "collapsed": false
   }
  },
  {
   "cell_type": "code",
   "execution_count": null,
   "outputs": [],
   "source": [
    "env.reset()\n",
    "mcts = MCTS(model)\n",
    "_ = [mcts.simulate(env) for _ in tqdm(range(50000))]"
   ],
   "metadata": {
    "collapsed": false,
    "pycharm": {
     "is_executing": true
    }
   }
  },
  {
   "cell_type": "code",
   "execution_count": null,
   "outputs": [],
   "source": [
    "s = (\n",
    "    [0, 0, 0, 0, 0, 0, 0],\n",
    "    [0, 0, 0, 0, 0, 0, 0],\n",
    "    [0, 0, 0, 0, 0, 0, 0],\n",
    "    [0, 0, 0, 0, 0, 0, 0],\n",
    "    [0, 0, 1, 2, 0, 0, 0],\n",
    "    [0, 1, 2, 1, 0, 1, 2],\n",
    ")\n",
    "sm = tuple(machine_readable_s(s).flatten())\n",
    "mcts.p_s.get(sm)"
   ],
   "metadata": {
    "collapsed": false,
    "pycharm": {
     "is_executing": true
    }
   }
  },
  {
   "cell_type": "code",
   "execution_count": null,
   "outputs": [],
   "source": [
    "[mcts.q_sa.get((sm, a), '') for a in range(7)]"
   ],
   "metadata": {
    "collapsed": false,
    "pycharm": {
     "is_executing": true
    }
   }
  },
  {
   "cell_type": "code",
   "execution_count": null,
   "outputs": [],
   "source": [
    "[mcts.n_sa.get((sm, a), '') for a in range(7)]"
   ],
   "metadata": {
    "collapsed": false,
    "pycharm": {
     "is_executing": true
    }
   }
  },
  {
   "cell_type": "markdown",
   "source": [
    "# Testing Model"
   ],
   "metadata": {
    "collapsed": false
   }
  },
  {
   "cell_type": "code",
   "execution_count": null,
   "outputs": [],
   "source": [
    "s = (\n",
    "    [0, 0, 0, 0, 0, 0, 0],\n",
    "    [0, 0, 0, 0, 0, 0, 0],\n",
    "    [0, 0, 0, 0, 0, 0, 0],\n",
    "    [0, 0, 0, 2, 0, 1, 0],\n",
    "    [0, 0, 0, 2, 1, 2, 0],\n",
    "    [1, 1, 1, 2, 1, 2, 0],\n",
    ")\n",
    "sm = machine_readable_s(s, player=2)\n",
    "sm = torch.tensor(sm).float().unsqueeze(0).to(device)\n",
    "model.eval()\n",
    "p, v = model(sm)\n",
    "p.exp().detach().numpy(), v.item()"
   ],
   "metadata": {
    "collapsed": false,
    "pycharm": {
     "is_executing": true
    }
   }
  },
  {
   "cell_type": "code",
   "execution_count": null,
   "outputs": [],
   "source": [
    "from PIL import Image\n",
    "# env = connect_four_v3.env()\n",
    "env.reset()\n",
    "mcts = MCTS(model)"
   ],
   "metadata": {
    "collapsed": false,
    "pycharm": {
     "is_executing": true
    }
   }
  },
  {
   "cell_type": "code",
   "execution_count": null,
   "outputs": [],
   "source": [
    "[mcts.simulate(env) for _ in range(25)]\n",
    "p = mcts.get_action_prob(env)\n",
    "# action = np.random.choice(len(p), p=p)\n",
    "action = p.argmax()\n",
    "print(f'{p=}\\n{action=}\\n{env.agent_selection=}')\n",
    "\n",
    "env.step(action)\n",
    "# Image.fromarray(env.render()).resize((225, 200))\n",
    "human_readable_s(env.observe(env.agents[0])['observation'])"
   ],
   "metadata": {
    "collapsed": false,
    "pycharm": {
     "is_executing": true
    }
   }
  },
  {
   "cell_type": "code",
   "execution_count": null,
   "outputs": [],
   "source": [
    "env.rewards"
   ],
   "metadata": {
    "collapsed": false,
    "pycharm": {
     "is_executing": true
    }
   }
  },
  {
   "cell_type": "code",
   "execution_count": null,
   "outputs": [],
   "source": [],
   "metadata": {
    "collapsed": false,
    "pycharm": {
     "is_executing": true
    }
   }
  }
 ],
 "metadata": {
  "kernelspec": {
   "display_name": "Python 3",
   "language": "python",
   "name": "python3"
  },
  "language_info": {
   "codemirror_mode": {
    "name": "ipython",
    "version": 2
   },
   "file_extension": ".py",
   "mimetype": "text/x-python",
   "name": "python",
   "nbconvert_exporter": "python",
   "pygments_lexer": "ipython2",
   "version": "2.7.6"
  }
 },
 "nbformat": 4,
 "nbformat_minor": 0
}
