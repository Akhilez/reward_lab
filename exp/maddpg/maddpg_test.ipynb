{
 "cells": [
  {
   "cell_type": "code",
   "execution_count": 1,
   "outputs": [],
   "source": [
    "from pettingzoo.mpe import simple_adversary_v2\n",
    "import pandas as pd\n",
    "from copy import deepcopy"
   ],
   "metadata": {
    "collapsed": false
   }
  },
  {
   "cell_type": "code",
   "execution_count": 2,
   "outputs": [],
   "source": [
    "env = simple_adversary_v2.env(\n",
    "    N=2,\n",
    "    max_cycles=25,\n",
    "    continuous_actions=False,\n",
    "    render_mode=\"human\",\n",
    ")"
   ],
   "metadata": {
    "collapsed": false
   }
  },
  {
   "cell_type": "code",
   "execution_count": 3,
   "outputs": [],
   "source": [
    "def hash_it(a):\n",
    "    a.flags.writeable = False\n",
    "    return str(hash(a.tobytes()))[-4:]"
   ],
   "metadata": {
    "collapsed": false
   }
  },
  {
   "cell_type": "code",
   "execution_count": 4,
   "outputs": [],
   "source": [
    "env.reset()"
   ],
   "metadata": {
    "collapsed": false
   }
  },
  {
   "cell_type": "code",
   "execution_count": 6,
   "outputs": [
    {
     "data": {
      "text/plain": "'adversary_0'"
     },
     "execution_count": 6,
     "metadata": {},
     "output_type": "execute_result"
    }
   ],
   "source": [
    "env.agent_selection"
   ],
   "metadata": {
    "collapsed": false
   }
  },
  {
   "cell_type": "code",
   "execution_count": 7,
   "outputs": [
    {
     "name": "stderr",
     "output_type": "stream",
     "text": [
      "/opt/homebrew/Caskroom/miniforge/base/envs/rl/lib/python3.9/site-packages/pettingzoo/utils/wrappers/base.py:64: UserWarning: The `action_spaces` dictionary is deprecated. Use the `action_space` function instead.\n",
      "  warnings.warn(\n"
     ]
    }
   ],
   "source": [
    "env.reset()\n",
    "data = []\n",
    "while not (any(env.terminations.values()) or any(env.truncations.values())):\n",
    "    env.render()\n",
    "    actions = {a: env.action_spaces[a].sample() for a in env.agents}\n",
    "    for _ in env.agents:\n",
    "        env.step(actions[env.agent_selection])\n",
    "    d = {\n",
    "        \"agent_selection\": env.agent_selection,\n",
    "        \"observation\": hash_it(deepcopy(env.observe(env.agent_selection))),\n",
    "        f\"action_{env.agents[0]}\": actions[env.agents[0]],\n",
    "        f\"action_{env.agents[1]}\": actions[env.agents[1]],\n",
    "        f\"action_{env.agents[2]}\": actions[env.agents[2]],\n",
    "        \"observations\": {a: hash_it(deepcopy(env.observe(a))) for a in env.possible_agents},\n",
    "        'rewards': deepcopy(env.rewards),\n",
    "    }\n",
    "    # d[\"infos\"] = env.infos\n",
    "    data.append(d)\n",
    "data = pd.DataFrame(data)"
   ],
   "metadata": {
    "collapsed": false
   }
  },
  {
   "cell_type": "code",
   "execution_count": 8,
   "outputs": [
    {
     "data": {
      "text/plain": "   agent_selection observation  action_adversary_0  action_agent_0  \\\n0      adversary_0        2659                   0               2   \n1      adversary_0        1517                   1               2   \n2      adversary_0        9387                   0               3   \n3      adversary_0        2913                   2               4   \n4      adversary_0        6248                   1               1   \n5      adversary_0        1898                   1               0   \n6      adversary_0        3434                   1               0   \n7      adversary_0        6828                   2               1   \n8      adversary_0        7618                   3               1   \n9      adversary_0        3954                   0               1   \n10     adversary_0        3631                   2               1   \n11     adversary_0        6827                   4               3   \n12     adversary_0        4628                   2               1   \n13     adversary_0        8072                   3               2   \n14     adversary_0        9924                   0               1   \n15     adversary_0        9280                   1               3   \n16     adversary_0        1605                   0               2   \n17     adversary_0        6393                   4               3   \n18     adversary_0        7127                   2               3   \n19     adversary_0        8346                   1               4   \n20     adversary_0        6681                   2               0   \n21     adversary_0        0843                   2               1   \n22     adversary_0        1407                   1               4   \n23     adversary_0        7356                   4               3   \n24     adversary_0        3457                   0               4   \n\n    action_agent_1                                       observations  \\\n0                0  {'adversary_0': '2659', 'agent_0': '0000', 'ag...   \n1                3  {'adversary_0': '1517', 'agent_0': '5323', 'ag...   \n2                3  {'adversary_0': '9387', 'agent_0': '5592', 'ag...   \n3                2  {'adversary_0': '2913', 'agent_0': '7070', 'ag...   \n4                4  {'adversary_0': '6248', 'agent_0': '7159', 'ag...   \n5                1  {'adversary_0': '1898', 'agent_0': '8281', 'ag...   \n6                0  {'adversary_0': '3434', 'agent_0': '3668', 'ag...   \n7                1  {'adversary_0': '6828', 'agent_0': '3307', 'ag...   \n8                4  {'adversary_0': '7618', 'agent_0': '3421', 'ag...   \n9                2  {'adversary_0': '3954', 'agent_0': '3712', 'ag...   \n10               2  {'adversary_0': '3631', 'agent_0': '0879', 'ag...   \n11               4  {'adversary_0': '6827', 'agent_0': '2208', 'ag...   \n12               2  {'adversary_0': '4628', 'agent_0': '2250', 'ag...   \n13               1  {'adversary_0': '8072', 'agent_0': '1627', 'ag...   \n14               4  {'adversary_0': '9924', 'agent_0': '0563', 'ag...   \n15               3  {'adversary_0': '9280', 'agent_0': '1005', 'ag...   \n16               1  {'adversary_0': '1605', 'agent_0': '0089', 'ag...   \n17               0  {'adversary_0': '6393', 'agent_0': '6343', 'ag...   \n18               3  {'adversary_0': '7127', 'agent_0': '5083', 'ag...   \n19               3  {'adversary_0': '8346', 'agent_0': '2060', 'ag...   \n20               0  {'adversary_0': '6681', 'agent_0': '4686', 'ag...   \n21               4  {'adversary_0': '0843', 'agent_0': '2432', 'ag...   \n22               3  {'adversary_0': '1407', 'agent_0': '1430', 'ag...   \n23               2  {'adversary_0': '7356', 'agent_0': '8315', 'ag...   \n24               3  {'adversary_0': '3457', 'agent_0': '2589', 'ag...   \n\n                                              rewards  \n0   {'adversary_0': -1.3283448519537007, 'agent_0'...  \n1   {'adversary_0': -1.283863052005867, 'agent_0':...  \n2   {'adversary_0': -1.2507752812760808, 'agent_0'...  \n3   {'adversary_0': -1.270046679355298, 'agent_0':...  \n4   {'adversary_0': -1.2404868430220337, 'agent_0'...  \n5   {'adversary_0': -1.1751069284677784, 'agent_0'...  \n6   {'adversary_0': -1.0847739246254908, 'agent_0'...  \n7   {'adversary_0': -1.0600098087757555, 'agent_0'...  \n8   {'adversary_0': -1.0710209386885838, 'agent_0'...  \n9   {'adversary_0': -1.0810279370499332, 'agent_0'...  \n10  {'adversary_0': -1.1278095703712907, 'agent_0'...  \n11  {'adversary_0': -1.1320443052246283, 'agent_0'...  \n12  {'adversary_0': -1.1771627869105594, 'agent_0'...  \n13  {'adversary_0': -1.2402053527188037, 'agent_0'...  \n14  {'adversary_0': -1.2874892707613625, 'agent_0'...  \n15  {'adversary_0': -1.2817964908529482, 'agent_0'...  \n16  {'adversary_0': -1.2779012038841933, 'agent_0'...  \n17  {'adversary_0': -1.2458664025964359, 'agent_0'...  \n18  {'adversary_0': -1.2639117779636189, 'agent_0'...  \n19  {'adversary_0': -1.236123700726292, 'agent_0':...  \n20  {'adversary_0': -1.2579507250537827, 'agent_0'...  \n21  {'adversary_0': -1.3185003639786037, 'agent_0'...  \n22  {'adversary_0': -1.3208025144841264, 'agent_0'...  \n23  {'adversary_0': -1.3000128415388836, 'agent_0'...  \n24  {'adversary_0': -1.2858758280505203, 'agent_0'...  ",
      "text/html": "<div>\n<style scoped>\n    .dataframe tbody tr th:only-of-type {\n        vertical-align: middle;\n    }\n\n    .dataframe tbody tr th {\n        vertical-align: top;\n    }\n\n    .dataframe thead th {\n        text-align: right;\n    }\n</style>\n<table border=\"1\" class=\"dataframe\">\n  <thead>\n    <tr style=\"text-align: right;\">\n      <th></th>\n      <th>agent_selection</th>\n      <th>observation</th>\n      <th>action_adversary_0</th>\n      <th>action_agent_0</th>\n      <th>action_agent_1</th>\n      <th>observations</th>\n      <th>rewards</th>\n    </tr>\n  </thead>\n  <tbody>\n    <tr>\n      <th>0</th>\n      <td>adversary_0</td>\n      <td>2659</td>\n      <td>0</td>\n      <td>2</td>\n      <td>0</td>\n      <td>{'adversary_0': '2659', 'agent_0': '0000', 'ag...</td>\n      <td>{'adversary_0': -1.3283448519537007, 'agent_0'...</td>\n    </tr>\n    <tr>\n      <th>1</th>\n      <td>adversary_0</td>\n      <td>1517</td>\n      <td>1</td>\n      <td>2</td>\n      <td>3</td>\n      <td>{'adversary_0': '1517', 'agent_0': '5323', 'ag...</td>\n      <td>{'adversary_0': -1.283863052005867, 'agent_0':...</td>\n    </tr>\n    <tr>\n      <th>2</th>\n      <td>adversary_0</td>\n      <td>9387</td>\n      <td>0</td>\n      <td>3</td>\n      <td>3</td>\n      <td>{'adversary_0': '9387', 'agent_0': '5592', 'ag...</td>\n      <td>{'adversary_0': -1.2507752812760808, 'agent_0'...</td>\n    </tr>\n    <tr>\n      <th>3</th>\n      <td>adversary_0</td>\n      <td>2913</td>\n      <td>2</td>\n      <td>4</td>\n      <td>2</td>\n      <td>{'adversary_0': '2913', 'agent_0': '7070', 'ag...</td>\n      <td>{'adversary_0': -1.270046679355298, 'agent_0':...</td>\n    </tr>\n    <tr>\n      <th>4</th>\n      <td>adversary_0</td>\n      <td>6248</td>\n      <td>1</td>\n      <td>1</td>\n      <td>4</td>\n      <td>{'adversary_0': '6248', 'agent_0': '7159', 'ag...</td>\n      <td>{'adversary_0': -1.2404868430220337, 'agent_0'...</td>\n    </tr>\n    <tr>\n      <th>5</th>\n      <td>adversary_0</td>\n      <td>1898</td>\n      <td>1</td>\n      <td>0</td>\n      <td>1</td>\n      <td>{'adversary_0': '1898', 'agent_0': '8281', 'ag...</td>\n      <td>{'adversary_0': -1.1751069284677784, 'agent_0'...</td>\n    </tr>\n    <tr>\n      <th>6</th>\n      <td>adversary_0</td>\n      <td>3434</td>\n      <td>1</td>\n      <td>0</td>\n      <td>0</td>\n      <td>{'adversary_0': '3434', 'agent_0': '3668', 'ag...</td>\n      <td>{'adversary_0': -1.0847739246254908, 'agent_0'...</td>\n    </tr>\n    <tr>\n      <th>7</th>\n      <td>adversary_0</td>\n      <td>6828</td>\n      <td>2</td>\n      <td>1</td>\n      <td>1</td>\n      <td>{'adversary_0': '6828', 'agent_0': '3307', 'ag...</td>\n      <td>{'adversary_0': -1.0600098087757555, 'agent_0'...</td>\n    </tr>\n    <tr>\n      <th>8</th>\n      <td>adversary_0</td>\n      <td>7618</td>\n      <td>3</td>\n      <td>1</td>\n      <td>4</td>\n      <td>{'adversary_0': '7618', 'agent_0': '3421', 'ag...</td>\n      <td>{'adversary_0': -1.0710209386885838, 'agent_0'...</td>\n    </tr>\n    <tr>\n      <th>9</th>\n      <td>adversary_0</td>\n      <td>3954</td>\n      <td>0</td>\n      <td>1</td>\n      <td>2</td>\n      <td>{'adversary_0': '3954', 'agent_0': '3712', 'ag...</td>\n      <td>{'adversary_0': -1.0810279370499332, 'agent_0'...</td>\n    </tr>\n    <tr>\n      <th>10</th>\n      <td>adversary_0</td>\n      <td>3631</td>\n      <td>2</td>\n      <td>1</td>\n      <td>2</td>\n      <td>{'adversary_0': '3631', 'agent_0': '0879', 'ag...</td>\n      <td>{'adversary_0': -1.1278095703712907, 'agent_0'...</td>\n    </tr>\n    <tr>\n      <th>11</th>\n      <td>adversary_0</td>\n      <td>6827</td>\n      <td>4</td>\n      <td>3</td>\n      <td>4</td>\n      <td>{'adversary_0': '6827', 'agent_0': '2208', 'ag...</td>\n      <td>{'adversary_0': -1.1320443052246283, 'agent_0'...</td>\n    </tr>\n    <tr>\n      <th>12</th>\n      <td>adversary_0</td>\n      <td>4628</td>\n      <td>2</td>\n      <td>1</td>\n      <td>2</td>\n      <td>{'adversary_0': '4628', 'agent_0': '2250', 'ag...</td>\n      <td>{'adversary_0': -1.1771627869105594, 'agent_0'...</td>\n    </tr>\n    <tr>\n      <th>13</th>\n      <td>adversary_0</td>\n      <td>8072</td>\n      <td>3</td>\n      <td>2</td>\n      <td>1</td>\n      <td>{'adversary_0': '8072', 'agent_0': '1627', 'ag...</td>\n      <td>{'adversary_0': -1.2402053527188037, 'agent_0'...</td>\n    </tr>\n    <tr>\n      <th>14</th>\n      <td>adversary_0</td>\n      <td>9924</td>\n      <td>0</td>\n      <td>1</td>\n      <td>4</td>\n      <td>{'adversary_0': '9924', 'agent_0': '0563', 'ag...</td>\n      <td>{'adversary_0': -1.2874892707613625, 'agent_0'...</td>\n    </tr>\n    <tr>\n      <th>15</th>\n      <td>adversary_0</td>\n      <td>9280</td>\n      <td>1</td>\n      <td>3</td>\n      <td>3</td>\n      <td>{'adversary_0': '9280', 'agent_0': '1005', 'ag...</td>\n      <td>{'adversary_0': -1.2817964908529482, 'agent_0'...</td>\n    </tr>\n    <tr>\n      <th>16</th>\n      <td>adversary_0</td>\n      <td>1605</td>\n      <td>0</td>\n      <td>2</td>\n      <td>1</td>\n      <td>{'adversary_0': '1605', 'agent_0': '0089', 'ag...</td>\n      <td>{'adversary_0': -1.2779012038841933, 'agent_0'...</td>\n    </tr>\n    <tr>\n      <th>17</th>\n      <td>adversary_0</td>\n      <td>6393</td>\n      <td>4</td>\n      <td>3</td>\n      <td>0</td>\n      <td>{'adversary_0': '6393', 'agent_0': '6343', 'ag...</td>\n      <td>{'adversary_0': -1.2458664025964359, 'agent_0'...</td>\n    </tr>\n    <tr>\n      <th>18</th>\n      <td>adversary_0</td>\n      <td>7127</td>\n      <td>2</td>\n      <td>3</td>\n      <td>3</td>\n      <td>{'adversary_0': '7127', 'agent_0': '5083', 'ag...</td>\n      <td>{'adversary_0': -1.2639117779636189, 'agent_0'...</td>\n    </tr>\n    <tr>\n      <th>19</th>\n      <td>adversary_0</td>\n      <td>8346</td>\n      <td>1</td>\n      <td>4</td>\n      <td>3</td>\n      <td>{'adversary_0': '8346', 'agent_0': '2060', 'ag...</td>\n      <td>{'adversary_0': -1.236123700726292, 'agent_0':...</td>\n    </tr>\n    <tr>\n      <th>20</th>\n      <td>adversary_0</td>\n      <td>6681</td>\n      <td>2</td>\n      <td>0</td>\n      <td>0</td>\n      <td>{'adversary_0': '6681', 'agent_0': '4686', 'ag...</td>\n      <td>{'adversary_0': -1.2579507250537827, 'agent_0'...</td>\n    </tr>\n    <tr>\n      <th>21</th>\n      <td>adversary_0</td>\n      <td>0843</td>\n      <td>2</td>\n      <td>1</td>\n      <td>4</td>\n      <td>{'adversary_0': '0843', 'agent_0': '2432', 'ag...</td>\n      <td>{'adversary_0': -1.3185003639786037, 'agent_0'...</td>\n    </tr>\n    <tr>\n      <th>22</th>\n      <td>adversary_0</td>\n      <td>1407</td>\n      <td>1</td>\n      <td>4</td>\n      <td>3</td>\n      <td>{'adversary_0': '1407', 'agent_0': '1430', 'ag...</td>\n      <td>{'adversary_0': -1.3208025144841264, 'agent_0'...</td>\n    </tr>\n    <tr>\n      <th>23</th>\n      <td>adversary_0</td>\n      <td>7356</td>\n      <td>4</td>\n      <td>3</td>\n      <td>2</td>\n      <td>{'adversary_0': '7356', 'agent_0': '8315', 'ag...</td>\n      <td>{'adversary_0': -1.3000128415388836, 'agent_0'...</td>\n    </tr>\n    <tr>\n      <th>24</th>\n      <td>adversary_0</td>\n      <td>3457</td>\n      <td>0</td>\n      <td>4</td>\n      <td>3</td>\n      <td>{'adversary_0': '3457', 'agent_0': '2589', 'ag...</td>\n      <td>{'adversary_0': -1.2858758280505203, 'agent_0'...</td>\n    </tr>\n  </tbody>\n</table>\n</div>"
     },
     "execution_count": 8,
     "metadata": {},
     "output_type": "execute_result"
    }
   ],
   "source": [
    "data"
   ],
   "metadata": {
    "collapsed": false
   }
  },
  {
   "cell_type": "code",
   "execution_count": null,
   "outputs": [],
   "source": [],
   "metadata": {
    "collapsed": false
   }
  }
 ],
 "metadata": {
  "kernelspec": {
   "display_name": "Python 3",
   "language": "python",
   "name": "python3"
  },
  "language_info": {
   "codemirror_mode": {
    "name": "ipython",
    "version": 2
   },
   "file_extension": ".py",
   "mimetype": "text/x-python",
   "name": "python",
   "nbconvert_exporter": "python",
   "pygments_lexer": "ipython2",
   "version": "2.7.6"
  }
 },
 "nbformat": 4,
 "nbformat_minor": 0
}
