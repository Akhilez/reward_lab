{
 "cells": [
  {
   "cell_type": "code",
   "execution_count": 1,
   "outputs": [],
   "source": [
    "from collections import deque\n",
    "from random import random\n",
    "from pettingzoo.classic import tictactoe_v3\n",
    "from torch import nn\n",
    "from torch.optim import Adam\n",
    "from copy import deepcopy\n",
    "import torch\n",
    "import math\n",
    "import numpy as np\n",
    "from torch.utils.data import DataLoader\n",
    "from tqdm import tqdm\n",
    "from torchmetrics import MeanMetric\n",
    "from IPython.display import clear_output\n",
    "import matplotlib.pyplot as plt"
   ],
   "metadata": {
    "collapsed": false
   }
  },
  {
   "cell_type": "markdown",
   "source": [
    "# Hyper parameters"
   ],
   "metadata": {
    "collapsed": false
   }
  },
  {
   "cell_type": "code",
   "execution_count": 2,
   "outputs": [],
   "source": [
    "cpuct = 1\n",
    "device = 'cpu'"
   ],
   "metadata": {
    "collapsed": false
   }
  },
  {
   "cell_type": "markdown",
   "source": [
    "# Neural Network"
   ],
   "metadata": {
    "collapsed": false
   }
  },
  {
   "cell_type": "code",
   "execution_count": 3,
   "outputs": [],
   "source": [
    "class AlphaZeroModel(nn.Module):\n",
    "    def __init__(self, num_inputs, num_outputs):\n",
    "        super(AlphaZeroModel, self).__init__()\n",
    "        self.v = nn.Sequential(\n",
    "            nn.Flatten(),\n",
    "            nn.Linear(num_inputs, 128),\n",
    "            nn.ReLU(),\n",
    "            nn.Linear(128, 1),\n",
    "            nn.Tanh(),\n",
    "        )\n",
    "\n",
    "        self.p = nn.Sequential(\n",
    "            nn.Flatten(),\n",
    "            nn.Linear(num_inputs, 128),\n",
    "            nn.ReLU(),\n",
    "            nn.Linear(128, num_outputs),\n",
    "            nn.LogSoftmax(dim=1),\n",
    "        )\n",
    "\n",
    "    def forward(self, s):\n",
    "        p = self.p(s)\n",
    "        v = self.v(s)\n",
    "        return p, v"
   ],
   "metadata": {
    "collapsed": false
   }
  },
  {
   "cell_type": "code",
   "execution_count": 4,
   "outputs": [],
   "source": [
    "def plot(iteration, losses, win_rates, lose_rates):\n",
    "    clear_output(True)\n",
    "\n",
    "    fig, (ax1, ax2) = plt.subplots(1, 2, figsize=(15, 5))\n",
    "\n",
    "    ax1.set_title(f\"Loss. Iteration: {iteration}\")\n",
    "    ax1.plot(losses)\n",
    "\n",
    "    ax2.set_title(f'Win rate and lose rate')\n",
    "    ax2.plot(win_rates, label='Win Rate')\n",
    "    ax2.plot(lose_rates, label='Lose Rate')\n",
    "    ax2.legend()\n",
    "\n",
    "    plt.show()"
   ],
   "metadata": {
    "collapsed": false
   }
  },
  {
   "cell_type": "markdown",
   "source": [
    "# MCTS"
   ],
   "metadata": {
    "collapsed": false
   }
  },
  {
   "cell_type": "code",
   "execution_count": 5,
   "outputs": [],
   "source": [
    "class MCTS:\n",
    "    def __init__(self, model):\n",
    "        self.model = model\n",
    "        self.q_sa = {}  # stores Q values for s,a (as defined in the paper)\n",
    "        self.n_sa = {}  # stores #times edge s,a was visited\n",
    "        self.p_s = {}  # stores initial policy (returned by neural net)\n",
    "        self.action_mask_s = {}\n",
    "\n",
    "    def simulate(self, env):\n",
    "        s = env.observe('player_1')['observation']  # (3, 3, 2)\n",
    "        s = tuple(s.flatten())  # (18,)\n",
    "\n",
    "        # If terminal state, return -v\n",
    "        if env.terminations[env.agent_selection] or env.truncations[env.agent_selection]:\n",
    "            return -env.rewards[env.agent_selection]\n",
    "\n",
    "        \"\"\" EVALUATE \"\"\"\n",
    "        # If s is leaf, then evaluate s with model\n",
    "        if s not in self.p_s:\n",
    "            return -self.evaluate(env, self.model, s)\n",
    "\n",
    "        \"\"\" SELECT \"\"\"\n",
    "        a = self.select(s)\n",
    "\n",
    "        \"\"\" EXPAND WITH RECURSION \"\"\"\n",
    "        next_env = deepcopy(env)\n",
    "        next_env.step(a)\n",
    "        v = self.simulate(next_env)\n",
    "\n",
    "        \"\"\" BACKTRACK \"\"\"\n",
    "        if (s, a) in self.q_sa:\n",
    "            # Recompute the average\n",
    "            sum_ = self.n_sa[(s, a)] * self.q_sa[(s, a)]\n",
    "            sum_ += v\n",
    "            self.n_sa[(s, a)] += 1\n",
    "            self.q_sa[(s, a)] = sum_ / self.n_sa[(s, a)]\n",
    "        else:\n",
    "            self.q_sa[(s, a)] = v\n",
    "            self.n_sa[(s, a)] = 1\n",
    "        return -v\n",
    "\n",
    "    def evaluate(self, env, model, s):\n",
    "        observation = env.observe(env.agent_selection)\n",
    "        action_mask = observation['action_mask']  # (9,)\n",
    "        observation = observation['observation']  # (3, 3, 2)\n",
    "        observation = torch.from_numpy(observation).float().view(1, -1)  # (1, 18)\n",
    "\n",
    "        # Get predictions\n",
    "        model.eval()\n",
    "        with torch.no_grad():\n",
    "            p, v = model(observation)  # (1, 9), (1, 1)\n",
    "        p = torch.exp(p).cpu().numpy()[0]  # (9,)\n",
    "        v = v.cpu().numpy()[0][0]  # scalar\n",
    "\n",
    "        # Legal action masking.\n",
    "        p *= action_mask\n",
    "\n",
    "        # Normalizing probabilities\n",
    "        p_sum = p.sum()\n",
    "        if p_sum > 0:\n",
    "            p /= p_sum  # re-normalize\n",
    "        else:\n",
    "            print(\"All valid moves were masked, doing a workaround.\")\n",
    "            p += action_mask\n",
    "            p /= p.sum()\n",
    "\n",
    "        self.p_s[s] = p\n",
    "        self.action_mask_s[s] = action_mask\n",
    "        return v\n",
    "\n",
    "    def select(self, s):\n",
    "        # pick the action with the highest upper confidence bound\n",
    "        cur_best = -float(\"inf\")\n",
    "        best_act = -1\n",
    "        action_mask = self.action_mask_s[s]\n",
    "        n_sum = sum(self.n_sa.get((s, a), 0) for a in range(len(action_mask)))\n",
    "        for a in range(len(action_mask)):\n",
    "            if action_mask[a]:\n",
    "                q = self.q_sa.get((s, a), 0)\n",
    "                p = self.p_s[s][a] + random() * 0.3\n",
    "                n = self.n_sa.get((s, a), 0)\n",
    "\n",
    "                u = q + cpuct * p * math.sqrt(n_sum + 1e-6) / (1 + n)\n",
    "                if u > cur_best:\n",
    "                    cur_best = u\n",
    "                    best_act = a\n",
    "        return best_act\n",
    "\n",
    "    def get_action_prob(self, env):\n",
    "        s = env.observe('player_1')['observation']  # (3, 3, 2)\n",
    "        s = tuple(s.flatten())  # (18,)\n",
    "\n",
    "        p = np.array([\n",
    "            self.n_sa.get((s, a), 0)\n",
    "            for a in range(len(self.p_s[s]))\n",
    "        ], dtype=np.float32)\n",
    "        p /= p.sum()\n",
    "        return p"
   ],
   "metadata": {
    "collapsed": false
   }
  },
  {
   "cell_type": "code",
   "execution_count": 6,
   "outputs": [],
   "source": [
    "def evaluate(env, model_1, model_2, n_episodes):\n",
    "    wins_1, wins_2, draws = 0, 0, 0\n",
    "    for _ in tqdm(range(n_episodes), desc='Evaluating'):\n",
    "        env.reset()\n",
    "        mcts_ = MCTS(model_1), MCTS(model_2)\n",
    "        step = 0\n",
    "        while True:\n",
    "            step += 1\n",
    "            mcts = mcts_[int(step % 2 == 0)]\n",
    "\n",
    "            [mcts.simulate(env) for _ in range(100)]\n",
    "            p = mcts.get_action_prob(env)\n",
    "            action = np.random.choice(len(p), p=p)\n",
    "\n",
    "            env.step(action)\n",
    "\n",
    "            if env.terminations[env.agent_selection] or env.truncations[env.agent_selection]:\n",
    "                r = env.rewards['player_1']\n",
    "                if r == 0:\n",
    "                    draws += 1\n",
    "                elif r > 1:\n",
    "                    wins_1 += 1\n",
    "                else:\n",
    "                    wins_2 += 1\n",
    "                break\n",
    "    return wins_1, wins_2, draws\n",
    "\n",
    "\n",
    "def self_play(env, mcts: MCTS):\n",
    "    tuples = []\n",
    "    env.reset()\n",
    "\n",
    "    while True:\n",
    "        [mcts.simulate(env) for _ in range(100)]\n",
    "\n",
    "        p = mcts.get_action_prob(env)\n",
    "        agent = env.agent_selection\n",
    "        tuples.append([env.observe(agent)['observation'], p, agent])\n",
    "\n",
    "        action = np.random.choice(len(p), p=p)\n",
    "        env.step(action)\n",
    "        if env.terminations[agent] or env.truncations[agent]:\n",
    "            for tup in tuples:\n",
    "                tup[2] = env.rewards[tup[2]]\n",
    "            return tuples"
   ],
   "metadata": {
    "collapsed": false
   }
  },
  {
   "cell_type": "code",
   "execution_count": null,
   "outputs": [
    {
     "data": {
      "text/plain": "<Figure size 1500x500 with 2 Axes>",
      "image/png": "[encoded data removed]"
     },
     "metadata": {},
     "output_type": "display_data"
    },
    {
     "name": "stderr",
     "output_type": "stream",
     "text": [
      "Self-Play:  44%|████▍     | 11/25 [00:06<00:06,  2.08it/s]"
     ]
    }
   ],
   "source": [
    "# def main():\n",
    "env = tictactoe_v3.env()\n",
    "n_actions = env.action_space('player_2').n\n",
    "n_inputs = env.observation_space('player_2')['observation'].sample().flatten().shape[0]\n",
    "\n",
    "model = AlphaZeroModel(n_inputs, n_actions).to(device)\n",
    "old_model = deepcopy(model)\n",
    "optimizer = Adam(model.parameters(), lr=1e-4)\n",
    "\n",
    "train_examples_history = deque([], maxlen=50)\n",
    "losses = []\n",
    "win_rates = []\n",
    "lose_rates = []\n",
    "\n",
    "for iteration in range(1000):\n",
    "    \"\"\" Self Play \"\"\"\n",
    "    iteration_train_examples = deque([], maxlen=1000)\n",
    "    for _ in tqdm(range(25), desc='Self-Play'):\n",
    "        mcts = MCTS(model)\n",
    "        iteration_train_examples += self_play(env, mcts)\n",
    "\n",
    "    \"\"\" Prepare Training Data \"\"\"\n",
    "    train_examples_history.append(iteration_train_examples)\n",
    "    dataset = [x for xs in train_examples_history for x in xs]\n",
    "    dataloader = DataLoader(dataset, batch_size=16, shuffle=True)\n",
    "\n",
    "    \"\"\" Train \"\"\"\n",
    "    model.train()\n",
    "    for epoch in tqdm(range(10), desc='Training'):\n",
    "        loss_mean = MeanMetric()\n",
    "        for state, p, v in dataloader:\n",
    "            p_pred, v_pred = model(state.float().to(device))\n",
    "            loss = (v.to(device) - v_pred).pow(2).mean() - (p.to(device) * p_pred).mean()\n",
    "\n",
    "            optimizer.zero_grad()\n",
    "            loss.backward()\n",
    "            optimizer.step()\n",
    "\n",
    "            loss_mean(loss.item())\n",
    "        losses.append(loss_mean.compute())\n",
    "\n",
    "    \"\"\" Evaluate \"\"\"\n",
    "    n_eval_episodes = 20\n",
    "    wins, loses = [0, 0], [0, 0]\n",
    "    wins[0], loses[0], _ = evaluate(env, model, old_model, n_eval_episodes // 2)\n",
    "    loses[1], wins[1], _ = evaluate(env, old_model, model, n_eval_episodes // 2)\n",
    "    win_rates.append(sum(wins) / n_eval_episodes)\n",
    "    lose_rates.append(sum(loses) / n_eval_episodes)\n",
    "    if win_rates[-1] > lose_rates[-1]:\n",
    "        old_model = deepcopy(model)\n",
    "\n",
    "    plot(iteration, losses, win_rates, lose_rates)"
   ],
   "metadata": {
    "collapsed": false,
    "pycharm": {
     "is_executing": true
    }
   }
  },
  {
   "cell_type": "code",
   "execution_count": null,
   "outputs": [],
   "source": [
    "def human_readable_s(s):\n",
    "    \"\"\"For debugging purposes\"\"\"\n",
    "    ns = np.zeros((3, 3, 3))\n",
    "    ns[:, :, 1:] = np.array(s).reshape((3, 3, 2))\n",
    "    return ns.argmax(axis=2)\n",
    "\n",
    "def machine_readable_s(s):\n",
    "    \"\"\"Opposite of human_readable_s\"\"\"\n",
    "    # s = (\n",
    "    #     [1, 0, 0],\n",
    "    #     [0, 0, 0],\n",
    "    #     [2, 1, 0],\n",
    "    # )\n",
    "    ns = np.zeros((3, 3, 3), dtype=np.int8)\n",
    "    for i in range(3):\n",
    "        for j in range(3):\n",
    "            ns[i, j, s[i][j]] = 1\n",
    "    ns = ns[:, :, 1:]  # (3, 3, 2)\n",
    "    ns = tuple(ns.flatten())\n",
    "    return ns"
   ],
   "metadata": {
    "collapsed": false,
    "pycharm": {
     "is_executing": true
    }
   }
  },
  {
   "cell_type": "code",
   "execution_count": null,
   "outputs": [],
   "source": [
    "s = (\n",
    "    [2, 1, 2],\n",
    "    [1, 1, 2],\n",
    "    [1, 2, 0],\n",
    ")\n",
    "sm = machine_readable_s(s)\n",
    "[mcts.q_sa.get((sm, i), '') for i in range(9)]"
   ],
   "metadata": {
    "collapsed": false,
    "pycharm": {
     "is_executing": true
    }
   }
  },
  {
   "cell_type": "code",
   "execution_count": null,
   "outputs": [],
   "source": [
    "[mcts.n_sa.get((sm, i), '') for i in range(9)]"
   ],
   "metadata": {
    "collapsed": false,
    "pycharm": {
     "is_executing": true
    }
   }
  },
  {
   "cell_type": "code",
   "execution_count": null,
   "outputs": [],
   "source": [
    "mcts.n_s.get(sm, '')"
   ],
   "metadata": {
    "collapsed": false,
    "pycharm": {
     "is_executing": true
    }
   }
  },
  {
   "cell_type": "code",
   "execution_count": null,
   "outputs": [],
   "source": [],
   "metadata": {
    "collapsed": false,
    "pycharm": {
     "is_executing": true
    }
   }
  }
 ],
 "metadata": {
  "kernelspec": {
   "display_name": "Python 3",
   "language": "python",
   "name": "python3"
  },
  "language_info": {
   "codemirror_mode": {
    "name": "ipython",
    "version": 2
   },
   "file_extension": ".py",
   "mimetype": "text/x-python",
   "name": "python",
   "nbconvert_exporter": "python",
   "pygments_lexer": "ipython2",
   "version": "2.7.6"
  }
 },
 "nbformat": 4,
 "nbformat_minor": 0
}
