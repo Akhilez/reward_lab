{
 "cells": [
  {
   "cell_type": "markdown",
   "source": [
    "# AlphaZero from scratch under 220 lines of code!\n",
    "\n",
    "This is by far the simplest implementation of AlphaZero on the internet.\n",
    "This could be considered as a simplified version of suragnair's implementation inspired from higgsfield's RL Adventure.\n",
    "\n",
    "- Uses PyTorch.\n",
    "- Using standard PettingZoo api for env.\n",
    "- The implementation is true to the paper afaik. HyperParameters are changed to suit the simple envs.\n",
    "- Not tested on GPU.\n",
    "- Only tictactoe and connect4 are tested. Simply change tictactoe_v3 to connect_four_v3 for connect4."
   ],
   "metadata": {
    "collapsed": false
   }
  },
  {
   "cell_type": "code",
   "execution_count": 1,
   "outputs": [],
   "source": [
    "from IPython.display import clear_output\n",
    "from collections import deque\n",
    "from copy import deepcopy\n",
    "import numpy as np\n",
    "import matplotlib.pyplot as plt\n",
    "from pettingzoo.classic import tictactoe_v3  # connect_four_v3\n",
    "import torch\n",
    "from torch import nn\n",
    "from torch.optim import Adam\n",
    "from torch.utils.data import DataLoader\n",
    "from torchmetrics import MeanMetric\n",
    "from tqdm import tqdm"
   ],
   "metadata": {
    "collapsed": false
   }
  },
  {
   "cell_type": "markdown",
   "source": [
    "# Neural Network"
   ],
   "metadata": {
    "collapsed": false
   }
  },
  {
   "cell_type": "code",
   "execution_count": 2,
   "outputs": [],
   "source": [
    "class AlphaZeroModel(nn.Module):\n",
    "    def __init__(self, num_inputs, num_outputs):\n",
    "        super(AlphaZeroModel, self).__init__()\n",
    "        self.v = nn.Sequential(\n",
    "            nn.Flatten(),\n",
    "            nn.Linear(num_inputs, 256),\n",
    "            nn.ReLU(),\n",
    "            nn.Linear(256, 1),\n",
    "            nn.Tanh(),\n",
    "        )\n",
    "\n",
    "        self.p = nn.Sequential(\n",
    "            nn.Flatten(),\n",
    "            nn.Linear(num_inputs, 256),\n",
    "            nn.ReLU(),\n",
    "            nn.Linear(256, num_outputs),\n",
    "            nn.Softmax(dim=1),\n",
    "        )\n",
    "\n",
    "    def forward(self, s):\n",
    "        return self.p(s), self.v(s)"
   ],
   "metadata": {
    "collapsed": false
   }
  },
  {
   "cell_type": "markdown",
   "source": [
    "# MCTS"
   ],
   "metadata": {
    "collapsed": false
   }
  },
  {
   "cell_type": "code",
   "execution_count": 3,
   "outputs": [],
   "source": [
    "class MCTS:\n",
    "    def __init__(self, model):\n",
    "        self.model = model\n",
    "        self.q_sa = {}  # stores Q values for (s, a)\n",
    "        self.n_sa = {}  # stores # of times edge (s, a) was visited\n",
    "        self.p_s = {}  # stores initial policy returned by neural net\n",
    "\n",
    "    def simulate(self, env):\n",
    "        s = tuple(env.observe(env.agents[0])['observation'].flatten())  # (18,)\n",
    "        observation = env.observe(env.agent_selection)\n",
    "        action_mask = observation['action_mask']  # (9,)\n",
    "        observation = observation['observation']  # (3, 3, 2)\n",
    "\n",
    "        \"\"\" EVALUATE \"\"\"\n",
    "        # If s is leaf, then evaluate s with model\n",
    "        if s not in self.p_s:\n",
    "            p, v = self.evaluate(observation, action_mask, model)\n",
    "            self.p_s[s] = p\n",
    "            return -v\n",
    "\n",
    "        \"\"\" SELECT \"\"\"\n",
    "        cpuct = 1\n",
    "        q = np.array([self.q_sa.get((s, a), 0) for a in range(len(action_mask))])\n",
    "        n = np.array([self.n_sa.get((s, a), 0) for a in range(len(action_mask))])\n",
    "\n",
    "        # (1− ε)pa+ εηa, where η∼ Dir(0.03) and ε= 0.25\n",
    "        p = 0.75 * self.p_s[s] + 0.25 * np.random.dirichlet([2] * len(q))\n",
    "\n",
    "        u = q + cpuct * p * np.sqrt(n.sum() + 1e-6) / (1 + n)\n",
    "        u[action_mask == 0] = -np.inf\n",
    "        a = u.argmax()\n",
    "\n",
    "        \"\"\" EXPAND \"\"\"\n",
    "        next_env = deepcopy(env)\n",
    "        next_env.step(a)\n",
    "        agent = env.agent_selection\n",
    "        # If terminal state, v = z\n",
    "        if next_env.terminations[agent] or next_env.truncations[agent]:\n",
    "            v = next_env.rewards[agent]\n",
    "        else:\n",
    "            v = self.simulate(next_env)\n",
    "\n",
    "        \"\"\" BACKTRACK \"\"\"\n",
    "        if (s, a) in self.q_sa:\n",
    "            # Recompute the average\n",
    "            sum_ = self.n_sa[(s, a)] * self.q_sa[(s, a)] + v\n",
    "            self.n_sa[(s, a)] += 1\n",
    "            self.q_sa[(s, a)] = sum_ / self.n_sa[(s, a)]\n",
    "        else:\n",
    "            self.q_sa[(s, a)] = v\n",
    "            self.n_sa[(s, a)] = 1\n",
    "        return -v\n",
    "\n",
    "    @staticmethod\n",
    "    def evaluate(observation, action_mask, model):\n",
    "        observation = torch.from_numpy(observation).float().view(1, -1)  # (1, 18)\n",
    "\n",
    "        # Get predictions\n",
    "        model.eval()\n",
    "        with torch.no_grad():\n",
    "            p, v = model(observation)  # (1, 9), (1, 1)\n",
    "        p = p.cpu().numpy()[0]  # (9,)\n",
    "        v = v.cpu().numpy()[0][0]  # scalar\n",
    "\n",
    "        # Legal action masking.\n",
    "        p *= action_mask\n",
    "\n",
    "        # Normalizing probabilities\n",
    "        p_sum = p.sum()\n",
    "        if p_sum > 0:\n",
    "            p /= p_sum  # re-normalize\n",
    "        else:\n",
    "            print(\"All valid moves were masked, doing a workaround.\")\n",
    "            p = action_mask / action_mask.sum()\n",
    "\n",
    "        return p, v\n",
    "\n",
    "    def get_action_prob(self, env, temperature=1):\n",
    "        s = tuple(env.observe(env.agents[0])['observation'].flatten())  # (18,)\n",
    "        p = [self.n_sa.get((s, a), 0) for a in range(len(self.p_s[s]))]\n",
    "        p = np.array(p, dtype=np.float32) ** 1 / temperature\n",
    "        return p / p.sum()"
   ],
   "metadata": {
    "collapsed": false
   }
  },
  {
   "cell_type": "markdown",
   "source": [
    "# Helper functions"
   ],
   "metadata": {
    "collapsed": false
   }
  },
  {
   "cell_type": "code",
   "execution_count": 4,
   "outputs": [],
   "source": [
    "def plot(iteration, losses, win_rates, lose_rates):\n",
    "    clear_output(True)\n",
    "    fig, (ax1, ax2) = plt.subplots(1, 2, figsize=(15, 5))\n",
    "    ax1.set_title(f\"Loss. Iteration: {iteration}\")\n",
    "    ax1.plot(losses)\n",
    "    ax2.set_title(f'Win rate and lose rate')\n",
    "    ax2.plot(win_rates, label='Win Rate')\n",
    "    ax2.plot(lose_rates, label='Lose Rate')\n",
    "    ax2.legend()\n",
    "    plt.show()\n",
    "\n",
    "\n",
    "def evaluate(env, model_1, model_2, n_episodes):\n",
    "    wins_1, wins_2 = 0, 0\n",
    "    for _ in tqdm(range(n_episodes), desc='Evaluating'):\n",
    "        env.reset()\n",
    "        mcts_ = MCTS(model_1), MCTS(model_2)\n",
    "        step = 0\n",
    "        while not (env.terminations[env.agent_selection] or env.truncations[env.agent_selection]):\n",
    "            step += 1\n",
    "            mcts = mcts_[int(step % 2 == 0)]\n",
    "\n",
    "            [mcts.simulate(env) for _ in range(25)]\n",
    "            p = mcts.get_action_prob(env)\n",
    "            action = np.random.choice(len(p), p=p)\n",
    "\n",
    "            env.step(action)\n",
    "        r = env.rewards[env.agents[0]]\n",
    "        wins_1 += int(r > 1)\n",
    "        wins_2 += int(r < 1)\n",
    "    return wins_1 / n_episodes, wins_2 / n_episodes\n",
    "\n",
    "\n",
    "def self_play(env, mcts: MCTS):\n",
    "    tuples = []\n",
    "    env.reset()\n",
    "    while not (env.terminations[env.agent_selection] or env.truncations[env.agent_selection]):\n",
    "        [mcts.simulate(env) for _ in range(100)]\n",
    "        p = mcts.get_action_prob(env)\n",
    "        action = np.random.choice(len(p), p=p)\n",
    "        tuples.append([env.observe(env.agent_selection)['observation'], p, env.agent_selection])\n",
    "\n",
    "        env.step(action)\n",
    "    for tup in tuples:\n",
    "        tup[2] = env.rewards[tup[2]]\n",
    "    return tuples"
   ],
   "metadata": {
    "collapsed": false
   }
  },
  {
   "cell_type": "markdown",
   "source": [
    "# Initialization"
   ],
   "metadata": {
    "collapsed": false
   }
  },
  {
   "cell_type": "code",
   "execution_count": 5,
   "outputs": [],
   "source": [
    "env = tictactoe_v3.env()\n",
    "n_actions = env.action_space(env.possible_agents[0]).n\n",
    "n_inputs = env.observation_space(env.possible_agents[0])['observation'].sample().flatten().shape[0]\n",
    "\n",
    "device = 'cpu'\n",
    "model = AlphaZeroModel(n_inputs, n_actions).to(device)\n",
    "old_model = deepcopy(model)\n",
    "optimizer = Adam(model.parameters(), lr=1e-4, weight_decay=1e-6)\n",
    "\n",
    "losses = []\n",
    "win_rates = []\n",
    "lose_rates = []\n",
    "dataset = deque([], maxlen=25000)"
   ],
   "metadata": {
    "collapsed": false
   }
  },
  {
   "cell_type": "markdown",
   "source": [
    "# Training"
   ],
   "metadata": {
    "collapsed": false
   }
  },
  {
   "cell_type": "code",
   "execution_count": 6,
   "outputs": [
    {
     "data": {
      "text/plain": "<Figure size 1500x500 with 2 Axes>",
      "image/png": "[encoded data removed]"
     },
     "metadata": {},
     "output_type": "display_data"
    }
   ],
   "source": [
    "for iteration in range(25):\n",
    "    \"\"\" Self Play \"\"\"\n",
    "    for _ in tqdm(range(25), desc='Self-Play'):\n",
    "        mcts = MCTS(model)\n",
    "        dataset += self_play(env, mcts)\n",
    "\n",
    "    \"\"\" Train \"\"\"\n",
    "    model.train()\n",
    "    for epoch in tqdm(range(10), desc='Training'):\n",
    "        loss_mean = MeanMetric()\n",
    "        for state, p, v in DataLoader(dataset, batch_size=16, shuffle=True):\n",
    "            p_pred, v_pred = model(state.float().to(device))\n",
    "            loss = (v.to(device) - v_pred).pow(2).mean() - (p.to(device) * p_pred.log()).mean()\n",
    "\n",
    "            optimizer.zero_grad()\n",
    "            loss.backward()\n",
    "            optimizer.step()\n",
    "\n",
    "            loss_mean(loss.item())\n",
    "        losses.append(loss_mean.compute())\n",
    "\n",
    "    \"\"\" Evaluate \"\"\"\n",
    "    wins_0, loses_0 = evaluate(env, model, old_model, 10)\n",
    "    loses_1, wins_1 = evaluate(env, old_model, model, 10)\n",
    "\n",
    "    win_rates.append((wins_0 + wins_1) / 2)\n",
    "    lose_rates.append((loses_0 + loses_1) / 2)\n",
    "\n",
    "    if win_rates[-1] > lose_rates[-1]:\n",
    "        old_model = deepcopy(model)\n",
    "\n",
    "    plot(iteration, losses, win_rates, lose_rates)"
   ],
   "metadata": {
    "collapsed": false
   }
  },
  {
   "cell_type": "markdown",
   "source": [
    "# Debugging stuff"
   ],
   "metadata": {
    "collapsed": false
   }
  },
  {
   "cell_type": "code",
   "execution_count": 7,
   "outputs": [],
   "source": [
    "def human_readable_s(s):\n",
    "    \"\"\"For debugging purposes\"\"\"\n",
    "    ns = np.zeros((3, 3, 3))\n",
    "    ns[:, :, 1:] = np.array(s).reshape((3, 3, 2))\n",
    "    return ns.argmax(axis=2)\n",
    "\n",
    "def machine_readable_s(s, player=1):\n",
    "    \"\"\"Opposite of human_readable_s\"\"\"\n",
    "    # s = (\n",
    "    #     [1, 0, 0],\n",
    "    #     [0, 0, 0],\n",
    "    #     [2, 1, 0],\n",
    "    # )\n",
    "    ns = np.zeros((3, 3, 3), dtype=np.int8)\n",
    "    for i in range(3):\n",
    "        for j in range(3):\n",
    "            if player == 1:\n",
    "                ns[i, j, s[i][j]] = 1\n",
    "            else:\n",
    "                ns[i, j, 2 - s[i][j]] = 1\n",
    "    if player == 1:\n",
    "        ns = ns[:, :, 1:]  # (3, 3, 2)\n",
    "    else:\n",
    "        ns = ns[:, :, :2]\n",
    "    # ns = tuple(ns.flatten())\n",
    "    return ns"
   ],
   "metadata": {
    "collapsed": false
   }
  },
  {
   "cell_type": "code",
   "execution_count": 8,
   "outputs": [
    {
     "data": {
      "text/plain": "(tensor([[5.5508e-05, 4.9465e-01, 4.1181e-05, 3.8924e-01, 5.2438e-04, 4.2851e-04,\n          1.5856e-02, 9.9165e-02, 4.0150e-05]], grad_fn=<SoftmaxBackward0>),\n tensor([[0.0311]], grad_fn=<TanhBackward0>))"
     },
     "execution_count": 8,
     "metadata": {},
     "output_type": "execute_result"
    }
   ],
   "source": [
    "s = (\n",
    "    [1, 0, 1],\n",
    "    [0, 2, 2],\n",
    "    [0, 0, 1],\n",
    ")\n",
    "sm = machine_readable_s(s, player=2)\n",
    "sm = torch.tensor(sm).float().unsqueeze(0).to(device)\n",
    "model.eval()\n",
    "p, v = model(sm)\n",
    "p, v"
   ],
   "metadata": {
    "collapsed": false
   }
  },
  {
   "cell_type": "markdown",
   "source": [
    "# Debugging stuff for connect4"
   ],
   "metadata": {
    "collapsed": false
   }
  },
  {
   "cell_type": "code",
   "execution_count": null,
   "outputs": [],
   "source": [
    "def human_readable_s(s):\n",
    "    \"\"\"For debugging purposes\"\"\"\n",
    "    ns = np.zeros((6, 7, 3))\n",
    "    ns[:, :, 1:] = np.array(s).reshape((6, 7, 2))\n",
    "    return ns.argmax(axis=2)\n",
    "\n",
    "def machine_readable_s(s, player=1):\n",
    "    \"\"\"Opposite of human_readable_s\"\"\"\n",
    "    # s = (\n",
    "    #     [0, 0, 0, 0, 0, 0, 0],\n",
    "    #     [0, 0, 0, 0, 0, 0, 0],\n",
    "    #     [0, 0, 0, 0, 0, 0, 0],\n",
    "    #     [0, 0, 0, 0, 0, 0, 0],\n",
    "    #     [0, 0, 0, 0, 0, 0, 0],\n",
    "    #     [0, 0, 0, 0, 0, 0, 0],\n",
    "    # )\n",
    "    ns = np.zeros((6, 7, 3), dtype=np.int8)\n",
    "    for i in range(6):\n",
    "        for j in range(7):\n",
    "            if player == 1:\n",
    "                ns[i, j, s[i][j]] = 1\n",
    "            else:\n",
    "                ns[i, j, 2 - s[i][j]] = 1\n",
    "    if player == 1:\n",
    "        ns = ns[:, :, 1:]  # (3, 3, 2)\n",
    "    else:\n",
    "        ns = ns[:, :, :2]\n",
    "    # ns = tuple(ns.flatten())\n",
    "    return ns"
   ],
   "metadata": {
    "collapsed": false
   }
  },
  {
   "cell_type": "markdown",
   "source": [
    "# Sample Gameplay"
   ],
   "metadata": {
    "collapsed": false
   }
  },
  {
   "cell_type": "code",
   "execution_count": null,
   "outputs": [],
   "source": [
    "env.reset()\n",
    "mcts = MCTS(model)"
   ],
   "metadata": {
    "collapsed": false
   }
  },
  {
   "cell_type": "code",
   "execution_count": null,
   "outputs": [],
   "source": [
    "[mcts.simulate(env) for _ in range(25)]\n",
    "p = mcts.get_action_prob(env)\n",
    "# action = np.random.choice(len(p), p=p)\n",
    "action = p.argmax()\n",
    "print(f'{p=}\\n{action=}\\n{env.agent_selection=}')\n",
    "\n",
    "env.step(action)\n",
    "print(f'{env.rewards=}')\n",
    "human_readable_s(env.observe(env.agents[0])['observation'])"
   ],
   "metadata": {
    "collapsed": false
   }
  },
  {
   "cell_type": "markdown",
   "source": [
    "# Testing Model"
   ],
   "metadata": {
    "collapsed": false
   }
  },
  {
   "cell_type": "code",
   "execution_count": null,
   "outputs": [],
   "source": [
    "s = (\n",
    "    [0, 0, 0, 0, 0, 0, 0],\n",
    "    [0, 0, 0, 0, 0, 0, 0],\n",
    "    [0, 0, 0, 0, 0, 0, 0],\n",
    "    [0, 0, 0, 2, 0, 1, 0],\n",
    "    [0, 0, 0, 2, 1, 2, 0],\n",
    "    [1, 1, 1, 2, 1, 2, 0],\n",
    ")\n",
    "sm = machine_readable_s(s, player=2)\n",
    "sm = torch.tensor(sm).float().unsqueeze(0).to(device)\n",
    "model.eval()\n",
    "p, v = model(sm)\n",
    "p.detach().numpy(), v.item()"
   ],
   "metadata": {
    "collapsed": false
   }
  },
  {
   "cell_type": "markdown",
   "source": [
    "# Testing MCTS"
   ],
   "metadata": {
    "collapsed": false
   }
  },
  {
   "cell_type": "code",
   "execution_count": null,
   "outputs": [],
   "source": [
    "env.reset()\n",
    "mcts = MCTS(model)\n",
    "_ = [mcts.simulate(env) for _ in tqdm(range(50000))]"
   ],
   "metadata": {
    "collapsed": false
   }
  },
  {
   "cell_type": "code",
   "execution_count": null,
   "outputs": [],
   "source": [
    "s = (\n",
    "    [0, 0, 0, 0, 0, 0, 0],\n",
    "    [0, 0, 0, 0, 0, 0, 0],\n",
    "    [0, 0, 0, 0, 0, 0, 0],\n",
    "    [0, 0, 0, 0, 0, 0, 0],\n",
    "    [0, 0, 1, 2, 0, 0, 0],\n",
    "    [0, 1, 2, 1, 0, 1, 2],\n",
    ")\n",
    "sm = tuple(machine_readable_s(s).flatten())\n",
    "mcts.p_s.get(sm)"
   ],
   "metadata": {
    "collapsed": false
   }
  },
  {
   "cell_type": "code",
   "execution_count": null,
   "outputs": [],
   "source": [
    "[mcts.q_sa.get((sm, a), '') for a in range(7)]"
   ],
   "metadata": {
    "collapsed": false
   }
  },
  {
   "cell_type": "code",
   "execution_count": null,
   "outputs": [],
   "source": [
    "[mcts.n_sa.get((sm, a), '') for a in range(7)]"
   ],
   "metadata": {
    "collapsed": false
   }
  }
 ],
 "metadata": {
  "kernelspec": {
   "display_name": "Python 3",
   "language": "python",
   "name": "python3"
  },
  "language_info": {
   "codemirror_mode": {
    "name": "ipython",
    "version": 2
   },
   "file_extension": ".py",
   "mimetype": "text/x-python",
   "name": "python",
   "nbconvert_exporter": "python",
   "pygments_lexer": "ipython2",
   "version": "2.7.6"
  }
 },
 "nbformat": 4,
 "nbformat_minor": 0
}
